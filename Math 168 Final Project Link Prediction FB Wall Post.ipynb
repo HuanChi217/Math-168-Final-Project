{
 "cells": [
  {
   "cell_type": "markdown",
   "id": "388a0eb8",
   "metadata": {},
   "source": [
    "# Spring 2022 Math168 Final Project \n",
    "## Group name: Petwork Pawfessionals  \n",
    "### Members: Jaya Ren, Laura Li, Chris Li  \n",
    "\n",
    "\n",
    "## Scientific questions: \n",
    "How do online user interactions evolve over time? What factors contribute to stable online relationships? Can we predict the stability of relationship between two users based on their history of interactions? These questions are not only important to individual users, but also to owners/developers of the online communities for understanding and predicting user behaviors and preferences.  \n",
    "To address this problem, we plan to examine the relationship between pairs of users based on the posts between users where each post will form an edge between two users, and how it has changed over time.   \n",
    "To analyze the graph we created, we plan to first develop some features to measure the active-\n",
    "ness/stability of users by exploring features of the given network data, including clustering coefficient,\n",
    "community detection, Jaccard coefficient, etc. The result will show the brief overview of users interaction in the social media platform of our choice.  \n",
    "After we understand both link structure and their behavior, we plan to develop some predictive models with some model improvement techiques that make a prediction of users interaction in near future.  "
   ]
  },
  {
   "cell_type": "markdown",
   "id": "4fa6a1ce",
   "metadata": {},
   "source": [
    "## Anticipated Learnings\n",
    "Our coursework so far has laid a strong foundation for our project: we will be able to apply the knowledge\n",
    "we learned, such as graph structure, to gain a better understanding of the structure of our chosen network, and applying machine learning algorithm.\n",
    "With that being said, there are many methods that we haven’t learned but want to apply to our data,\n",
    "to be specific, the temporal analysis and predictive analysis. However, they are crucial to achieving our\n",
    "goal of this project: temporal analysis will help us understand how online social relationships evolve,\n",
    "while predictive analysis will help us understand this even further. These two methods together will\n",
    "help provide great insights to the stability of online communication, which we can further build upon to\n",
    "provide suggestions for a healthier and stabler online community. We are very excited about our project\n",
    "and will be very proud of what we learn.\n"
   ]
  },
  {
   "cell_type": "markdown",
   "id": "34546c8a",
   "metadata": {},
   "source": [
    "# <span style=\"color:red\">Warning!</span>\n",
    "## Since we have a giantic data (almost 1M of edges), it could take hours or longer to process the program. We are really sorry if it crashed your computer and appreciate your patience and understanding."
   ]
  },
  {
   "cell_type": "markdown",
   "id": "c2af9d37",
   "metadata": {},
   "source": [
    "# Import packages"
   ]
  },
  {
   "cell_type": "code",
   "execution_count": 1,
   "id": "47d09107",
   "metadata": {},
   "outputs": [],
   "source": [
    "import pandas as pd\n",
    "import numpy as np\n",
    "import random\n",
    "import networkx as nx\n",
    "import matplotlib.pyplot as plt\n",
    "from sklearn.linear_model import LogisticRegression\n",
    "from sklearn.metrics import classification_report, roc_auc_score\n",
    "from sklearn import metrics\n",
    "import matplotlib.pyplot as plt\n",
    "import seaborn as sns\n",
    "from sklearn.inspection import permutation_importance\n",
    "%matplotlib inline\n",
    "import warnings\n",
    "warnings.filterwarnings('ignore')"
   ]
  },
  {
   "cell_type": "markdown",
   "id": "a47c4945",
   "metadata": {},
   "source": [
    "# Data Preparation"
   ]
  },
  {
   "cell_type": "markdown",
   "id": "f633c70b",
   "metadata": {},
   "source": [
    "## Split data (7:3)"
   ]
  },
  {
   "cell_type": "code",
   "execution_count": 2,
   "id": "e6f78f4f",
   "metadata": {},
   "outputs": [],
   "source": [
    "train = pd.read_csv(\"before.csv\")\n",
    "test = pd.read_csv(\"after.csv\")"
   ]
  },
  {
   "cell_type": "code",
   "execution_count": 3,
   "id": "a578901d",
   "metadata": {},
   "outputs": [
    {
     "data": {
      "text/plain": [
       "0.7"
      ]
     },
     "execution_count": 3,
     "metadata": {},
     "output_type": "execute_result"
    }
   ],
   "source": [
    "np.round(len(train) / (len(test) + len(train)), 2)"
   ]
  },
  {
   "cell_type": "code",
   "execution_count": 4,
   "id": "7c208bb7",
   "metadata": {},
   "outputs": [
    {
     "data": {
      "text/plain": [
       "0.3"
      ]
     },
     "execution_count": 4,
     "metadata": {},
     "output_type": "execute_result"
    }
   ],
   "source": [
    "np.round(len(test) / (len(test) + len(train)), 2)"
   ]
  },
  {
   "cell_type": "code",
   "execution_count": 5,
   "id": "399a33dc",
   "metadata": {},
   "outputs": [],
   "source": [
    "train = train.rename(columns = {\"from\": \"source\", \"to\": \"target\"})[[\"source\", \"target\"]]\n",
    "test = test.rename(columns = {\"from\":\"source\", \"to\":\"target\"})[[\"source\", \"target\"]]"
   ]
  },
  {
   "cell_type": "code",
   "execution_count": 6,
   "id": "fd9c3dbe",
   "metadata": {},
   "outputs": [],
   "source": [
    "train_nodes = np.unique(np.concatenate([train.source, train.target]))\n",
    "\n",
    "# we are only going to attempt to make predictions about the existence of an \n",
    "# edge between two nodes in cases when both nodes had at least one edge \n",
    "# in the training data. \n",
    "\n",
    "test[\"found_source\"] = test.source.map(lambda x: x in train_nodes)\n",
    "test[\"found_target\"] = test.target.map(lambda x: x in train_nodes)\n",
    "test = test[test.found_source & test.found_target]\n",
    "test = test.drop(['found_source', 'found_target'], axis = 1)"
   ]
  },
  {
   "cell_type": "code",
   "execution_count": 7,
   "id": "44ca5240",
   "metadata": {},
   "outputs": [],
   "source": [
    "train   = train.groupby([\"source\", \"target\"]).count().reset_index()\n",
    "test    = test.groupby([\"source\", \"target\"]).count().reset_index()"
   ]
  },
  {
   "cell_type": "code",
   "execution_count": 8,
   "id": "5b9d4a64",
   "metadata": {},
   "outputs": [
    {
     "data": {
      "text/plain": [
       "0.83"
      ]
     },
     "execution_count": 8,
     "metadata": {},
     "output_type": "execute_result"
    }
   ],
   "source": [
    "np.round(len(train) / (len(test) + len(train)), 2)"
   ]
  },
  {
   "cell_type": "code",
   "execution_count": 9,
   "id": "3b8b5547",
   "metadata": {},
   "outputs": [
    {
     "data": {
      "text/plain": [
       "0.17"
      ]
     },
     "execution_count": 9,
     "metadata": {},
     "output_type": "execute_result"
    }
   ],
   "source": [
    "np.round(len(test) / (len(test) + len(train)), 2)"
   ]
  },
  {
   "cell_type": "markdown",
   "id": "b2472a9b",
   "metadata": {},
   "source": [
    "After filtering the data, our training set and testing set ratio is approximately 8:2 "
   ]
  },
  {
   "cell_type": "code",
   "execution_count": 10,
   "id": "a32cec95",
   "metadata": {},
   "outputs": [
    {
     "data": {
      "text/html": [
       "<div>\n",
       "<style scoped>\n",
       "    .dataframe tbody tr th:only-of-type {\n",
       "        vertical-align: middle;\n",
       "    }\n",
       "\n",
       "    .dataframe tbody tr th {\n",
       "        vertical-align: top;\n",
       "    }\n",
       "\n",
       "    .dataframe thead th {\n",
       "        text-align: right;\n",
       "    }\n",
       "</style>\n",
       "<table border=\"1\" class=\"dataframe\">\n",
       "  <thead>\n",
       "    <tr style=\"text-align: right;\">\n",
       "      <th></th>\n",
       "      <th>source</th>\n",
       "      <th>target</th>\n",
       "    </tr>\n",
       "  </thead>\n",
       "  <tbody>\n",
       "    <tr>\n",
       "      <th>0</th>\n",
       "      <td>1</td>\n",
       "      <td>20</td>\n",
       "    </tr>\n",
       "    <tr>\n",
       "      <th>1</th>\n",
       "      <td>2</td>\n",
       "      <td>3</td>\n",
       "    </tr>\n",
       "    <tr>\n",
       "      <th>2</th>\n",
       "      <td>2</td>\n",
       "      <td>9</td>\n",
       "    </tr>\n",
       "    <tr>\n",
       "      <th>3</th>\n",
       "      <td>2</td>\n",
       "      <td>17</td>\n",
       "    </tr>\n",
       "    <tr>\n",
       "      <th>4</th>\n",
       "      <td>2</td>\n",
       "      <td>18</td>\n",
       "    </tr>\n",
       "    <tr>\n",
       "      <th>...</th>\n",
       "      <td>...</td>\n",
       "      <td>...</td>\n",
       "    </tr>\n",
       "    <tr>\n",
       "      <th>232576</th>\n",
       "      <td>63047</td>\n",
       "      <td>63048</td>\n",
       "    </tr>\n",
       "    <tr>\n",
       "      <th>232577</th>\n",
       "      <td>63088</td>\n",
       "      <td>63089</td>\n",
       "    </tr>\n",
       "    <tr>\n",
       "      <th>232578</th>\n",
       "      <td>63138</td>\n",
       "      <td>63238</td>\n",
       "    </tr>\n",
       "    <tr>\n",
       "      <th>232579</th>\n",
       "      <td>63141</td>\n",
       "      <td>63142</td>\n",
       "    </tr>\n",
       "    <tr>\n",
       "      <th>232580</th>\n",
       "      <td>63322</td>\n",
       "      <td>63333</td>\n",
       "    </tr>\n",
       "  </tbody>\n",
       "</table>\n",
       "<p>232581 rows × 2 columns</p>\n",
       "</div>"
      ],
      "text/plain": [
       "        source  target\n",
       "0            1      20\n",
       "1            2       3\n",
       "2            2       9\n",
       "3            2      17\n",
       "4            2      18\n",
       "...        ...     ...\n",
       "232576   63047   63048\n",
       "232577   63088   63089\n",
       "232578   63138   63238\n",
       "232579   63141   63142\n",
       "232580   63322   63333\n",
       "\n",
       "[232581 rows x 2 columns]"
      ]
     },
     "execution_count": 10,
     "metadata": {},
     "output_type": "execute_result"
    }
   ],
   "source": [
    "train"
   ]
  },
  {
   "cell_type": "code",
   "execution_count": 11,
   "id": "8aefff70",
   "metadata": {
    "scrolled": true
   },
   "outputs": [
    {
     "data": {
      "text/html": [
       "<div>\n",
       "<style scoped>\n",
       "    .dataframe tbody tr th:only-of-type {\n",
       "        vertical-align: middle;\n",
       "    }\n",
       "\n",
       "    .dataframe tbody tr th {\n",
       "        vertical-align: top;\n",
       "    }\n",
       "\n",
       "    .dataframe thead th {\n",
       "        text-align: right;\n",
       "    }\n",
       "</style>\n",
       "<table border=\"1\" class=\"dataframe\">\n",
       "  <thead>\n",
       "    <tr style=\"text-align: right;\">\n",
       "      <th></th>\n",
       "      <th>source</th>\n",
       "      <th>target</th>\n",
       "    </tr>\n",
       "  </thead>\n",
       "  <tbody>\n",
       "    <tr>\n",
       "      <th>0</th>\n",
       "      <td>1</td>\n",
       "      <td>24</td>\n",
       "    </tr>\n",
       "    <tr>\n",
       "      <th>1</th>\n",
       "      <td>3</td>\n",
       "      <td>4223</td>\n",
       "    </tr>\n",
       "    <tr>\n",
       "      <th>2</th>\n",
       "      <td>13</td>\n",
       "      <td>1008</td>\n",
       "    </tr>\n",
       "    <tr>\n",
       "      <th>3</th>\n",
       "      <td>13</td>\n",
       "      <td>3208</td>\n",
       "    </tr>\n",
       "    <tr>\n",
       "      <th>4</th>\n",
       "      <td>13</td>\n",
       "      <td>3212</td>\n",
       "    </tr>\n",
       "    <tr>\n",
       "      <th>...</th>\n",
       "      <td>...</td>\n",
       "      <td>...</td>\n",
       "    </tr>\n",
       "    <tr>\n",
       "      <th>49111</th>\n",
       "      <td>61664</td>\n",
       "      <td>61665</td>\n",
       "    </tr>\n",
       "    <tr>\n",
       "      <th>49112</th>\n",
       "      <td>61958</td>\n",
       "      <td>61959</td>\n",
       "    </tr>\n",
       "    <tr>\n",
       "      <th>49113</th>\n",
       "      <td>62055</td>\n",
       "      <td>62056</td>\n",
       "    </tr>\n",
       "    <tr>\n",
       "      <th>49114</th>\n",
       "      <td>62713</td>\n",
       "      <td>62714</td>\n",
       "    </tr>\n",
       "    <tr>\n",
       "      <th>49115</th>\n",
       "      <td>62881</td>\n",
       "      <td>62882</td>\n",
       "    </tr>\n",
       "  </tbody>\n",
       "</table>\n",
       "<p>49116 rows × 2 columns</p>\n",
       "</div>"
      ],
      "text/plain": [
       "       source  target\n",
       "0           1      24\n",
       "1           3    4223\n",
       "2          13    1008\n",
       "3          13    3208\n",
       "4          13    3212\n",
       "...       ...     ...\n",
       "49111   61664   61665\n",
       "49112   61958   61959\n",
       "49113   62055   62056\n",
       "49114   62713   62714\n",
       "49115   62881   62882\n",
       "\n",
       "[49116 rows x 2 columns]"
      ]
     },
     "execution_count": 11,
     "metadata": {},
     "output_type": "execute_result"
    }
   ],
   "source": [
    "test"
   ]
  },
  {
   "cell_type": "code",
   "execution_count": 12,
   "id": "f16bad55",
   "metadata": {},
   "outputs": [],
   "source": [
    "G_train = nx.from_pandas_edgelist(train)\n",
    "G_test = nx.from_pandas_edgelist(test)"
   ]
  },
  {
   "cell_type": "code",
   "execution_count": 13,
   "id": "338a3b91",
   "metadata": {},
   "outputs": [
    {
     "name": "stdout",
     "output_type": "stream",
     "text": [
      "Graph with 42166 nodes and 232581 edges\n"
     ]
    }
   ],
   "source": [
    "print(G_train)"
   ]
  },
  {
   "cell_type": "code",
   "execution_count": 14,
   "id": "22279749",
   "metadata": {},
   "outputs": [
    {
     "name": "stdout",
     "output_type": "stream",
     "text": [
      "Graph with 24965 nodes and 49116 edges\n"
     ]
    }
   ],
   "source": [
    "print(G_test)"
   ]
  },
  {
   "cell_type": "code",
   "execution_count": 15,
   "id": "67ec6540",
   "metadata": {},
   "outputs": [],
   "source": [
    "train_w_neg = pd.read_csv(\"before_fake_edges.csv\")\n",
    "test_w_neg = pd.read_csv(\"after_fake_edges.csv\")"
   ]
  },
  {
   "cell_type": "code",
   "execution_count": 16,
   "id": "6d173a66",
   "metadata": {},
   "outputs": [],
   "source": [
    "def add_negative_examples(G ,df):\n",
    "\n",
    "    # new copy of input data frame, with a new column\n",
    "    df_ = df\n",
    "    df_[\"link\"] = 1\n",
    "\n",
    "    node_list = np.array(list(dict(G.nodes)))\n",
    "    \n",
    "    G = nx.from_pandas_edgelist(df_)\n",
    "    edge = list(G.edges)\n",
    "    negative = pd.DataFrame(columns = ['source', 'target'])\n",
    "    node_list.sort()\n",
    "    n = int(G.number_of_nodes() / 10)\n",
    "    m = int(G.number_of_edges() * 3 / n)\n",
    "    node_list_without_l = [x for x in node_list if x not in node_list[-(m+10):]]\n",
    "    \n",
    "    for i in range(n):\n",
    "        node_1 = random.choice(np.asarray(node_list_without_l))\n",
    "        connected_nodes = [n for _, n in G.edges(node_1)]\n",
    "        feasible_nodes = [feasible_n for feasible_n in node_list[node_list > node_1] if feasible_n not in connected_nodes + [node_1]]\n",
    "        node_1_c = list(np.ones(m, dtype=int) * node_1)\n",
    "        node_2 = list(np.random.choice(feasible_nodes, m, False))\n",
    "        combined = pd.DataFrame({\"source\":node_1_c,\"target\":node_2})\n",
    "        negative = negative.append(combined, ignore_index=True)\n",
    "        node_list = np.delete(node_list, np.where(node_list == node_1))\n",
    "        \n",
    "    # add real data and make a column distinguishing positive from negative examples\n",
    "    merged_df = df_.append(negative, ignore_index=True)\n",
    "    merged_df[\"link\"] = merged_df[\"link\"] == 1\n",
    "    return merged_df"
   ]
  },
  {
   "cell_type": "code",
   "execution_count": 17,
   "id": "14744695",
   "metadata": {},
   "outputs": [],
   "source": [
    "# train_w_neg = add_negative_examples(G_train, train)"
   ]
  },
  {
   "cell_type": "code",
   "execution_count": 18,
   "id": "20f6cd51",
   "metadata": {},
   "outputs": [],
   "source": [
    "# train_w_neg.sort_values(\"link\", ascending = False)"
   ]
  },
  {
   "cell_type": "code",
   "execution_count": 19,
   "id": "a0a6b686",
   "metadata": {},
   "outputs": [],
   "source": [
    "# Storing data\n",
    "# train_w_neg.to_csv('before_fake_edges.csv',index=False)"
   ]
  },
  {
   "cell_type": "code",
   "execution_count": 20,
   "id": "db994991",
   "metadata": {},
   "outputs": [],
   "source": [
    "# train_w_neg[\"link\"].mean()"
   ]
  },
  {
   "cell_type": "markdown",
   "id": "778d96ec",
   "metadata": {},
   "source": [
    "## Compute Features "
   ]
  },
  {
   "cell_type": "markdown",
   "id": "4c93c90b",
   "metadata": {},
   "source": [
    "1. Degree:  \n",
    "The degree of a node is the number of connections that it has to other nodes in the network.\n",
    "\n",
    "\n",
    "2. Degree Centrality:  \n",
    "The degree centrality values are normalized by dividing by the maximum possible degree in a simple graph n-1 where n is the number of nodes in G.\n",
    "\n",
    "\n",
    "3. Clustering Coefficient:  \n",
    "In graph theory, a clustering coefficient is a measure of the degree to which nodes in a graph tend to cluster together.\n",
    "\n",
    "\n",
    "4. Louvain Communities:\n",
    "Louvain Community Detection Algorithm is a simple method to extract the community structure of a network. This is a heuristic method based on modularity optimization.  \n",
    "\n",
    "\n",
    "5. Greedy Modularity Communities:  \n",
    "This function uses Clauset-Newman-Moore greedy modularity maximization to find the community partition with the largest modularity.\n",
    "\n",
    "\n",
    "6. Jaccard Coefficient:  \n",
    "It is calculated by number of common neighbors normalized by total number of neighbors. It is used to measure the similarity between two finite sample sets, and is defined as the size of the intersection divided by the size of the union of the sample sets.  \n",
    "\n",
    "\n",
    "7. Adamic Adar Index:  \n",
    "The Adamic/Adar index is a measure introduced in 2003 by Lada Adamic and Eytan Adar to predict links in a social network, according to the number of shared links between two nodes. It is defined as the sum of the inverse logarithmic degree centrality of the neighbors shared by the two nodes.  \n",
    "\n",
    "\n",
    "8. Preferential Attachment:  \n",
    "Preferential attachment means that the more connected a node is, the more likely it is to receive new links. Nodes with higher degree gets more neighbors.\n",
    "\n",
    "\n",
    "9. Resource Allocation Index:  \n",
    "Among a number of similarity-based methods to predict missing links in a complex network, Research Allocation Index performs well with lower time complexity. It is defined as a fraction of a resource that a node can send to another through their common neighbors.\n"
   ]
  },
  {
   "cell_type": "code",
   "execution_count": 21,
   "id": "bf46668d",
   "metadata": {},
   "outputs": [],
   "source": [
    "def compute_deg_features(df, G = None):\n",
    "    # make the graph if it's not supplied externally\n",
    "    if not G:\n",
    "        edges = df[df[\"link\"]]\n",
    "        G = nx.from_pandas_edgelist(edges)\n",
    "    # columns for degree of each node in G\n",
    "    df[\"deg_source\"] = df.source.apply(lambda x: G.degree(x))\n",
    "    df[\"deg_target\"] = df.target.apply(lambda x: G.degree(x))\n",
    "    return df"
   ]
  },
  {
   "cell_type": "code",
   "execution_count": 22,
   "id": "316d2570",
   "metadata": {},
   "outputs": [],
   "source": [
    "def compute_deg_cen_features(df, G = None):\n",
    "    # make the graph if it's not supplied externally\n",
    "    if not G:\n",
    "        edges = df[df[\"link\"]]\n",
    "        G = nx.from_pandas_edgelist(edges)\n",
    "    a = [i for i in nx.degree_centrality(G).items()]\n",
    "    a= np.array(a)\n",
    "    df[\"deg_cen_source\"] = df.source.apply(lambda x: a[np.where(a==x)[0][0]][1])\n",
    "    df[\"deg_cen_target\"] = df.target.apply(lambda x: a[np.where(a==x)[0][0]][1])\n",
    "    return df"
   ]
  },
  {
   "cell_type": "code",
   "execution_count": 23,
   "id": "2193b120",
   "metadata": {},
   "outputs": [],
   "source": [
    "def compute_clustering_coeff_features(df, G = None):\n",
    "    # make the graph if it's not supplied externally\n",
    "    if not G:\n",
    "        edges = df[df[\"link\"]]\n",
    "        G = nx.from_pandas_edgelist(edges)\n",
    "    cc = [i for i in nx.clustering(G).items()]\n",
    "    cc = np.array(cc)\n",
    "    df[\"clustering_coeff_source\"] = df.source.apply(lambda x: cc[np.where(cc==x)[0][0]][1])\n",
    "    df[\"clustering_coeff_target\"] = df.target.apply(lambda x: cc[np.where(cc==x)[0][0]][1])\n",
    "    return df"
   ]
  },
  {
   "cell_type": "code",
   "execution_count": 24,
   "id": "acee3485",
   "metadata": {},
   "outputs": [],
   "source": [
    "def compute_comm_features(df, G = None, comm_dict = None):\n",
    "    # make the community labels if not supplied externally. \n",
    "    if not comm_dict: \n",
    "        comm_dict = louvain_communities(G)\n",
    "    # communities of each node in G\n",
    "    comm_source = df.source.apply(lambda x: comm_dict[x])\n",
    "    comm_target = df.target.apply(lambda x: comm_dict[x])\n",
    "\n",
    "    # number of common neighbors -- networkx has a handy function that does\n",
    "    # this for us! Just gotta get a little fancy with the anonymous function \n",
    "    # calls. \n",
    "    df[\"common_neighbors\"] = df[[\"source\", \"target\"]].apply(lambda pair: len(list(nx.common_neighbors(G, pair.source, pair.target))), axis = 1)\n",
    "    \n",
    "    # whether source node and target node are in the same community. \n",
    "    df[\"same_louvain_community\"] = (comm_source == comm_target)\n",
    "    return df"
   ]
  },
  {
   "cell_type": "code",
   "execution_count": 25,
   "id": "50cf57f7",
   "metadata": {},
   "outputs": [],
   "source": [
    "def compute_greedy_modularity_comm_features(df, G = None, comm_dict = None):\n",
    "    # make the community labels if not supplied externally. \n",
    "    if not comm_dict: \n",
    "        comm_dict = greedy_modularity_communities(G)\n",
    "    # communities of each node in G\n",
    "    comm_source = df.source.apply(lambda x: comm_dict[x])\n",
    "    comm_target = df.target.apply(lambda x: comm_dict[x])\n",
    "    \n",
    "    # whether source node and target node are in the same community. \n",
    "    df[\"same_greedy_modularity_community\"] = (comm_source == comm_target)\n",
    "    return df"
   ]
  },
  {
   "cell_type": "code",
   "execution_count": 26,
   "id": "61bf2a80",
   "metadata": {},
   "outputs": [],
   "source": [
    "def louvain_communities(G, return_partition = False):\n",
    "\n",
    "    # run Louvain\n",
    "    comms  = nx.community.louvain_communities(G, resolution = 1)\n",
    "\n",
    "    # process the labels\n",
    "    labels = [l for i in G.nodes for l in range(len(comms)) if i in comms[l]]\n",
    "    node_list = list(G.nodes)\n",
    "    comm_dict = {node_list[i] : labels[i] for i in range(len(node_list))}\n",
    "    \n",
    "    if return_partition:\n",
    "        return comm_dict, comms\n",
    "\n",
    "    return comm_dict"
   ]
  },
  {
   "cell_type": "code",
   "execution_count": 27,
   "id": "b058d0a9",
   "metadata": {},
   "outputs": [],
   "source": [
    "def greedy_modularity_communities(G, return_partition = False):\n",
    "\n",
    "    # run Louvain\n",
    "    comms  = nx.community.greedy_modularity_communities(G, resolution = 1)\n",
    "\n",
    "    # process the labels\n",
    "    labels = [l for i in G.nodes for l in range(len(comms)) if i in comms[l]]\n",
    "    node_list = list(G.nodes)\n",
    "    comm_dict = {node_list[i] : labels[i] for i in range(len(node_list))}\n",
    "    \n",
    "    if return_partition:\n",
    "        return comm_dict, comms\n",
    "\n",
    "    return comm_dict"
   ]
  },
  {
   "cell_type": "code",
   "execution_count": 28,
   "id": "fc82c449",
   "metadata": {},
   "outputs": [],
   "source": [
    "def compute_jaccard_coef(df, G):\n",
    "    J = []\n",
    "    for i in range(df.shape[0]):\n",
    "        a = df['source'][i]\n",
    "        b = df['target'][i]\n",
    "        pred = nx.jaccard_coefficient(G, [(a, b)])\n",
    "        for u, v ,p in pred:\n",
    "            J.append(p)\n",
    "    df['jaccard_coefficient'] = J\n",
    "    return df"
   ]
  },
  {
   "cell_type": "code",
   "execution_count": 29,
   "id": "e4d4b28e",
   "metadata": {},
   "outputs": [],
   "source": [
    "def compute_adamic_adar_index(df, G):\n",
    "    a_a_i = []\n",
    "    for i in range(df.shape[0]):\n",
    "        a = df['source'][i]\n",
    "        b = df['target'][i]\n",
    "        pred = nx.adamic_adar_index(G, [(a, b)])\n",
    "        for u, v ,p in pred:\n",
    "            a_a_i.append(p)\n",
    "    df['adamic_adar_index'] = a_a_i\n",
    "    return df"
   ]
  },
  {
   "cell_type": "code",
   "execution_count": 30,
   "id": "0470876e",
   "metadata": {},
   "outputs": [],
   "source": [
    "def compute_preferential_attachment(df, G):\n",
    "    prefer_a = []\n",
    "    for i in range(df.shape[0]):\n",
    "        a = df['source'][i]\n",
    "        b = df['target'][i]\n",
    "        pred = nx.preferential_attachment(G, [(a, b)])\n",
    "        for u, v ,p in pred:\n",
    "            prefer_a.append(p)\n",
    "    df['preferential_attachment'] = prefer_a\n",
    "    return df"
   ]
  },
  {
   "cell_type": "code",
   "execution_count": 31,
   "id": "f7bddd22",
   "metadata": {},
   "outputs": [],
   "source": [
    "def compute_resource_allocation_index(df, G):\n",
    "    res_allo_idx = []\n",
    "    for i in range(df.shape[0]):\n",
    "        a = df['source'][i]\n",
    "        b = df['target'][i]\n",
    "        pred = nx.resource_allocation_index(G, [(a, b)])\n",
    "        for u, v ,p in pred:\n",
    "            res_allo_idx.append(p)\n",
    "    df['resource_allocation_index'] = res_allo_idx\n",
    "    return df"
   ]
  },
  {
   "cell_type": "code",
   "execution_count": 32,
   "id": "0f397cd5",
   "metadata": {},
   "outputs": [],
   "source": [
    "# comm_dict_train = louvain_communities(G_train)"
   ]
  },
  {
   "cell_type": "code",
   "execution_count": 33,
   "id": "571f389a",
   "metadata": {},
   "outputs": [],
   "source": [
    "# greedy_modularity_dict_train = greedy_modularity_communities(G_train)"
   ]
  },
  {
   "cell_type": "code",
   "execution_count": 34,
   "id": "1568c54e",
   "metadata": {},
   "outputs": [],
   "source": [
    "# train_feat = compute_deg_features(train_w_neg, G_train)"
   ]
  },
  {
   "cell_type": "code",
   "execution_count": 35,
   "id": "80a9f323",
   "metadata": {},
   "outputs": [],
   "source": [
    "# train_feat = compute_deg_cen_features(train_feat, G_train)"
   ]
  },
  {
   "cell_type": "code",
   "execution_count": 36,
   "id": "40f92a3a",
   "metadata": {},
   "outputs": [],
   "source": [
    "# train_feat = compute_clustering_coeff_features(train_feat, G_train)"
   ]
  },
  {
   "cell_type": "code",
   "execution_count": 37,
   "id": "92a5f698",
   "metadata": {},
   "outputs": [],
   "source": [
    "# train_feat = compute_comm_features(train_feat, G_train, comm_dict_train)"
   ]
  },
  {
   "cell_type": "code",
   "execution_count": 38,
   "id": "134274af",
   "metadata": {},
   "outputs": [],
   "source": [
    "# train_feat = compute_greedy_modularity_comm_features(train_feat, G_train, greedy_modularity_dict_train)"
   ]
  },
  {
   "cell_type": "code",
   "execution_count": 39,
   "id": "1209f731",
   "metadata": {},
   "outputs": [],
   "source": [
    "# train_feat = compute_jaccard_coef(train_feat, G_train)"
   ]
  },
  {
   "cell_type": "code",
   "execution_count": 40,
   "id": "cedb713c",
   "metadata": {},
   "outputs": [],
   "source": [
    "# train_feat = compute_adamic_adar_index(train_feat, G_train)"
   ]
  },
  {
   "cell_type": "code",
   "execution_count": 41,
   "id": "08ac2dad",
   "metadata": {},
   "outputs": [],
   "source": [
    "# train_feat = compute_preferential_attachment(train_feat, G_train)"
   ]
  },
  {
   "cell_type": "code",
   "execution_count": 42,
   "id": "0bd74d54",
   "metadata": {},
   "outputs": [],
   "source": [
    "# train_feat = compute_resource_allocation_index(train_feat, G_train)"
   ]
  },
  {
   "cell_type": "code",
   "execution_count": 43,
   "id": "778bc7a3",
   "metadata": {},
   "outputs": [],
   "source": [
    "train_feat = pd.read_csv(\"before_fake_edges_w_features.csv\")"
   ]
  },
  {
   "cell_type": "code",
   "execution_count": 184,
   "id": "98779329",
   "metadata": {},
   "outputs": [
    {
     "data": {
      "text/html": [
       "<div>\n",
       "<style scoped>\n",
       "    .dataframe tbody tr th:only-of-type {\n",
       "        vertical-align: middle;\n",
       "    }\n",
       "\n",
       "    .dataframe tbody tr th {\n",
       "        vertical-align: top;\n",
       "    }\n",
       "\n",
       "    .dataframe thead th {\n",
       "        text-align: right;\n",
       "    }\n",
       "</style>\n",
       "<table border=\"1\" class=\"dataframe\">\n",
       "  <thead>\n",
       "    <tr style=\"text-align: right;\">\n",
       "      <th></th>\n",
       "      <th>source</th>\n",
       "      <th>target</th>\n",
       "      <th>link</th>\n",
       "      <th>deg_source</th>\n",
       "      <th>deg_target</th>\n",
       "      <th>clustering_coeff_source</th>\n",
       "      <th>clustering_coeff_target</th>\n",
       "      <th>common_neighbors</th>\n",
       "      <th>same_louvain_community</th>\n",
       "      <th>same_greedy_modularity_community</th>\n",
       "      <th>jaccard_coefficient</th>\n",
       "      <th>adamic_adar_index</th>\n",
       "      <th>preferential_attachment</th>\n",
       "      <th>resource_allocation_index</th>\n",
       "    </tr>\n",
       "  </thead>\n",
       "  <tbody>\n",
       "    <tr>\n",
       "      <th>0</th>\n",
       "      <td>1</td>\n",
       "      <td>20</td>\n",
       "      <td>True</td>\n",
       "      <td>1</td>\n",
       "      <td>7</td>\n",
       "      <td>0.00</td>\n",
       "      <td>0.00</td>\n",
       "      <td>0</td>\n",
       "      <td>True</td>\n",
       "      <td>True</td>\n",
       "      <td>0.00</td>\n",
       "      <td>0.00</td>\n",
       "      <td>7</td>\n",
       "      <td>0.00</td>\n",
       "    </tr>\n",
       "    <tr>\n",
       "      <th>1</th>\n",
       "      <td>2</td>\n",
       "      <td>3</td>\n",
       "      <td>True</td>\n",
       "      <td>15</td>\n",
       "      <td>15</td>\n",
       "      <td>0.13</td>\n",
       "      <td>0.08</td>\n",
       "      <td>1</td>\n",
       "      <td>True</td>\n",
       "      <td>False</td>\n",
       "      <td>0.03</td>\n",
       "      <td>0.46</td>\n",
       "      <td>225</td>\n",
       "      <td>0.11</td>\n",
       "    </tr>\n",
       "    <tr>\n",
       "      <th>2</th>\n",
       "      <td>2</td>\n",
       "      <td>9</td>\n",
       "      <td>True</td>\n",
       "      <td>15</td>\n",
       "      <td>91</td>\n",
       "      <td>0.13</td>\n",
       "      <td>0.03</td>\n",
       "      <td>2</td>\n",
       "      <td>False</td>\n",
       "      <td>False</td>\n",
       "      <td>0.02</td>\n",
       "      <td>0.75</td>\n",
       "      <td>1365</td>\n",
       "      <td>0.14</td>\n",
       "    </tr>\n",
       "    <tr>\n",
       "      <th>3</th>\n",
       "      <td>2</td>\n",
       "      <td>17</td>\n",
       "      <td>True</td>\n",
       "      <td>15</td>\n",
       "      <td>11</td>\n",
       "      <td>0.13</td>\n",
       "      <td>0.11</td>\n",
       "      <td>3</td>\n",
       "      <td>True</td>\n",
       "      <td>True</td>\n",
       "      <td>0.13</td>\n",
       "      <td>1.22</td>\n",
       "      <td>165</td>\n",
       "      <td>0.29</td>\n",
       "    </tr>\n",
       "    <tr>\n",
       "      <th>4</th>\n",
       "      <td>2</td>\n",
       "      <td>18</td>\n",
       "      <td>True</td>\n",
       "      <td>15</td>\n",
       "      <td>10</td>\n",
       "      <td>0.13</td>\n",
       "      <td>0.04</td>\n",
       "      <td>2</td>\n",
       "      <td>True</td>\n",
       "      <td>True</td>\n",
       "      <td>0.09</td>\n",
       "      <td>0.63</td>\n",
       "      <td>150</td>\n",
       "      <td>0.11</td>\n",
       "    </tr>\n",
       "    <tr>\n",
       "      <th>...</th>\n",
       "      <td>...</td>\n",
       "      <td>...</td>\n",
       "      <td>...</td>\n",
       "      <td>...</td>\n",
       "      <td>...</td>\n",
       "      <td>...</td>\n",
       "      <td>...</td>\n",
       "      <td>...</td>\n",
       "      <td>...</td>\n",
       "      <td>...</td>\n",
       "      <td>...</td>\n",
       "      <td>...</td>\n",
       "      <td>...</td>\n",
       "      <td>...</td>\n",
       "    </tr>\n",
       "    <tr>\n",
       "      <th>928216</th>\n",
       "      <td>38155</td>\n",
       "      <td>46371</td>\n",
       "      <td>False</td>\n",
       "      <td>2</td>\n",
       "      <td>1</td>\n",
       "      <td>1.00</td>\n",
       "      <td>0.00</td>\n",
       "      <td>0</td>\n",
       "      <td>False</td>\n",
       "      <td>False</td>\n",
       "      <td>0.00</td>\n",
       "      <td>0.00</td>\n",
       "      <td>2</td>\n",
       "      <td>0.00</td>\n",
       "    </tr>\n",
       "    <tr>\n",
       "      <th>928217</th>\n",
       "      <td>38155</td>\n",
       "      <td>55343</td>\n",
       "      <td>False</td>\n",
       "      <td>2</td>\n",
       "      <td>2</td>\n",
       "      <td>1.00</td>\n",
       "      <td>0.00</td>\n",
       "      <td>0</td>\n",
       "      <td>False</td>\n",
       "      <td>False</td>\n",
       "      <td>0.00</td>\n",
       "      <td>0.00</td>\n",
       "      <td>4</td>\n",
       "      <td>0.00</td>\n",
       "    </tr>\n",
       "    <tr>\n",
       "      <th>928218</th>\n",
       "      <td>38155</td>\n",
       "      <td>40751</td>\n",
       "      <td>False</td>\n",
       "      <td>2</td>\n",
       "      <td>3</td>\n",
       "      <td>1.00</td>\n",
       "      <td>0.33</td>\n",
       "      <td>0</td>\n",
       "      <td>False</td>\n",
       "      <td>False</td>\n",
       "      <td>0.00</td>\n",
       "      <td>0.00</td>\n",
       "      <td>6</td>\n",
       "      <td>0.00</td>\n",
       "    </tr>\n",
       "    <tr>\n",
       "      <th>928219</th>\n",
       "      <td>38155</td>\n",
       "      <td>42967</td>\n",
       "      <td>False</td>\n",
       "      <td>2</td>\n",
       "      <td>5</td>\n",
       "      <td>1.00</td>\n",
       "      <td>0.40</td>\n",
       "      <td>0</td>\n",
       "      <td>False</td>\n",
       "      <td>False</td>\n",
       "      <td>0.00</td>\n",
       "      <td>0.00</td>\n",
       "      <td>10</td>\n",
       "      <td>0.00</td>\n",
       "    </tr>\n",
       "    <tr>\n",
       "      <th>928220</th>\n",
       "      <td>38155</td>\n",
       "      <td>39784</td>\n",
       "      <td>False</td>\n",
       "      <td>2</td>\n",
       "      <td>22</td>\n",
       "      <td>1.00</td>\n",
       "      <td>0.24</td>\n",
       "      <td>0</td>\n",
       "      <td>False</td>\n",
       "      <td>False</td>\n",
       "      <td>0.00</td>\n",
       "      <td>0.00</td>\n",
       "      <td>44</td>\n",
       "      <td>0.00</td>\n",
       "    </tr>\n",
       "  </tbody>\n",
       "</table>\n",
       "<p>928221 rows × 14 columns</p>\n",
       "</div>"
      ],
      "text/plain": [
       "        source  target   link  deg_source  deg_target  \\\n",
       "0            1      20   True           1           7   \n",
       "1            2       3   True          15          15   \n",
       "2            2       9   True          15          91   \n",
       "3            2      17   True          15          11   \n",
       "4            2      18   True          15          10   \n",
       "...        ...     ...    ...         ...         ...   \n",
       "928216   38155   46371  False           2           1   \n",
       "928217   38155   55343  False           2           2   \n",
       "928218   38155   40751  False           2           3   \n",
       "928219   38155   42967  False           2           5   \n",
       "928220   38155   39784  False           2          22   \n",
       "\n",
       "        clustering_coeff_source  clustering_coeff_target  common_neighbors  \\\n",
       "0                          0.00                     0.00                 0   \n",
       "1                          0.13                     0.08                 1   \n",
       "2                          0.13                     0.03                 2   \n",
       "3                          0.13                     0.11                 3   \n",
       "4                          0.13                     0.04                 2   \n",
       "...                         ...                      ...               ...   \n",
       "928216                     1.00                     0.00                 0   \n",
       "928217                     1.00                     0.00                 0   \n",
       "928218                     1.00                     0.33                 0   \n",
       "928219                     1.00                     0.40                 0   \n",
       "928220                     1.00                     0.24                 0   \n",
       "\n",
       "        same_louvain_community  same_greedy_modularity_community  \\\n",
       "0                         True                              True   \n",
       "1                         True                             False   \n",
       "2                        False                             False   \n",
       "3                         True                              True   \n",
       "4                         True                              True   \n",
       "...                        ...                               ...   \n",
       "928216                   False                             False   \n",
       "928217                   False                             False   \n",
       "928218                   False                             False   \n",
       "928219                   False                             False   \n",
       "928220                   False                             False   \n",
       "\n",
       "        jaccard_coefficient  adamic_adar_index  preferential_attachment  \\\n",
       "0                      0.00               0.00                        7   \n",
       "1                      0.03               0.46                      225   \n",
       "2                      0.02               0.75                     1365   \n",
       "3                      0.13               1.22                      165   \n",
       "4                      0.09               0.63                      150   \n",
       "...                     ...                ...                      ...   \n",
       "928216                 0.00               0.00                        2   \n",
       "928217                 0.00               0.00                        4   \n",
       "928218                 0.00               0.00                        6   \n",
       "928219                 0.00               0.00                       10   \n",
       "928220                 0.00               0.00                       44   \n",
       "\n",
       "        resource_allocation_index  \n",
       "0                            0.00  \n",
       "1                            0.11  \n",
       "2                            0.14  \n",
       "3                            0.29  \n",
       "4                            0.11  \n",
       "...                           ...  \n",
       "928216                       0.00  \n",
       "928217                       0.00  \n",
       "928218                       0.00  \n",
       "928219                       0.00  \n",
       "928220                       0.00  \n",
       "\n",
       "[928221 rows x 14 columns]"
      ]
     },
     "execution_count": 184,
     "metadata": {},
     "output_type": "execute_result"
    }
   ],
   "source": [
    "train_feat"
   ]
  },
  {
   "cell_type": "code",
   "execution_count": 45,
   "id": "37520d0c",
   "metadata": {},
   "outputs": [],
   "source": [
    "# Storing data\n",
    "# train_feat.to_csv('before_fake_edges_w_features.csv', index=False)"
   ]
  },
  {
   "cell_type": "code",
   "execution_count": 46,
   "id": "ca365f7e",
   "metadata": {},
   "outputs": [],
   "source": [
    "# test_w_neg = add_negative_examples(G_test, test)"
   ]
  },
  {
   "cell_type": "code",
   "execution_count": 47,
   "id": "21027a90",
   "metadata": {},
   "outputs": [],
   "source": [
    "# Storing data\n",
    "# test_w_neg.to_csv('after_fake_edges.csv',index=False)"
   ]
  },
  {
   "cell_type": "code",
   "execution_count": 48,
   "id": "a01010cf",
   "metadata": {},
   "outputs": [],
   "source": [
    "# test_feat = compute_deg_features(test_w_neg, G_train)"
   ]
  },
  {
   "cell_type": "code",
   "execution_count": 49,
   "id": "9cd1ac1c",
   "metadata": {},
   "outputs": [],
   "source": [
    "# test_feat = compute_deg_cen_features(test_w_neg, G_train)"
   ]
  },
  {
   "cell_type": "code",
   "execution_count": 50,
   "id": "fc7feabd",
   "metadata": {},
   "outputs": [],
   "source": [
    "# test_feat = compute_clustering_coeff_features(test_w_neg, G_train)"
   ]
  },
  {
   "cell_type": "code",
   "execution_count": 51,
   "id": "8bcc2c01",
   "metadata": {},
   "outputs": [],
   "source": [
    "# test_feat = compute_comm_features(test_w_neg, G_train, comm_dict_train)"
   ]
  },
  {
   "cell_type": "code",
   "execution_count": 52,
   "id": "1328007c",
   "metadata": {},
   "outputs": [],
   "source": [
    "# test_feat = compute_greedy_modularity_comm_features(test_feat, G_train, greedy_modularity_dict_train)"
   ]
  },
  {
   "cell_type": "code",
   "execution_count": 53,
   "id": "4f1677ab",
   "metadata": {},
   "outputs": [],
   "source": [
    "# test_feat = compute_jaccard_coef(test_feat, G_train)"
   ]
  },
  {
   "cell_type": "code",
   "execution_count": 54,
   "id": "be5165cc",
   "metadata": {},
   "outputs": [],
   "source": [
    "# test_feat = compute_adamic_adar_index(test_feat, G_train)"
   ]
  },
  {
   "cell_type": "code",
   "execution_count": 55,
   "id": "0ffbb3f0",
   "metadata": {},
   "outputs": [],
   "source": [
    "# test_feat = compute_preferential_attachment(test_feat, G_train)"
   ]
  },
  {
   "cell_type": "code",
   "execution_count": 56,
   "id": "c6969df2",
   "metadata": {},
   "outputs": [],
   "source": [
    "# test_feat = compute_resource_allocation_index(test_feat, G_train)"
   ]
  },
  {
   "cell_type": "code",
   "execution_count": 57,
   "id": "db02ead5",
   "metadata": {},
   "outputs": [],
   "source": [
    "# Storing data\n",
    "# test_feat.to_csv('after_fake_edges_w_features.csv', index=False)"
   ]
  },
  {
   "cell_type": "code",
   "execution_count": 58,
   "id": "37fba6f3",
   "metadata": {},
   "outputs": [],
   "source": [
    "# test_feat = compute_resource_allocation_index(test_feat, G_train)"
   ]
  },
  {
   "cell_type": "code",
   "execution_count": 59,
   "id": "353b693d",
   "metadata": {},
   "outputs": [],
   "source": [
    "test_feat = pd.read_csv(\"after_fake_edges_w_features.csv\")"
   ]
  },
  {
   "cell_type": "code",
   "execution_count": 60,
   "id": "c904c1ad",
   "metadata": {},
   "outputs": [
    {
     "data": {
      "text/html": [
       "<div>\n",
       "<style scoped>\n",
       "    .dataframe tbody tr th:only-of-type {\n",
       "        vertical-align: middle;\n",
       "    }\n",
       "\n",
       "    .dataframe tbody tr th {\n",
       "        vertical-align: top;\n",
       "    }\n",
       "\n",
       "    .dataframe thead th {\n",
       "        text-align: right;\n",
       "    }\n",
       "</style>\n",
       "<table border=\"1\" class=\"dataframe\">\n",
       "  <thead>\n",
       "    <tr style=\"text-align: right;\">\n",
       "      <th></th>\n",
       "      <th>source</th>\n",
       "      <th>target</th>\n",
       "      <th>link</th>\n",
       "      <th>deg_source</th>\n",
       "      <th>deg_target</th>\n",
       "      <th>clustering_coeff_source</th>\n",
       "      <th>clustering_coeff_target</th>\n",
       "      <th>common_neighbors</th>\n",
       "      <th>same_louvain_community</th>\n",
       "      <th>same_greedy_modularity_community</th>\n",
       "      <th>jaccard_coefficient</th>\n",
       "      <th>adamic_adar_index</th>\n",
       "      <th>preferential_attachment</th>\n",
       "      <th>resource_allocation_index</th>\n",
       "    </tr>\n",
       "  </thead>\n",
       "  <tbody>\n",
       "    <tr>\n",
       "      <th>0</th>\n",
       "      <td>1</td>\n",
       "      <td>24</td>\n",
       "      <td>True</td>\n",
       "      <td>1</td>\n",
       "      <td>26</td>\n",
       "      <td>0.000000</td>\n",
       "      <td>0.018462</td>\n",
       "      <td>0</td>\n",
       "      <td>True</td>\n",
       "      <td>True</td>\n",
       "      <td>0.00</td>\n",
       "      <td>0.00000</td>\n",
       "      <td>26</td>\n",
       "      <td>0.000000</td>\n",
       "    </tr>\n",
       "    <tr>\n",
       "      <th>1</th>\n",
       "      <td>3</td>\n",
       "      <td>4223</td>\n",
       "      <td>True</td>\n",
       "      <td>15</td>\n",
       "      <td>11</td>\n",
       "      <td>0.076190</td>\n",
       "      <td>0.090909</td>\n",
       "      <td>1</td>\n",
       "      <td>False</td>\n",
       "      <td>False</td>\n",
       "      <td>0.04</td>\n",
       "      <td>0.40243</td>\n",
       "      <td>165</td>\n",
       "      <td>0.083333</td>\n",
       "    </tr>\n",
       "    <tr>\n",
       "      <th>2</th>\n",
       "      <td>13</td>\n",
       "      <td>1008</td>\n",
       "      <td>True</td>\n",
       "      <td>15</td>\n",
       "      <td>2</td>\n",
       "      <td>0.200000</td>\n",
       "      <td>1.000000</td>\n",
       "      <td>0</td>\n",
       "      <td>True</td>\n",
       "      <td>True</td>\n",
       "      <td>0.00</td>\n",
       "      <td>0.00000</td>\n",
       "      <td>30</td>\n",
       "      <td>0.000000</td>\n",
       "    </tr>\n",
       "    <tr>\n",
       "      <th>3</th>\n",
       "      <td>13</td>\n",
       "      <td>3208</td>\n",
       "      <td>True</td>\n",
       "      <td>15</td>\n",
       "      <td>3</td>\n",
       "      <td>0.200000</td>\n",
       "      <td>0.333333</td>\n",
       "      <td>0</td>\n",
       "      <td>False</td>\n",
       "      <td>False</td>\n",
       "      <td>0.00</td>\n",
       "      <td>0.00000</td>\n",
       "      <td>45</td>\n",
       "      <td>0.000000</td>\n",
       "    </tr>\n",
       "    <tr>\n",
       "      <th>4</th>\n",
       "      <td>13</td>\n",
       "      <td>3212</td>\n",
       "      <td>True</td>\n",
       "      <td>15</td>\n",
       "      <td>3</td>\n",
       "      <td>0.200000</td>\n",
       "      <td>0.000000</td>\n",
       "      <td>0</td>\n",
       "      <td>False</td>\n",
       "      <td>True</td>\n",
       "      <td>0.00</td>\n",
       "      <td>0.00000</td>\n",
       "      <td>45</td>\n",
       "      <td>0.000000</td>\n",
       "    </tr>\n",
       "    <tr>\n",
       "      <th>...</th>\n",
       "      <td>...</td>\n",
       "      <td>...</td>\n",
       "      <td>...</td>\n",
       "      <td>...</td>\n",
       "      <td>...</td>\n",
       "      <td>...</td>\n",
       "      <td>...</td>\n",
       "      <td>...</td>\n",
       "      <td>...</td>\n",
       "      <td>...</td>\n",
       "      <td>...</td>\n",
       "      <td>...</td>\n",
       "      <td>...</td>\n",
       "      <td>...</td>\n",
       "    </tr>\n",
       "    <tr>\n",
       "      <th>196375</th>\n",
       "      <td>38391</td>\n",
       "      <td>42519</td>\n",
       "      <td>False</td>\n",
       "      <td>14</td>\n",
       "      <td>6</td>\n",
       "      <td>0.098901</td>\n",
       "      <td>0.400000</td>\n",
       "      <td>0</td>\n",
       "      <td>False</td>\n",
       "      <td>False</td>\n",
       "      <td>0.00</td>\n",
       "      <td>0.00000</td>\n",
       "      <td>84</td>\n",
       "      <td>0.000000</td>\n",
       "    </tr>\n",
       "    <tr>\n",
       "      <th>196376</th>\n",
       "      <td>38391</td>\n",
       "      <td>46354</td>\n",
       "      <td>False</td>\n",
       "      <td>14</td>\n",
       "      <td>3</td>\n",
       "      <td>0.098901</td>\n",
       "      <td>0.333333</td>\n",
       "      <td>0</td>\n",
       "      <td>True</td>\n",
       "      <td>False</td>\n",
       "      <td>0.00</td>\n",
       "      <td>0.00000</td>\n",
       "      <td>42</td>\n",
       "      <td>0.000000</td>\n",
       "    </tr>\n",
       "    <tr>\n",
       "      <th>196377</th>\n",
       "      <td>38391</td>\n",
       "      <td>38854</td>\n",
       "      <td>False</td>\n",
       "      <td>14</td>\n",
       "      <td>33</td>\n",
       "      <td>0.098901</td>\n",
       "      <td>0.104167</td>\n",
       "      <td>0</td>\n",
       "      <td>False</td>\n",
       "      <td>False</td>\n",
       "      <td>0.00</td>\n",
       "      <td>0.00000</td>\n",
       "      <td>462</td>\n",
       "      <td>0.000000</td>\n",
       "    </tr>\n",
       "    <tr>\n",
       "      <th>196378</th>\n",
       "      <td>38391</td>\n",
       "      <td>40117</td>\n",
       "      <td>False</td>\n",
       "      <td>14</td>\n",
       "      <td>6</td>\n",
       "      <td>0.098901</td>\n",
       "      <td>0.266667</td>\n",
       "      <td>0</td>\n",
       "      <td>False</td>\n",
       "      <td>False</td>\n",
       "      <td>0.00</td>\n",
       "      <td>0.00000</td>\n",
       "      <td>84</td>\n",
       "      <td>0.000000</td>\n",
       "    </tr>\n",
       "    <tr>\n",
       "      <th>196379</th>\n",
       "      <td>38391</td>\n",
       "      <td>40440</td>\n",
       "      <td>False</td>\n",
       "      <td>14</td>\n",
       "      <td>15</td>\n",
       "      <td>0.098901</td>\n",
       "      <td>0.247619</td>\n",
       "      <td>0</td>\n",
       "      <td>False</td>\n",
       "      <td>False</td>\n",
       "      <td>0.00</td>\n",
       "      <td>0.00000</td>\n",
       "      <td>210</td>\n",
       "      <td>0.000000</td>\n",
       "    </tr>\n",
       "  </tbody>\n",
       "</table>\n",
       "<p>196380 rows × 14 columns</p>\n",
       "</div>"
      ],
      "text/plain": [
       "        source  target   link  deg_source  deg_target  \\\n",
       "0            1      24   True           1          26   \n",
       "1            3    4223   True          15          11   \n",
       "2           13    1008   True          15           2   \n",
       "3           13    3208   True          15           3   \n",
       "4           13    3212   True          15           3   \n",
       "...        ...     ...    ...         ...         ...   \n",
       "196375   38391   42519  False          14           6   \n",
       "196376   38391   46354  False          14           3   \n",
       "196377   38391   38854  False          14          33   \n",
       "196378   38391   40117  False          14           6   \n",
       "196379   38391   40440  False          14          15   \n",
       "\n",
       "        clustering_coeff_source  clustering_coeff_target  common_neighbors  \\\n",
       "0                      0.000000                 0.018462                 0   \n",
       "1                      0.076190                 0.090909                 1   \n",
       "2                      0.200000                 1.000000                 0   \n",
       "3                      0.200000                 0.333333                 0   \n",
       "4                      0.200000                 0.000000                 0   \n",
       "...                         ...                      ...               ...   \n",
       "196375                 0.098901                 0.400000                 0   \n",
       "196376                 0.098901                 0.333333                 0   \n",
       "196377                 0.098901                 0.104167                 0   \n",
       "196378                 0.098901                 0.266667                 0   \n",
       "196379                 0.098901                 0.247619                 0   \n",
       "\n",
       "        same_louvain_community  same_greedy_modularity_community  \\\n",
       "0                         True                              True   \n",
       "1                        False                             False   \n",
       "2                         True                              True   \n",
       "3                        False                             False   \n",
       "4                        False                              True   \n",
       "...                        ...                               ...   \n",
       "196375                   False                             False   \n",
       "196376                    True                             False   \n",
       "196377                   False                             False   \n",
       "196378                   False                             False   \n",
       "196379                   False                             False   \n",
       "\n",
       "        jaccard_coefficient  adamic_adar_index  preferential_attachment  \\\n",
       "0                      0.00            0.00000                       26   \n",
       "1                      0.04            0.40243                      165   \n",
       "2                      0.00            0.00000                       30   \n",
       "3                      0.00            0.00000                       45   \n",
       "4                      0.00            0.00000                       45   \n",
       "...                     ...                ...                      ...   \n",
       "196375                 0.00            0.00000                       84   \n",
       "196376                 0.00            0.00000                       42   \n",
       "196377                 0.00            0.00000                      462   \n",
       "196378                 0.00            0.00000                       84   \n",
       "196379                 0.00            0.00000                      210   \n",
       "\n",
       "        resource_allocation_index  \n",
       "0                        0.000000  \n",
       "1                        0.083333  \n",
       "2                        0.000000  \n",
       "3                        0.000000  \n",
       "4                        0.000000  \n",
       "...                           ...  \n",
       "196375                   0.000000  \n",
       "196376                   0.000000  \n",
       "196377                   0.000000  \n",
       "196378                   0.000000  \n",
       "196379                   0.000000  \n",
       "\n",
       "[196380 rows x 14 columns]"
      ]
     },
     "execution_count": 60,
     "metadata": {},
     "output_type": "execute_result"
    }
   ],
   "source": [
    "test_feat"
   ]
  },
  {
   "cell_type": "code",
   "execution_count": 61,
   "id": "f752dcb7",
   "metadata": {},
   "outputs": [],
   "source": [
    "feature_cols = [col for col in train_feat.columns if col not in [\"source\", \"target\", \"link\"]]\n",
    "\n",
    "X_train = train_feat[feature_cols]\n",
    "y_train = train_feat[\"link\"]\n",
    "X_test = test_feat[feature_cols]\n",
    "y_test = test_feat[\"link\"]"
   ]
  },
  {
   "cell_type": "code",
   "execution_count": 62,
   "id": "8c21bfec",
   "metadata": {},
   "outputs": [
    {
     "data": {
      "text/html": [
       "<div>\n",
       "<style scoped>\n",
       "    .dataframe tbody tr th:only-of-type {\n",
       "        vertical-align: middle;\n",
       "    }\n",
       "\n",
       "    .dataframe tbody tr th {\n",
       "        vertical-align: top;\n",
       "    }\n",
       "\n",
       "    .dataframe thead th {\n",
       "        text-align: right;\n",
       "    }\n",
       "</style>\n",
       "<table border=\"1\" class=\"dataframe\">\n",
       "  <thead>\n",
       "    <tr style=\"text-align: right;\">\n",
       "      <th></th>\n",
       "      <th>deg_source</th>\n",
       "      <th>deg_target</th>\n",
       "      <th>clustering_coeff_source</th>\n",
       "      <th>clustering_coeff_target</th>\n",
       "      <th>common_neighbors</th>\n",
       "      <th>same_louvain_community</th>\n",
       "      <th>same_greedy_modularity_community</th>\n",
       "      <th>jaccard_coefficient</th>\n",
       "      <th>adamic_adar_index</th>\n",
       "      <th>preferential_attachment</th>\n",
       "      <th>resource_allocation_index</th>\n",
       "    </tr>\n",
       "  </thead>\n",
       "  <tbody>\n",
       "    <tr>\n",
       "      <th>0</th>\n",
       "      <td>1</td>\n",
       "      <td>7</td>\n",
       "      <td>0.000000</td>\n",
       "      <td>0.000000</td>\n",
       "      <td>0</td>\n",
       "      <td>True</td>\n",
       "      <td>True</td>\n",
       "      <td>0.000000</td>\n",
       "      <td>0.000000</td>\n",
       "      <td>7</td>\n",
       "      <td>0.000000</td>\n",
       "    </tr>\n",
       "    <tr>\n",
       "      <th>1</th>\n",
       "      <td>15</td>\n",
       "      <td>15</td>\n",
       "      <td>0.133333</td>\n",
       "      <td>0.076190</td>\n",
       "      <td>1</td>\n",
       "      <td>True</td>\n",
       "      <td>False</td>\n",
       "      <td>0.034483</td>\n",
       "      <td>0.455120</td>\n",
       "      <td>225</td>\n",
       "      <td>0.111111</td>\n",
       "    </tr>\n",
       "    <tr>\n",
       "      <th>2</th>\n",
       "      <td>15</td>\n",
       "      <td>91</td>\n",
       "      <td>0.133333</td>\n",
       "      <td>0.027595</td>\n",
       "      <td>2</td>\n",
       "      <td>False</td>\n",
       "      <td>False</td>\n",
       "      <td>0.019231</td>\n",
       "      <td>0.750841</td>\n",
       "      <td>1365</td>\n",
       "      <td>0.140909</td>\n",
       "    </tr>\n",
       "    <tr>\n",
       "      <th>3</th>\n",
       "      <td>15</td>\n",
       "      <td>11</td>\n",
       "      <td>0.133333</td>\n",
       "      <td>0.109091</td>\n",
       "      <td>3</td>\n",
       "      <td>True</td>\n",
       "      <td>True</td>\n",
       "      <td>0.130435</td>\n",
       "      <td>1.217954</td>\n",
       "      <td>165</td>\n",
       "      <td>0.294726</td>\n",
       "    </tr>\n",
       "    <tr>\n",
       "      <th>4</th>\n",
       "      <td>15</td>\n",
       "      <td>10</td>\n",
       "      <td>0.133333</td>\n",
       "      <td>0.044444</td>\n",
       "      <td>2</td>\n",
       "      <td>True</td>\n",
       "      <td>True</td>\n",
       "      <td>0.086957</td>\n",
       "      <td>0.634706</td>\n",
       "      <td>150</td>\n",
       "      <td>0.114928</td>\n",
       "    </tr>\n",
       "    <tr>\n",
       "      <th>...</th>\n",
       "      <td>...</td>\n",
       "      <td>...</td>\n",
       "      <td>...</td>\n",
       "      <td>...</td>\n",
       "      <td>...</td>\n",
       "      <td>...</td>\n",
       "      <td>...</td>\n",
       "      <td>...</td>\n",
       "      <td>...</td>\n",
       "      <td>...</td>\n",
       "      <td>...</td>\n",
       "    </tr>\n",
       "    <tr>\n",
       "      <th>928216</th>\n",
       "      <td>2</td>\n",
       "      <td>1</td>\n",
       "      <td>1.000000</td>\n",
       "      <td>0.000000</td>\n",
       "      <td>0</td>\n",
       "      <td>False</td>\n",
       "      <td>False</td>\n",
       "      <td>0.000000</td>\n",
       "      <td>0.000000</td>\n",
       "      <td>2</td>\n",
       "      <td>0.000000</td>\n",
       "    </tr>\n",
       "    <tr>\n",
       "      <th>928217</th>\n",
       "      <td>2</td>\n",
       "      <td>2</td>\n",
       "      <td>1.000000</td>\n",
       "      <td>0.000000</td>\n",
       "      <td>0</td>\n",
       "      <td>False</td>\n",
       "      <td>False</td>\n",
       "      <td>0.000000</td>\n",
       "      <td>0.000000</td>\n",
       "      <td>4</td>\n",
       "      <td>0.000000</td>\n",
       "    </tr>\n",
       "    <tr>\n",
       "      <th>928218</th>\n",
       "      <td>2</td>\n",
       "      <td>3</td>\n",
       "      <td>1.000000</td>\n",
       "      <td>0.333333</td>\n",
       "      <td>0</td>\n",
       "      <td>False</td>\n",
       "      <td>False</td>\n",
       "      <td>0.000000</td>\n",
       "      <td>0.000000</td>\n",
       "      <td>6</td>\n",
       "      <td>0.000000</td>\n",
       "    </tr>\n",
       "    <tr>\n",
       "      <th>928219</th>\n",
       "      <td>2</td>\n",
       "      <td>5</td>\n",
       "      <td>1.000000</td>\n",
       "      <td>0.400000</td>\n",
       "      <td>0</td>\n",
       "      <td>False</td>\n",
       "      <td>False</td>\n",
       "      <td>0.000000</td>\n",
       "      <td>0.000000</td>\n",
       "      <td>10</td>\n",
       "      <td>0.000000</td>\n",
       "    </tr>\n",
       "    <tr>\n",
       "      <th>928220</th>\n",
       "      <td>2</td>\n",
       "      <td>22</td>\n",
       "      <td>1.000000</td>\n",
       "      <td>0.242424</td>\n",
       "      <td>0</td>\n",
       "      <td>False</td>\n",
       "      <td>False</td>\n",
       "      <td>0.000000</td>\n",
       "      <td>0.000000</td>\n",
       "      <td>44</td>\n",
       "      <td>0.000000</td>\n",
       "    </tr>\n",
       "  </tbody>\n",
       "</table>\n",
       "<p>928221 rows × 11 columns</p>\n",
       "</div>"
      ],
      "text/plain": [
       "        deg_source  deg_target  clustering_coeff_source  \\\n",
       "0                1           7                 0.000000   \n",
       "1               15          15                 0.133333   \n",
       "2               15          91                 0.133333   \n",
       "3               15          11                 0.133333   \n",
       "4               15          10                 0.133333   \n",
       "...            ...         ...                      ...   \n",
       "928216           2           1                 1.000000   \n",
       "928217           2           2                 1.000000   \n",
       "928218           2           3                 1.000000   \n",
       "928219           2           5                 1.000000   \n",
       "928220           2          22                 1.000000   \n",
       "\n",
       "        clustering_coeff_target  common_neighbors  same_louvain_community  \\\n",
       "0                      0.000000                 0                    True   \n",
       "1                      0.076190                 1                    True   \n",
       "2                      0.027595                 2                   False   \n",
       "3                      0.109091                 3                    True   \n",
       "4                      0.044444                 2                    True   \n",
       "...                         ...               ...                     ...   \n",
       "928216                 0.000000                 0                   False   \n",
       "928217                 0.000000                 0                   False   \n",
       "928218                 0.333333                 0                   False   \n",
       "928219                 0.400000                 0                   False   \n",
       "928220                 0.242424                 0                   False   \n",
       "\n",
       "        same_greedy_modularity_community  jaccard_coefficient  \\\n",
       "0                                   True             0.000000   \n",
       "1                                  False             0.034483   \n",
       "2                                  False             0.019231   \n",
       "3                                   True             0.130435   \n",
       "4                                   True             0.086957   \n",
       "...                                  ...                  ...   \n",
       "928216                             False             0.000000   \n",
       "928217                             False             0.000000   \n",
       "928218                             False             0.000000   \n",
       "928219                             False             0.000000   \n",
       "928220                             False             0.000000   \n",
       "\n",
       "        adamic_adar_index  preferential_attachment  resource_allocation_index  \n",
       "0                0.000000                        7                   0.000000  \n",
       "1                0.455120                      225                   0.111111  \n",
       "2                0.750841                     1365                   0.140909  \n",
       "3                1.217954                      165                   0.294726  \n",
       "4                0.634706                      150                   0.114928  \n",
       "...                   ...                      ...                        ...  \n",
       "928216           0.000000                        2                   0.000000  \n",
       "928217           0.000000                        4                   0.000000  \n",
       "928218           0.000000                        6                   0.000000  \n",
       "928219           0.000000                       10                   0.000000  \n",
       "928220           0.000000                       44                   0.000000  \n",
       "\n",
       "[928221 rows x 11 columns]"
      ]
     },
     "execution_count": 62,
     "metadata": {},
     "output_type": "execute_result"
    }
   ],
   "source": [
    "X_train"
   ]
  },
  {
   "cell_type": "markdown",
   "id": "6f1068a4",
   "metadata": {},
   "source": [
    "# Variance Inflation Factor (VIF)"
   ]
  },
  {
   "cell_type": "markdown",
   "id": "c7e5891b",
   "metadata": {},
   "source": [
    "A variance inflation factor(VIF) detects multicollinearity in regression analysis. Multicollinearity is when there’s correlation between predictors (i.e. independent variables) in a model; it’s presence can adversely affect the regression results. The VIF estimates how much the variance of a regression coefficient is inflated due to multicollinearity in the model."
   ]
  },
  {
   "cell_type": "code",
   "execution_count": 63,
   "id": "27450220",
   "metadata": {},
   "outputs": [],
   "source": [
    "X1_train=X_train.loc[:, ~X_train.columns.isin(['same_greedy_modularity_community', 'same_louvain_community'])]\n",
    "X1_test=X_test.loc[:, ~X_test.columns.isin(['same_greedy_modularity_community', 'same_louvain_community'])]"
   ]
  },
  {
   "cell_type": "code",
   "execution_count": 64,
   "id": "6002bb5c",
   "metadata": {},
   "outputs": [
    {
     "name": "stdout",
     "output_type": "stream",
     "text": [
      "                    features      VIF\n",
      "0                      const     2.84\n",
      "1                 deg_source     2.00\n",
      "2                 deg_target     2.42\n",
      "3    clustering_coeff_source     1.02\n",
      "4    clustering_coeff_target     1.03\n",
      "5           common_neighbors  1476.12\n",
      "6        jaccard_coefficient     3.98\n",
      "7          adamic_adar_index  2680.77\n",
      "8    preferential_attachment     4.23\n",
      "9  resource_allocation_index   250.68\n"
     ]
    }
   ],
   "source": [
    "import statsmodels.api as sm\n",
    "from statsmodels.stats.outliers_influence import variance_inflation_factor\n",
    "\n",
    "x_temp = sm.add_constant(X1_train)\n",
    "\n",
    "vif = pd.DataFrame()\n",
    "vif[\"features\"] = x_temp.columns\n",
    "vif[\"VIF\"] = [variance_inflation_factor(x_temp.values, i) for i in range(x_temp.values.shape[1])]\n",
    "print(vif.round(2))"
   ]
  },
  {
   "cell_type": "markdown",
   "id": "b6b85052",
   "metadata": {},
   "source": [
    "We can see that 'common neighbors' is highly correlated with Adamic-Adar index. However, common neighbors feature did not offer much extra information that Adamic-Adar index and Jaccard coefficient already have. Therefore, it become less significant than the other features. So, we could simply drop the common neighbors feature."
   ]
  },
  {
   "cell_type": "code",
   "execution_count": 65,
   "id": "8d5273a7",
   "metadata": {},
   "outputs": [],
   "source": [
    "vif_data = pd.DataFrame()\n",
    "vif_data[\"feature\"] = X1_train.columns\n",
    "vif_data[\"VIF\"] = [variance_inflation_factor(X1_train.values, i) for i in range(len(X1_train.columns))]"
   ]
  },
  {
   "cell_type": "code",
   "execution_count": 66,
   "id": "302a0cf5",
   "metadata": {},
   "outputs": [
    {
     "data": {
      "text/html": [
       "<div>\n",
       "<style scoped>\n",
       "    .dataframe tbody tr th:only-of-type {\n",
       "        vertical-align: middle;\n",
       "    }\n",
       "\n",
       "    .dataframe tbody tr th {\n",
       "        vertical-align: top;\n",
       "    }\n",
       "\n",
       "    .dataframe thead th {\n",
       "        text-align: right;\n",
       "    }\n",
       "</style>\n",
       "<table border=\"1\" class=\"dataframe\">\n",
       "  <thead>\n",
       "    <tr style=\"text-align: right;\">\n",
       "      <th></th>\n",
       "      <th>feature</th>\n",
       "      <th>VIF</th>\n",
       "    </tr>\n",
       "  </thead>\n",
       "  <tbody>\n",
       "    <tr>\n",
       "      <th>0</th>\n",
       "      <td>deg_source</td>\n",
       "      <td>2.325377</td>\n",
       "    </tr>\n",
       "    <tr>\n",
       "      <th>1</th>\n",
       "      <td>deg_target</td>\n",
       "      <td>2.797863</td>\n",
       "    </tr>\n",
       "    <tr>\n",
       "      <th>2</th>\n",
       "      <td>clustering_coeff_source</td>\n",
       "      <td>1.196619</td>\n",
       "    </tr>\n",
       "    <tr>\n",
       "      <th>3</th>\n",
       "      <td>clustering_coeff_target</td>\n",
       "      <td>1.229899</td>\n",
       "    </tr>\n",
       "    <tr>\n",
       "      <th>4</th>\n",
       "      <td>common_neighbors</td>\n",
       "      <td>1632.363373</td>\n",
       "    </tr>\n",
       "    <tr>\n",
       "      <th>5</th>\n",
       "      <td>jaccard_coefficient</td>\n",
       "      <td>4.443203</td>\n",
       "    </tr>\n",
       "    <tr>\n",
       "      <th>6</th>\n",
       "      <td>adamic_adar_index</td>\n",
       "      <td>2985.019338</td>\n",
       "    </tr>\n",
       "    <tr>\n",
       "      <th>7</th>\n",
       "      <td>preferential_attachment</td>\n",
       "      <td>4.242265</td>\n",
       "    </tr>\n",
       "    <tr>\n",
       "      <th>8</th>\n",
       "      <td>resource_allocation_index</td>\n",
       "      <td>276.340505</td>\n",
       "    </tr>\n",
       "  </tbody>\n",
       "</table>\n",
       "</div>"
      ],
      "text/plain": [
       "                     feature          VIF\n",
       "0                 deg_source     2.325377\n",
       "1                 deg_target     2.797863\n",
       "2    clustering_coeff_source     1.196619\n",
       "3    clustering_coeff_target     1.229899\n",
       "4           common_neighbors  1632.363373\n",
       "5        jaccard_coefficient     4.443203\n",
       "6          adamic_adar_index  2985.019338\n",
       "7    preferential_attachment     4.242265\n",
       "8  resource_allocation_index   276.340505"
      ]
     },
     "execution_count": 66,
     "metadata": {},
     "output_type": "execute_result"
    }
   ],
   "source": [
    "vif_data"
   ]
  },
  {
   "cell_type": "code",
   "execution_count": 67,
   "id": "a8cf5a8e",
   "metadata": {},
   "outputs": [],
   "source": [
    "X_train = X_train.drop(['common_neighbors'],axis =1)\n",
    "X_test = X_test.drop(['common_neighbors'],axis =1)"
   ]
  },
  {
   "cell_type": "code",
   "execution_count": 68,
   "id": "685655b9",
   "metadata": {},
   "outputs": [],
   "source": [
    "X2_train=X_train.loc[:, ~X_train.columns.isin(['same_greedy_modularity_community', 'same_louvain_community'])]\n",
    "X2_test=X_test.loc[:, ~X_test.columns.isin(['same_greedy_modularity_community', 'same_louvain_community'])]"
   ]
  },
  {
   "cell_type": "code",
   "execution_count": 69,
   "id": "a587fed1",
   "metadata": {},
   "outputs": [
    {
     "name": "stdout",
     "output_type": "stream",
     "text": [
      "                    features   VIF\n",
      "0                      const  2.84\n",
      "1                 deg_source  1.99\n",
      "2                 deg_target  2.41\n",
      "3    clustering_coeff_source  1.02\n",
      "4    clustering_coeff_target  1.03\n",
      "5        jaccard_coefficient  3.97\n",
      "6          adamic_adar_index  8.99\n",
      "7    preferential_attachment  4.06\n",
      "8  resource_allocation_index  6.65\n"
     ]
    }
   ],
   "source": [
    "x_temp = sm.add_constant(X2_train)\n",
    "\n",
    "vif = pd.DataFrame()\n",
    "vif[\"features\"] = x_temp.columns\n",
    "vif[\"VIF\"] = [variance_inflation_factor(x_temp.values, i) for i in range(x_temp.values.shape[1])]\n",
    "print(vif.round(2))"
   ]
  },
  {
   "cell_type": "code",
   "execution_count": 70,
   "id": "eb30ebce",
   "metadata": {},
   "outputs": [],
   "source": [
    "vif_data = pd.DataFrame()\n",
    "vif_data[\"feature\"] = X2_train.columns\n",
    "vif_data[\"VIF\"] = [variance_inflation_factor(X2_train.values, i) for i in range(len(X2_train.columns))]"
   ]
  },
  {
   "cell_type": "code",
   "execution_count": 71,
   "id": "d674451c",
   "metadata": {},
   "outputs": [
    {
     "data": {
      "text/html": [
       "<div>\n",
       "<style scoped>\n",
       "    .dataframe tbody tr th:only-of-type {\n",
       "        vertical-align: middle;\n",
       "    }\n",
       "\n",
       "    .dataframe tbody tr th {\n",
       "        vertical-align: top;\n",
       "    }\n",
       "\n",
       "    .dataframe thead th {\n",
       "        text-align: right;\n",
       "    }\n",
       "</style>\n",
       "<table border=\"1\" class=\"dataframe\">\n",
       "  <thead>\n",
       "    <tr style=\"text-align: right;\">\n",
       "      <th></th>\n",
       "      <th>feature</th>\n",
       "      <th>VIF</th>\n",
       "    </tr>\n",
       "  </thead>\n",
       "  <tbody>\n",
       "    <tr>\n",
       "      <th>0</th>\n",
       "      <td>deg_source</td>\n",
       "      <td>2.315688</td>\n",
       "    </tr>\n",
       "    <tr>\n",
       "      <th>1</th>\n",
       "      <td>deg_target</td>\n",
       "      <td>2.793162</td>\n",
       "    </tr>\n",
       "    <tr>\n",
       "      <th>2</th>\n",
       "      <td>clustering_coeff_source</td>\n",
       "      <td>1.196491</td>\n",
       "    </tr>\n",
       "    <tr>\n",
       "      <th>3</th>\n",
       "      <td>clustering_coeff_target</td>\n",
       "      <td>1.229678</td>\n",
       "    </tr>\n",
       "    <tr>\n",
       "      <th>4</th>\n",
       "      <td>jaccard_coefficient</td>\n",
       "      <td>4.439117</td>\n",
       "    </tr>\n",
       "    <tr>\n",
       "      <th>5</th>\n",
       "      <td>adamic_adar_index</td>\n",
       "      <td>9.963227</td>\n",
       "    </tr>\n",
       "    <tr>\n",
       "      <th>6</th>\n",
       "      <td>preferential_attachment</td>\n",
       "      <td>4.058808</td>\n",
       "    </tr>\n",
       "    <tr>\n",
       "      <th>7</th>\n",
       "      <td>resource_allocation_index</td>\n",
       "      <td>7.319540</td>\n",
       "    </tr>\n",
       "  </tbody>\n",
       "</table>\n",
       "</div>"
      ],
      "text/plain": [
       "                     feature       VIF\n",
       "0                 deg_source  2.315688\n",
       "1                 deg_target  2.793162\n",
       "2    clustering_coeff_source  1.196491\n",
       "3    clustering_coeff_target  1.229678\n",
       "4        jaccard_coefficient  4.439117\n",
       "5          adamic_adar_index  9.963227\n",
       "6    preferential_attachment  4.058808\n",
       "7  resource_allocation_index  7.319540"
      ]
     },
     "execution_count": 71,
     "metadata": {},
     "output_type": "execute_result"
    }
   ],
   "source": [
    "vif_data"
   ]
  },
  {
   "cell_type": "code",
   "execution_count": 72,
   "id": "e1f3248c",
   "metadata": {},
   "outputs": [],
   "source": [
    "X_train = X2_train\n",
    "X_test = X2_test"
   ]
  },
  {
   "cell_type": "markdown",
   "id": "5655985a",
   "metadata": {},
   "source": [
    "# Principal component analysis (PCA)"
   ]
  },
  {
   "cell_type": "markdown",
   "id": "8119e7c5",
   "metadata": {},
   "source": [
    "Principal component analysis, or PCA, is a statistical technique to convert high dimensional data to low dimensional data by selecting the most important features that capture maximum information about the dataset. The features are selected on the basis of variance that they cause in the output. The feature that causes highest variance is the first principal component. The feature that is responsible for second highest variance is considered the second principal component, and so on. It is important to mention that principal components do not have any correlation with each other."
   ]
  },
  {
   "cell_type": "code",
   "execution_count": 73,
   "id": "ec279903",
   "metadata": {},
   "outputs": [],
   "source": [
    "# from sklearn.decomposition import PCA\n",
    "# from sklearn.pipeline import Pipeline\n",
    "from sklearn import preprocessing\n",
    "\n",
    "SS = preprocessing.StandardScaler()\n",
    "X_train_ss = SS.fit_transform(X_train)\n",
    "X_test_ss = SS.transform(X_test)"
   ]
  },
  {
   "cell_type": "code",
   "execution_count": 74,
   "id": "c15a34fa",
   "metadata": {},
   "outputs": [
    {
     "data": {
      "text/plain": [
       "deg_source                   1.0\n",
       "deg_target                   1.0\n",
       "clustering_coeff_source      1.0\n",
       "clustering_coeff_target      1.0\n",
       "jaccard_coefficient          1.0\n",
       "adamic_adar_index            1.0\n",
       "preferential_attachment      1.0\n",
       "resource_allocation_index    1.0\n",
       "dtype: float64"
      ]
     },
     "execution_count": 74,
     "metadata": {},
     "output_type": "execute_result"
    }
   ],
   "source": [
    "X_train_ss = pd.DataFrame(X_train_ss, columns=X_train.columns)\n",
    "np.var(X_train_ss)"
   ]
  },
  {
   "cell_type": "code",
   "execution_count": 75,
   "id": "5dbbdb08",
   "metadata": {},
   "outputs": [],
   "source": [
    "from sklearn.decomposition import PCA\n",
    "\n",
    "pca = PCA()\n",
    "X_train_p = pca.fit_transform(X_train_ss)\n",
    "X_test_p = pca.transform(X_test_ss)"
   ]
  },
  {
   "cell_type": "code",
   "execution_count": 76,
   "id": "166fb0eb",
   "metadata": {},
   "outputs": [],
   "source": [
    "X_train_p = pd.DataFrame(X_train_p, columns = [\"PC1\", \"PC2\", \"PC3\", \"PC4\", \"PC5\", \"PC6\",\"PC7\",\"PC8\"])\n",
    "X_test_p = pd.DataFrame(X_test_p, columns = [\"PC1\", \"PC2\", \"PC3\", \"PC4\", \"PC5\", \"PC6\",\"PC7\",\"PC8\"])"
   ]
  },
  {
   "cell_type": "code",
   "execution_count": 77,
   "id": "e1d3dabd",
   "metadata": {},
   "outputs": [
    {
     "data": {
      "text/html": [
       "<div>\n",
       "<style scoped>\n",
       "    .dataframe tbody tr th:only-of-type {\n",
       "        vertical-align: middle;\n",
       "    }\n",
       "\n",
       "    .dataframe tbody tr th {\n",
       "        vertical-align: top;\n",
       "    }\n",
       "\n",
       "    .dataframe thead th {\n",
       "        text-align: right;\n",
       "    }\n",
       "</style>\n",
       "<table border=\"1\" class=\"dataframe\">\n",
       "  <thead>\n",
       "    <tr style=\"text-align: right;\">\n",
       "      <th></th>\n",
       "      <th>PC1</th>\n",
       "      <th>PC2</th>\n",
       "      <th>PC3</th>\n",
       "      <th>PC4</th>\n",
       "      <th>PC5</th>\n",
       "      <th>PC6</th>\n",
       "      <th>PC7</th>\n",
       "      <th>PC8</th>\n",
       "    </tr>\n",
       "  </thead>\n",
       "  <tbody>\n",
       "    <tr>\n",
       "      <th>0</th>\n",
       "      <td>-0.896230</td>\n",
       "      <td>0.198442</td>\n",
       "      <td>0.012708</td>\n",
       "      <td>-0.836644</td>\n",
       "      <td>0.354771</td>\n",
       "      <td>0.104436</td>\n",
       "      <td>0.054549</td>\n",
       "      <td>-0.005557</td>\n",
       "    </tr>\n",
       "    <tr>\n",
       "      <th>1</th>\n",
       "      <td>0.946220</td>\n",
       "      <td>-0.747301</td>\n",
       "      <td>-0.267615</td>\n",
       "      <td>-0.444197</td>\n",
       "      <td>0.113737</td>\n",
       "      <td>-0.047579</td>\n",
       "      <td>-0.297142</td>\n",
       "      <td>0.342693</td>\n",
       "    </tr>\n",
       "    <tr>\n",
       "      <th>2</th>\n",
       "      <td>3.229530</td>\n",
       "      <td>1.173559</td>\n",
       "      <td>-0.807631</td>\n",
       "      <td>0.263871</td>\n",
       "      <td>3.173812</td>\n",
       "      <td>-0.978947</td>\n",
       "      <td>-1.515524</td>\n",
       "      <td>0.349641</td>\n",
       "    </tr>\n",
       "    <tr>\n",
       "      <th>3</th>\n",
       "      <td>3.623899</td>\n",
       "      <td>-3.162567</td>\n",
       "      <td>-0.218977</td>\n",
       "      <td>-1.503699</td>\n",
       "      <td>-0.315120</td>\n",
       "      <td>-0.325291</td>\n",
       "      <td>0.125336</td>\n",
       "      <td>0.982816</td>\n",
       "    </tr>\n",
       "    <tr>\n",
       "      <th>4</th>\n",
       "      <td>1.589441</td>\n",
       "      <td>-1.576627</td>\n",
       "      <td>-0.372073</td>\n",
       "      <td>-0.901894</td>\n",
       "      <td>-0.168568</td>\n",
       "      <td>-0.609339</td>\n",
       "      <td>0.616306</td>\n",
       "      <td>0.295951</td>\n",
       "    </tr>\n",
       "    <tr>\n",
       "      <th>...</th>\n",
       "      <td>...</td>\n",
       "      <td>...</td>\n",
       "      <td>...</td>\n",
       "      <td>...</td>\n",
       "      <td>...</td>\n",
       "      <td>...</td>\n",
       "      <td>...</td>\n",
       "      <td>...</td>\n",
       "    </tr>\n",
       "    <tr>\n",
       "      <th>928216</th>\n",
       "      <td>-1.086368</td>\n",
       "      <td>-1.681096</td>\n",
       "      <td>-3.720174</td>\n",
       "      <td>2.888280</td>\n",
       "      <td>-0.325505</td>\n",
       "      <td>0.324206</td>\n",
       "      <td>-0.041990</td>\n",
       "      <td>-0.021403</td>\n",
       "    </tr>\n",
       "    <tr>\n",
       "      <th>928217</th>\n",
       "      <td>-1.063867</td>\n",
       "      <td>-1.661594</td>\n",
       "      <td>-3.724329</td>\n",
       "      <td>2.897919</td>\n",
       "      <td>-0.285753</td>\n",
       "      <td>0.299690</td>\n",
       "      <td>-0.057350</td>\n",
       "      <td>-0.021008</td>\n",
       "    </tr>\n",
       "    <tr>\n",
       "      <th>928218</th>\n",
       "      <td>-0.973044</td>\n",
       "      <td>-2.109857</td>\n",
       "      <td>-2.551659</td>\n",
       "      <td>3.869529</td>\n",
       "      <td>-0.131269</td>\n",
       "      <td>0.354803</td>\n",
       "      <td>-0.111749</td>\n",
       "      <td>-0.037403</td>\n",
       "    </tr>\n",
       "    <tr>\n",
       "      <th>928219</th>\n",
       "      <td>-0.914377</td>\n",
       "      <td>-2.164407</td>\n",
       "      <td>-2.324603</td>\n",
       "      <td>4.081201</td>\n",
       "      <td>-0.028818</td>\n",
       "      <td>0.321698</td>\n",
       "      <td>-0.150278</td>\n",
       "      <td>-0.039971</td>\n",
       "    </tr>\n",
       "    <tr>\n",
       "      <th>928220</th>\n",
       "      <td>-0.564155</td>\n",
       "      <td>-1.611749</td>\n",
       "      <td>-2.951548</td>\n",
       "      <td>3.790315</td>\n",
       "      <td>0.592729</td>\n",
       "      <td>-0.132706</td>\n",
       "      <td>-0.392947</td>\n",
       "      <td>-0.025315</td>\n",
       "    </tr>\n",
       "  </tbody>\n",
       "</table>\n",
       "<p>928221 rows × 8 columns</p>\n",
       "</div>"
      ],
      "text/plain": [
       "             PC1       PC2       PC3       PC4       PC5       PC6       PC7  \\\n",
       "0      -0.896230  0.198442  0.012708 -0.836644  0.354771  0.104436  0.054549   \n",
       "1       0.946220 -0.747301 -0.267615 -0.444197  0.113737 -0.047579 -0.297142   \n",
       "2       3.229530  1.173559 -0.807631  0.263871  3.173812 -0.978947 -1.515524   \n",
       "3       3.623899 -3.162567 -0.218977 -1.503699 -0.315120 -0.325291  0.125336   \n",
       "4       1.589441 -1.576627 -0.372073 -0.901894 -0.168568 -0.609339  0.616306   \n",
       "...          ...       ...       ...       ...       ...       ...       ...   \n",
       "928216 -1.086368 -1.681096 -3.720174  2.888280 -0.325505  0.324206 -0.041990   \n",
       "928217 -1.063867 -1.661594 -3.724329  2.897919 -0.285753  0.299690 -0.057350   \n",
       "928218 -0.973044 -2.109857 -2.551659  3.869529 -0.131269  0.354803 -0.111749   \n",
       "928219 -0.914377 -2.164407 -2.324603  4.081201 -0.028818  0.321698 -0.150278   \n",
       "928220 -0.564155 -1.611749 -2.951548  3.790315  0.592729 -0.132706 -0.392947   \n",
       "\n",
       "             PC8  \n",
       "0      -0.005557  \n",
       "1       0.342693  \n",
       "2       0.349641  \n",
       "3       0.982816  \n",
       "4       0.295951  \n",
       "...          ...  \n",
       "928216 -0.021403  \n",
       "928217 -0.021008  \n",
       "928218 -0.037403  \n",
       "928219 -0.039971  \n",
       "928220 -0.025315  \n",
       "\n",
       "[928221 rows x 8 columns]"
      ]
     },
     "execution_count": 77,
     "metadata": {},
     "output_type": "execute_result"
    }
   ],
   "source": [
    "X_train_p"
   ]
  },
  {
   "cell_type": "code",
   "execution_count": 78,
   "id": "a25cdf9f",
   "metadata": {},
   "outputs": [
    {
     "data": {
      "text/html": [
       "<div>\n",
       "<style scoped>\n",
       "    .dataframe tbody tr th:only-of-type {\n",
       "        vertical-align: middle;\n",
       "    }\n",
       "\n",
       "    .dataframe tbody tr th {\n",
       "        vertical-align: top;\n",
       "    }\n",
       "\n",
       "    .dataframe thead th {\n",
       "        text-align: right;\n",
       "    }\n",
       "</style>\n",
       "<table border=\"1\" class=\"dataframe\">\n",
       "  <thead>\n",
       "    <tr style=\"text-align: right;\">\n",
       "      <th></th>\n",
       "      <th>PC1</th>\n",
       "      <th>PC2</th>\n",
       "      <th>PC3</th>\n",
       "      <th>PC4</th>\n",
       "      <th>PC5</th>\n",
       "      <th>PC6</th>\n",
       "      <th>PC7</th>\n",
       "      <th>PC8</th>\n",
       "    </tr>\n",
       "  </thead>\n",
       "  <tbody>\n",
       "    <tr>\n",
       "      <th>deg_source</th>\n",
       "      <td>0.329024</td>\n",
       "      <td>0.408857</td>\n",
       "      <td>0.073680</td>\n",
       "      <td>0.191922</td>\n",
       "      <td>-0.719562</td>\n",
       "      <td>-0.353528</td>\n",
       "      <td>-0.197072</td>\n",
       "      <td>-0.026985</td>\n",
       "    </tr>\n",
       "    <tr>\n",
       "      <th>deg_target</th>\n",
       "      <td>0.372929</td>\n",
       "      <td>0.320080</td>\n",
       "      <td>-0.070017</td>\n",
       "      <td>0.158709</td>\n",
       "      <td>0.678347</td>\n",
       "      <td>-0.436397</td>\n",
       "      <td>-0.278899</td>\n",
       "      <td>-0.000010</td>\n",
       "    </tr>\n",
       "    <tr>\n",
       "      <th>clustering_coeff_source</th>\n",
       "      <td>-0.012568</td>\n",
       "      <td>-0.316087</td>\n",
       "      <td>-0.667130</td>\n",
       "      <td>0.669477</td>\n",
       "      <td>-0.073336</td>\n",
       "      <td>0.014805</td>\n",
       "      <td>-0.032651</td>\n",
       "      <td>-0.002444</td>\n",
       "    </tr>\n",
       "    <tr>\n",
       "      <th>clustering_coeff_target</th>\n",
       "      <td>0.042742</td>\n",
       "      <td>-0.292634</td>\n",
       "      <td>0.736222</td>\n",
       "      <td>0.601810</td>\n",
       "      <td>0.071777</td>\n",
       "      <td>0.049815</td>\n",
       "      <td>-0.024423</td>\n",
       "      <td>-0.010504</td>\n",
       "    </tr>\n",
       "    <tr>\n",
       "      <th>jaccard_coefficient</th>\n",
       "      <td>0.403850</td>\n",
       "      <td>-0.440237</td>\n",
       "      <td>-0.003159</td>\n",
       "      <td>-0.167289</td>\n",
       "      <td>-0.040687</td>\n",
       "      <td>-0.486755</td>\n",
       "      <td>0.603029</td>\n",
       "      <td>0.113449</td>\n",
       "    </tr>\n",
       "    <tr>\n",
       "      <th>adamic_adar_index</th>\n",
       "      <td>0.483193</td>\n",
       "      <td>-0.196741</td>\n",
       "      <td>-0.032202</td>\n",
       "      <td>-0.132187</td>\n",
       "      <td>-0.009054</td>\n",
       "      <td>0.290468</td>\n",
       "      <td>-0.123321</td>\n",
       "      <td>-0.780798</td>\n",
       "    </tr>\n",
       "    <tr>\n",
       "      <th>preferential_attachment</th>\n",
       "      <td>0.397369</td>\n",
       "      <td>0.445430</td>\n",
       "      <td>-0.036061</td>\n",
       "      <td>0.203881</td>\n",
       "      <td>0.074385</td>\n",
       "      <td>0.535058</td>\n",
       "      <td>0.511318</td>\n",
       "      <td>0.218071</td>\n",
       "    </tr>\n",
       "    <tr>\n",
       "      <th>resource_allocation_index</th>\n",
       "      <td>0.442955</td>\n",
       "      <td>-0.337512</td>\n",
       "      <td>-0.015394</td>\n",
       "      <td>-0.201435</td>\n",
       "      <td>-0.065388</td>\n",
       "      <td>0.272554</td>\n",
       "      <td>-0.491343</td>\n",
       "      <td>0.573659</td>\n",
       "    </tr>\n",
       "  </tbody>\n",
       "</table>\n",
       "</div>"
      ],
      "text/plain": [
       "                                PC1       PC2       PC3       PC4       PC5  \\\n",
       "deg_source                 0.329024  0.408857  0.073680  0.191922 -0.719562   \n",
       "deg_target                 0.372929  0.320080 -0.070017  0.158709  0.678347   \n",
       "clustering_coeff_source   -0.012568 -0.316087 -0.667130  0.669477 -0.073336   \n",
       "clustering_coeff_target    0.042742 -0.292634  0.736222  0.601810  0.071777   \n",
       "jaccard_coefficient        0.403850 -0.440237 -0.003159 -0.167289 -0.040687   \n",
       "adamic_adar_index          0.483193 -0.196741 -0.032202 -0.132187 -0.009054   \n",
       "preferential_attachment    0.397369  0.445430 -0.036061  0.203881  0.074385   \n",
       "resource_allocation_index  0.442955 -0.337512 -0.015394 -0.201435 -0.065388   \n",
       "\n",
       "                                PC6       PC7       PC8  \n",
       "deg_source                -0.353528 -0.197072 -0.026985  \n",
       "deg_target                -0.436397 -0.278899 -0.000010  \n",
       "clustering_coeff_source    0.014805 -0.032651 -0.002444  \n",
       "clustering_coeff_target    0.049815 -0.024423 -0.010504  \n",
       "jaccard_coefficient       -0.486755  0.603029  0.113449  \n",
       "adamic_adar_index          0.290468 -0.123321 -0.780798  \n",
       "preferential_attachment    0.535058  0.511318  0.218071  \n",
       "resource_allocation_index  0.272554 -0.491343  0.573659  "
      ]
     },
     "execution_count": 78,
     "metadata": {},
     "output_type": "execute_result"
    }
   ],
   "source": [
    "loadings = pd.DataFrame(pca.components_.T, columns=[\"PC1\", \"PC2\", \"PC3\", \"PC4\", \"PC5\", \"PC6\",\"PC7\",\"PC8\"], index=X_train.columns)\n",
    "loadings"
   ]
  },
  {
   "cell_type": "code",
   "execution_count": 79,
   "id": "409690f6",
   "metadata": {},
   "outputs": [
    {
     "data": {
      "text/plain": [
       "array([0.46371659, 0.17039123, 0.12203922, 0.11863646, 0.07234755,\n",
       "       0.02460026, 0.01913865, 0.00913005])"
      ]
     },
     "execution_count": 79,
     "metadata": {},
     "output_type": "execute_result"
    }
   ],
   "source": [
    "pca.explained_variance_ratio_"
   ]
  },
  {
   "cell_type": "code",
   "execution_count": 80,
   "id": "de82cd21",
   "metadata": {},
   "outputs": [
    {
     "data": {
      "text/plain": [
       "array([0.46371659, 0.63410782, 0.75614703, 0.87478349, 0.94713104,\n",
       "       0.9717313 , 0.99086995, 1.        ])"
      ]
     },
     "execution_count": 80,
     "metadata": {},
     "output_type": "execute_result"
    }
   ],
   "source": [
    "np.cumsum(pca.explained_variance_ratio_)"
   ]
  },
  {
   "cell_type": "code",
   "execution_count": 81,
   "id": "7f02eda1",
   "metadata": {},
   "outputs": [],
   "source": [
    "X_train_p[\"same_louvain_community\"]=train_feat[\"same_louvain_community\"]\n",
    "X_test_p[\"same_louvain_community\"]=test_feat[\"same_louvain_community\"]"
   ]
  },
  {
   "cell_type": "code",
   "execution_count": 82,
   "id": "ae7f4853",
   "metadata": {},
   "outputs": [],
   "source": [
    "X_train_p[\"same_greedy_modularity_community\"]=train_feat[\"same_greedy_modularity_community\"]\n",
    "X_test_p[\"same_greedy_modularity_community\"]=test_feat[\"same_greedy_modularity_community\"]"
   ]
  },
  {
   "cell_type": "code",
   "execution_count": 83,
   "id": "3e07dd1d",
   "metadata": {},
   "outputs": [],
   "source": [
    "X_train = X_train_p\n",
    "X_test = X_test_p"
   ]
  },
  {
   "cell_type": "code",
   "execution_count": 84,
   "id": "59365df3",
   "metadata": {},
   "outputs": [
    {
     "data": {
      "text/html": [
       "<div>\n",
       "<style scoped>\n",
       "    .dataframe tbody tr th:only-of-type {\n",
       "        vertical-align: middle;\n",
       "    }\n",
       "\n",
       "    .dataframe tbody tr th {\n",
       "        vertical-align: top;\n",
       "    }\n",
       "\n",
       "    .dataframe thead th {\n",
       "        text-align: right;\n",
       "    }\n",
       "</style>\n",
       "<table border=\"1\" class=\"dataframe\">\n",
       "  <thead>\n",
       "    <tr style=\"text-align: right;\">\n",
       "      <th></th>\n",
       "      <th>PC1</th>\n",
       "      <th>PC2</th>\n",
       "      <th>PC3</th>\n",
       "      <th>PC4</th>\n",
       "      <th>PC5</th>\n",
       "      <th>PC6</th>\n",
       "      <th>PC7</th>\n",
       "      <th>PC8</th>\n",
       "      <th>same_louvain_community</th>\n",
       "      <th>same_greedy_modularity_community</th>\n",
       "    </tr>\n",
       "  </thead>\n",
       "  <tbody>\n",
       "    <tr>\n",
       "      <th>0</th>\n",
       "      <td>-0.896230</td>\n",
       "      <td>0.198442</td>\n",
       "      <td>0.012708</td>\n",
       "      <td>-0.836644</td>\n",
       "      <td>0.354771</td>\n",
       "      <td>0.104436</td>\n",
       "      <td>0.054549</td>\n",
       "      <td>-0.005557</td>\n",
       "      <td>True</td>\n",
       "      <td>True</td>\n",
       "    </tr>\n",
       "    <tr>\n",
       "      <th>1</th>\n",
       "      <td>0.946220</td>\n",
       "      <td>-0.747301</td>\n",
       "      <td>-0.267615</td>\n",
       "      <td>-0.444197</td>\n",
       "      <td>0.113737</td>\n",
       "      <td>-0.047579</td>\n",
       "      <td>-0.297142</td>\n",
       "      <td>0.342693</td>\n",
       "      <td>True</td>\n",
       "      <td>False</td>\n",
       "    </tr>\n",
       "    <tr>\n",
       "      <th>2</th>\n",
       "      <td>3.229530</td>\n",
       "      <td>1.173559</td>\n",
       "      <td>-0.807631</td>\n",
       "      <td>0.263871</td>\n",
       "      <td>3.173812</td>\n",
       "      <td>-0.978947</td>\n",
       "      <td>-1.515524</td>\n",
       "      <td>0.349641</td>\n",
       "      <td>False</td>\n",
       "      <td>False</td>\n",
       "    </tr>\n",
       "    <tr>\n",
       "      <th>3</th>\n",
       "      <td>3.623899</td>\n",
       "      <td>-3.162567</td>\n",
       "      <td>-0.218977</td>\n",
       "      <td>-1.503699</td>\n",
       "      <td>-0.315120</td>\n",
       "      <td>-0.325291</td>\n",
       "      <td>0.125336</td>\n",
       "      <td>0.982816</td>\n",
       "      <td>True</td>\n",
       "      <td>True</td>\n",
       "    </tr>\n",
       "    <tr>\n",
       "      <th>4</th>\n",
       "      <td>1.589441</td>\n",
       "      <td>-1.576627</td>\n",
       "      <td>-0.372073</td>\n",
       "      <td>-0.901894</td>\n",
       "      <td>-0.168568</td>\n",
       "      <td>-0.609339</td>\n",
       "      <td>0.616306</td>\n",
       "      <td>0.295951</td>\n",
       "      <td>True</td>\n",
       "      <td>True</td>\n",
       "    </tr>\n",
       "    <tr>\n",
       "      <th>...</th>\n",
       "      <td>...</td>\n",
       "      <td>...</td>\n",
       "      <td>...</td>\n",
       "      <td>...</td>\n",
       "      <td>...</td>\n",
       "      <td>...</td>\n",
       "      <td>...</td>\n",
       "      <td>...</td>\n",
       "      <td>...</td>\n",
       "      <td>...</td>\n",
       "    </tr>\n",
       "    <tr>\n",
       "      <th>928216</th>\n",
       "      <td>-1.086368</td>\n",
       "      <td>-1.681096</td>\n",
       "      <td>-3.720174</td>\n",
       "      <td>2.888280</td>\n",
       "      <td>-0.325505</td>\n",
       "      <td>0.324206</td>\n",
       "      <td>-0.041990</td>\n",
       "      <td>-0.021403</td>\n",
       "      <td>False</td>\n",
       "      <td>False</td>\n",
       "    </tr>\n",
       "    <tr>\n",
       "      <th>928217</th>\n",
       "      <td>-1.063867</td>\n",
       "      <td>-1.661594</td>\n",
       "      <td>-3.724329</td>\n",
       "      <td>2.897919</td>\n",
       "      <td>-0.285753</td>\n",
       "      <td>0.299690</td>\n",
       "      <td>-0.057350</td>\n",
       "      <td>-0.021008</td>\n",
       "      <td>False</td>\n",
       "      <td>False</td>\n",
       "    </tr>\n",
       "    <tr>\n",
       "      <th>928218</th>\n",
       "      <td>-0.973044</td>\n",
       "      <td>-2.109857</td>\n",
       "      <td>-2.551659</td>\n",
       "      <td>3.869529</td>\n",
       "      <td>-0.131269</td>\n",
       "      <td>0.354803</td>\n",
       "      <td>-0.111749</td>\n",
       "      <td>-0.037403</td>\n",
       "      <td>False</td>\n",
       "      <td>False</td>\n",
       "    </tr>\n",
       "    <tr>\n",
       "      <th>928219</th>\n",
       "      <td>-0.914377</td>\n",
       "      <td>-2.164407</td>\n",
       "      <td>-2.324603</td>\n",
       "      <td>4.081201</td>\n",
       "      <td>-0.028818</td>\n",
       "      <td>0.321698</td>\n",
       "      <td>-0.150278</td>\n",
       "      <td>-0.039971</td>\n",
       "      <td>False</td>\n",
       "      <td>False</td>\n",
       "    </tr>\n",
       "    <tr>\n",
       "      <th>928220</th>\n",
       "      <td>-0.564155</td>\n",
       "      <td>-1.611749</td>\n",
       "      <td>-2.951548</td>\n",
       "      <td>3.790315</td>\n",
       "      <td>0.592729</td>\n",
       "      <td>-0.132706</td>\n",
       "      <td>-0.392947</td>\n",
       "      <td>-0.025315</td>\n",
       "      <td>False</td>\n",
       "      <td>False</td>\n",
       "    </tr>\n",
       "  </tbody>\n",
       "</table>\n",
       "<p>928221 rows × 10 columns</p>\n",
       "</div>"
      ],
      "text/plain": [
       "             PC1       PC2       PC3       PC4       PC5       PC6       PC7  \\\n",
       "0      -0.896230  0.198442  0.012708 -0.836644  0.354771  0.104436  0.054549   \n",
       "1       0.946220 -0.747301 -0.267615 -0.444197  0.113737 -0.047579 -0.297142   \n",
       "2       3.229530  1.173559 -0.807631  0.263871  3.173812 -0.978947 -1.515524   \n",
       "3       3.623899 -3.162567 -0.218977 -1.503699 -0.315120 -0.325291  0.125336   \n",
       "4       1.589441 -1.576627 -0.372073 -0.901894 -0.168568 -0.609339  0.616306   \n",
       "...          ...       ...       ...       ...       ...       ...       ...   \n",
       "928216 -1.086368 -1.681096 -3.720174  2.888280 -0.325505  0.324206 -0.041990   \n",
       "928217 -1.063867 -1.661594 -3.724329  2.897919 -0.285753  0.299690 -0.057350   \n",
       "928218 -0.973044 -2.109857 -2.551659  3.869529 -0.131269  0.354803 -0.111749   \n",
       "928219 -0.914377 -2.164407 -2.324603  4.081201 -0.028818  0.321698 -0.150278   \n",
       "928220 -0.564155 -1.611749 -2.951548  3.790315  0.592729 -0.132706 -0.392947   \n",
       "\n",
       "             PC8  same_louvain_community  same_greedy_modularity_community  \n",
       "0      -0.005557                    True                              True  \n",
       "1       0.342693                    True                             False  \n",
       "2       0.349641                   False                             False  \n",
       "3       0.982816                    True                              True  \n",
       "4       0.295951                    True                              True  \n",
       "...          ...                     ...                               ...  \n",
       "928216 -0.021403                   False                             False  \n",
       "928217 -0.021008                   False                             False  \n",
       "928218 -0.037403                   False                             False  \n",
       "928219 -0.039971                   False                             False  \n",
       "928220 -0.025315                   False                             False  \n",
       "\n",
       "[928221 rows x 10 columns]"
      ]
     },
     "execution_count": 84,
     "metadata": {},
     "output_type": "execute_result"
    }
   ],
   "source": [
    "X_train"
   ]
  },
  {
   "cell_type": "markdown",
   "id": "e5457a32",
   "metadata": {},
   "source": [
    "# GridSearchCV"
   ]
  },
  {
   "cell_type": "markdown",
   "id": "e54cece2",
   "metadata": {},
   "source": [
    "Exhaustive search over specified parameter values for an estimator.\n",
    "\n",
    "Important members are fit, predict.\n",
    "\n",
    "GridSearchCV implements a “fit” and a “score” method. It also implements “score_samples”, “predict”, “predict_proba”, “decision_function”, “transform” and “inverse_transform” if they are implemented in the estimator used.\n",
    "\n",
    "The parameters of the estimator used to apply these methods are optimized by cross-validated grid-search over a parameter grid."
   ]
  },
  {
   "cell_type": "code",
   "execution_count": 85,
   "id": "35d1459a",
   "metadata": {},
   "outputs": [],
   "source": [
    "from sklearn.model_selection import GridSearchCV\n",
    "import warnings\n",
    "warnings.filterwarnings('ignore')\n",
    "\n",
    "parameter_grid = {\n",
    "    'penalty' : ['l1','l2'], \n",
    "    'C'       : np.logspace(-3,3,7),\n",
    "    'solver'  : ['newton-cg', 'lbfgs', 'liblinear']\n",
    "}\n",
    "gridSearchCV = GridSearchCV(estimator=LogisticRegression(),\n",
    "                           param_grid=parameter_grid,\n",
    "                           scoring='roc_auc',\n",
    "                           cv=10)"
   ]
  },
  {
   "cell_type": "code",
   "execution_count": 86,
   "id": "6e8ddf7b",
   "metadata": {},
   "outputs": [
    {
     "data": {
      "text/plain": [
       "GridSearchCV(cv=10, estimator=LogisticRegression(),\n",
       "             param_grid={'C': array([1.e-03, 1.e-02, 1.e-01, 1.e+00, 1.e+01, 1.e+02, 1.e+03]),\n",
       "                         'penalty': ['l1', 'l2'],\n",
       "                         'solver': ['newton-cg', 'lbfgs', 'liblinear']},\n",
       "             scoring='roc_auc')"
      ]
     },
     "execution_count": 86,
     "metadata": {},
     "output_type": "execute_result"
    }
   ],
   "source": [
    "gridSearchCV.fit(X_train, y_train)"
   ]
  },
  {
   "cell_type": "code",
   "execution_count": 87,
   "id": "35595664",
   "metadata": {},
   "outputs": [
    {
     "name": "stdout",
     "output_type": "stream",
     "text": [
      "Best Hyperparameters: {'C': 0.001, 'penalty': 'l2', 'solver': 'liblinear'}\n",
      "Best ROC: 0.9754\n",
      "make_scorer(roc_auc_score, needs_threshold=True)\n"
     ]
    }
   ],
   "source": [
    "print('Best Hyperparameters:', gridSearchCV.best_params_)\n",
    "print('Best ROC:', \"%.4f\" % gridSearchCV.best_score_)\n",
    "print(gridSearchCV.scorer_)"
   ]
  },
  {
   "cell_type": "markdown",
   "id": "26f23ab9",
   "metadata": {},
   "source": [
    "# Logistic Regression"
   ]
  },
  {
   "cell_type": "markdown",
   "id": "97fd5e57",
   "metadata": {},
   "source": [
    "Logistic regression, despite its name, is a linear model for classification rather than regression. Logistic regression is also known in the literature as logit regression, maximum-entropy classification (MaxEnt) or the log-linear classifier. \n",
    "\n",
    "In this model, the probabilities describing the possible outcomes of a single trial are modeled using a logistic function."
   ]
  },
  {
   "cell_type": "markdown",
   "id": "72631195",
   "metadata": {},
   "source": [
    "## Default parameters "
   ]
  },
  {
   "cell_type": "code",
   "execution_count": 97,
   "id": "eab5e40c",
   "metadata": {},
   "outputs": [],
   "source": [
    "model_lg   = LogisticRegression()\n",
    "y_pred_lg     = model_lg.fit(X_train, y_train).predict_proba(X_test)[::,1]"
   ]
  },
  {
   "cell_type": "code",
   "execution_count": 98,
   "id": "58dab6dc",
   "metadata": {},
   "outputs": [
    {
     "data": {
      "text/plain": [
       "0.8625114573785518"
      ]
     },
     "execution_count": 98,
     "metadata": {},
     "output_type": "execute_result"
    }
   ],
   "source": [
    "model_lg.score(X_test, y_test)"
   ]
  },
  {
   "cell_type": "code",
   "execution_count": 99,
   "id": "0e6fd7ec",
   "metadata": {},
   "outputs": [
    {
     "data": {
      "text/plain": [
       "PC1                                 3.345\n",
       "same_louvain_community              2.291\n",
       "same_greedy_modularity_community    1.593\n",
       "PC6                                 0.549\n",
       "PC3                                -0.076\n",
       "PC5                                -0.133\n",
       "PC2                                -0.761\n",
       "PC7                                -0.950\n",
       "PC4                                -1.398\n",
       "PC8                                -2.157\n",
       "dtype: float64"
      ]
     },
     "execution_count": 99,
     "metadata": {},
     "output_type": "execute_result"
    }
   ],
   "source": [
    "feat_imp_lg = pd.Series(np.round(model_lg.coef_[0],3),\n",
    "          index=X_train.columns\n",
    ").sort_values(ascending=False)\n",
    "feat_imp_lg"
   ]
  },
  {
   "cell_type": "code",
   "execution_count": 100,
   "id": "e4b51b6a",
   "metadata": {},
   "outputs": [
    {
     "data": {
      "image/png": "[encoded data removed]",
      "text/plain": [
       "<Figure size 432x288 with 1 Axes>"
      ]
     },
     "metadata": {
      "needs_background": "light"
     },
     "output_type": "display_data"
    }
   ],
   "source": [
    "# Creating a bar plot\n",
    "sns.barplot(x=feat_imp_lg, y=feat_imp_lg.index)\n",
    "# Add labels to your graph\n",
    "plt.xlabel('Feature Importance Score')\n",
    "plt.ylabel('Features')\n",
    "plt.title(\"Visualizing Important Features\")\n",
    "plt.show()"
   ]
  },
  {
   "cell_type": "code",
   "execution_count": 101,
   "id": "700734e4",
   "metadata": {},
   "outputs": [
    {
     "data": {
      "text/plain": [
       "PC1                                 0.156869\n",
       "same_louvain_community              0.022515\n",
       "PC4                                 0.015147\n",
       "PC2                                 0.014593\n",
       "same_greedy_modularity_community    0.007599\n",
       "PC8                                 0.003249\n",
       "PC6                                 0.001847\n",
       "PC5                                 0.001204\n",
       "PC7                                 0.000481\n",
       "PC3                                 0.000050\n",
       "dtype: float64"
      ]
     },
     "execution_count": 101,
     "metadata": {},
     "output_type": "execute_result"
    }
   ],
   "source": [
    "imp_lg = pd.Series(\n",
    "    permutation_importance(model_lg, X_test, y_test).importances_mean,\n",
    "    index=X_train.columns\n",
    ").sort_values(ascending=False)\n",
    "imp_lg"
   ]
  },
  {
   "cell_type": "code",
   "execution_count": 102,
   "id": "1710de6b",
   "metadata": {},
   "outputs": [
    {
     "data": {
      "image/png": "[encoded data removed]",
      "text/plain": [
       "<Figure size 432x288 with 1 Axes>"
      ]
     },
     "metadata": {
      "needs_background": "light"
     },
     "output_type": "display_data"
    }
   ],
   "source": [
    "# Creating a bar plot\n",
    "sns.barplot(x=imp_lg, y=imp_lg.index)\n",
    "# Add labels to your graph\n",
    "plt.xlabel('Feature Importance Score')\n",
    "plt.ylabel('Features')\n",
    "plt.title(\"Visualizing Important Features\")\n",
    "plt.show()"
   ]
  },
  {
   "cell_type": "code",
   "execution_count": 103,
   "id": "194731b8",
   "metadata": {},
   "outputs": [
    {
     "data": {
      "image/png": "[encoded data removed]",
      "text/plain": [
       "<Figure size 432x288 with 1 Axes>"
      ]
     },
     "metadata": {
      "needs_background": "light"
     },
     "output_type": "display_data"
    }
   ],
   "source": [
    "auc_lg = metrics.roc_auc_score(y_test, y_pred_lg)\n",
    "false_positive_rate_lg, false_negative_rate_lg, _ = metrics.roc_curve(y_test,  y_pred_lg)\n",
    "\n",
    "plt.plot(false_positive_rate_lg,false_negative_rate_lg)\n",
    "plt.title(f\"Area Under ROC = {np.round(auc_lg, 4)}\")\n",
    "plt.ylabel('True Positive Rate')\n",
    "plt.xlabel('False Positive Rate')\n",
    "plt.plot([0,1], [0,1], color = \"black\")\n",
    "plt.show()"
   ]
  },
  {
   "cell_type": "markdown",
   "id": "51f2d7fe",
   "metadata": {},
   "source": [
    "## Logistic Regression with GridSearch parameters"
   ]
  },
  {
   "cell_type": "code",
   "execution_count": 104,
   "id": "9bc63222",
   "metadata": {},
   "outputs": [],
   "source": [
    "model_lg_GS   = LogisticRegression(C= 0.001, penalty = 'l2', solver = \"liblinear\")\n",
    "y_pred_lg_GS     = model_lg_GS.fit(X_train, y_train).predict_proba(X_test)[::,1]"
   ]
  },
  {
   "cell_type": "code",
   "execution_count": 105,
   "id": "e34f5251",
   "metadata": {},
   "outputs": [
    {
     "data": {
      "text/plain": [
       "0.8614573785517874"
      ]
     },
     "execution_count": 105,
     "metadata": {},
     "output_type": "execute_result"
    }
   ],
   "source": [
    "model_lg_GS.score(X_test, y_test)"
   ]
  },
  {
   "cell_type": "code",
   "execution_count": 106,
   "id": "aa3038f6",
   "metadata": {},
   "outputs": [
    {
     "data": {
      "text/plain": [
       "PC1                                 2.496\n",
       "same_louvain_community              2.050\n",
       "same_greedy_modularity_community    1.440\n",
       "PC3                                -0.016\n",
       "PC5                                -0.138\n",
       "PC7                                -0.142\n",
       "PC8                                -0.162\n",
       "PC6                                -0.315\n",
       "PC2                                -0.614\n",
       "PC4                                -1.058\n",
       "dtype: float64"
      ]
     },
     "execution_count": 106,
     "metadata": {},
     "output_type": "execute_result"
    }
   ],
   "source": [
    "feat_imp_lg_GS = pd.Series(np.round(model_lg_GS.coef_[0],3),\n",
    "          index=X_train.columns\n",
    ").sort_values(ascending=False)\n",
    "feat_imp_lg_GS"
   ]
  },
  {
   "cell_type": "code",
   "execution_count": 107,
   "id": "f7019393",
   "metadata": {},
   "outputs": [
    {
     "data": {
      "image/png": "[encoded data removed]",
      "text/plain": [
       "<Figure size 432x288 with 1 Axes>"
      ]
     },
     "metadata": {
      "needs_background": "light"
     },
     "output_type": "display_data"
    }
   ],
   "source": [
    "# Creating a bar plot\n",
    "sns.barplot(x=feat_imp_lg_GS, y=feat_imp_lg_GS.index)\n",
    "# Add labels to your graph\n",
    "plt.xlabel('Feature Importance Score')\n",
    "plt.ylabel('Features')\n",
    "plt.title(\"Visualizing Important Features\")\n",
    "plt.show()"
   ]
  },
  {
   "cell_type": "code",
   "execution_count": 108,
   "id": "8842ff88",
   "metadata": {},
   "outputs": [
    {
     "data": {
      "text/plain": [
       "PC1                                 0.128087\n",
       "same_louvain_community              0.021185\n",
       "PC2                                 0.012145\n",
       "PC4                                 0.010904\n",
       "same_greedy_modularity_community    0.006885\n",
       "PC5                                 0.001203\n",
       "PC8                                 0.000268\n",
       "PC7                                 0.000058\n",
       "PC3                                -0.000017\n",
       "PC6                                -0.000214\n",
       "dtype: float64"
      ]
     },
     "execution_count": 108,
     "metadata": {},
     "output_type": "execute_result"
    }
   ],
   "source": [
    "imp_lg_GS = pd.Series(\n",
    "    permutation_importance(model_lg_GS, X_test, y_test).importances_mean,\n",
    "    index=X_train.columns\n",
    ").sort_values(ascending=False)\n",
    "imp_lg_GS"
   ]
  },
  {
   "cell_type": "code",
   "execution_count": 109,
   "id": "775e572f",
   "metadata": {},
   "outputs": [
    {
     "data": {
      "image/png": "[encoded data removed]",
      "text/plain": [
       "<Figure size 432x288 with 1 Axes>"
      ]
     },
     "metadata": {
      "needs_background": "light"
     },
     "output_type": "display_data"
    }
   ],
   "source": [
    "# Creating a bar plot\n",
    "sns.barplot(x=imp_lg_GS, y=imp_lg_GS.index)\n",
    "# Add labels to your graph\n",
    "plt.xlabel('Feature Importance Score')\n",
    "plt.ylabel('Features')\n",
    "plt.title(\"Visualizing Important Features\")\n",
    "plt.show()"
   ]
  },
  {
   "cell_type": "code",
   "execution_count": 110,
   "id": "af98105d",
   "metadata": {},
   "outputs": [
    {
     "data": {
      "image/png": "[encoded data removed]",
      "text/plain": [
       "<Figure size 432x288 with 1 Axes>"
      ]
     },
     "metadata": {
      "needs_background": "light"
     },
     "output_type": "display_data"
    }
   ],
   "source": [
    "auc_lg_GS = metrics.roc_auc_score(y_test, y_pred_lg_GS)\n",
    "false_positive_rate_lg_GS, false_negative_rate_lg_GS, _ = metrics.roc_curve(y_test,  y_pred_lg_GS)\n",
    "\n",
    "plt.plot(false_positive_rate_lg_GS,false_negative_rate_lg_GS)\n",
    "plt.title(f\"Area Under ROC = {np.round(auc_lg_GS, 4)}\")\n",
    "plt.ylabel('True Positive Rate')\n",
    "plt.xlabel('False Positive Rate')\n",
    "plt.plot([0,1], [0,1], color = \"black\")\n",
    "plt.show()"
   ]
  },
  {
   "cell_type": "markdown",
   "id": "7560cf4d",
   "metadata": {},
   "source": [
    "Results (ROC AUC score):  \n",
    "Default parameters: 0.8599  \n",
    "GridSearch parameters: 0.8593  \n",
    "\n",
    "\n",
    "Despite using GridSearch to find the highest scored parameter, the result of the logistic regression model with gridSearch parameter is still slightly lower than default parameter.  "
   ]
  },
  {
   "cell_type": "markdown",
   "id": "2fe65682",
   "metadata": {},
   "source": [
    "# Support Vector Machines"
   ]
  },
  {
   "cell_type": "markdown",
   "id": "82cd2c9b",
   "metadata": {},
   "source": [
    "Support vector machines (SVMs) are a set of supervised learning methods used for classification, regression and outliers detection.\n",
    "\n",
    "The advantages of support vector machines are:\n",
    "\n",
    "* Effective in high dimensional spaces.\n",
    "\n",
    "* Still effective in cases where number of dimensions is greater than the number of samples.\n",
    "\n",
    "* Uses a subset of training points in the decision function (called support vectors), so it is also memory efficient.\n",
    "\n",
    "* Versatile: different Kernel functions can be specified for the decision function. Common kernels are provided, but it is also possible to specify custom kernels.\n",
    "\n",
    "The disadvantages of support vector machines include:\n",
    "\n",
    "* If the number of features is much greater than the number of samples, avoid over-fitting in choosing Kernel functions and regularization term is crucial.\n",
    "\n",
    "* SVMs do not directly provide probability estimates, these are calculated using an expensive five-fold cross-validation (see Scores and probabilities, below)."
   ]
  },
  {
   "cell_type": "markdown",
   "id": "93492896",
   "metadata": {},
   "source": [
    "## Linear Support Vector Classification\n",
    "\n",
    "Similar to SVC with parameter kernel=’linear’, but implemented in terms of liblinear rather than libsvm, so it has more flexibility in the choice of penalties and loss functions and should scale better to large numbers of samples.\n",
    "\n",
    "This class supports both dense and sparse input and the multiclass support is handled according to a one-vs-the-rest scheme."
   ]
  },
  {
   "cell_type": "code",
   "execution_count": 95,
   "id": "b98f7e31",
   "metadata": {},
   "outputs": [],
   "source": [
    "from sklearn.svm import LinearSVC\n",
    "from sklearn.preprocessing import StandardScaler\n",
    "from sklearn.calibration import CalibratedClassifierCV\n",
    "clf_svc = LinearSVC(random_state=0)"
   ]
  },
  {
   "cell_type": "code",
   "execution_count": 111,
   "id": "a6862d2b",
   "metadata": {},
   "outputs": [],
   "source": [
    "clf_cc = CalibratedClassifierCV(clf_svc) \n",
    "y_pred_svc = clf_cc.fit(X_train, y_train).predict_proba(X_test)[::,1]"
   ]
  },
  {
   "cell_type": "code",
   "execution_count": 112,
   "id": "80aafbbd",
   "metadata": {},
   "outputs": [
    {
     "data": {
      "text/plain": [
       "0.8480191465526021"
      ]
     },
     "execution_count": 112,
     "metadata": {},
     "output_type": "execute_result"
    }
   ],
   "source": [
    "clf_cc.score(X_test, y_test)"
   ]
  },
  {
   "cell_type": "code",
   "execution_count": 113,
   "id": "fb7b5421",
   "metadata": {},
   "outputs": [
    {
     "data": {
      "text/plain": [
       "PC1                                 0.130232\n",
       "same_louvain_community              0.016915\n",
       "same_greedy_modularity_community    0.009131\n",
       "PC4                                 0.003750\n",
       "PC2                                 0.002473\n",
       "PC5                                 0.000225\n",
       "PC8                                 0.000090\n",
       "PC3                                -0.000006\n",
       "PC7                                -0.000215\n",
       "PC6                                -0.001767\n",
       "dtype: float64"
      ]
     },
     "execution_count": 113,
     "metadata": {},
     "output_type": "execute_result"
    }
   ],
   "source": [
    "imp_svc = pd.Series(permutation_importance(clf_cc, X_test, y_test).importances_mean,\n",
    "                index=X_train.columns\n",
    ").sort_values(ascending=False)\n",
    "imp_svc"
   ]
  },
  {
   "cell_type": "code",
   "execution_count": 114,
   "id": "d1a43b0a",
   "metadata": {},
   "outputs": [
    {
     "data": {
      "image/png": "[encoded data removed]",
      "text/plain": [
       "<Figure size 432x288 with 1 Axes>"
      ]
     },
     "metadata": {
      "needs_background": "light"
     },
     "output_type": "display_data"
    }
   ],
   "source": [
    "# Creating a bar plot\n",
    "sns.barplot(x=imp_svc, y=imp_svc.index)\n",
    "# Add labels to your graph\n",
    "plt.xlabel('Feature Importance Score')\n",
    "plt.ylabel('Features')\n",
    "plt.title(\"Visualizing Important Features\")\n",
    "plt.show()"
   ]
  },
  {
   "cell_type": "code",
   "execution_count": 115,
   "id": "1cea9a35",
   "metadata": {},
   "outputs": [
    {
     "data": {
      "image/png": "[encoded data removed]",
      "text/plain": [
       "<Figure size 432x288 with 1 Axes>"
      ]
     },
     "metadata": {
      "needs_background": "light"
     },
     "output_type": "display_data"
    }
   ],
   "source": [
    "auc_svc = metrics.roc_auc_score(y_test, y_pred_svc)\n",
    "false_positive_rate_svc, false_negative_rate_svc, _ = metrics.roc_curve(y_test,  y_pred_svc)\n",
    "\n",
    "plt.plot(false_positive_rate_svc,false_negative_rate_svc)\n",
    "plt.title(f\"Area Under ROC = {np.round(auc_svc, 4)}\")\n",
    "plt.ylabel('True Positive Rate')\n",
    "plt.xlabel('False Positive Rate')\n",
    "plt.plot([0,1], [0,1], color = \"black\")\n",
    "plt.show()"
   ]
  },
  {
   "cell_type": "markdown",
   "id": "05950612",
   "metadata": {},
   "source": [
    "# Gaussian Naive Bayes"
   ]
  },
  {
   "cell_type": "markdown",
   "id": "7e54e46b",
   "metadata": {},
   "source": [
    "Naive Bayes methods are a set of supervised learning algorithms based on applying Bayes’ theorem with the “naive” assumption of conditional independence between every pair of features given the value of the class variable. "
   ]
  },
  {
   "cell_type": "code",
   "execution_count": 116,
   "id": "16b95e90",
   "metadata": {},
   "outputs": [],
   "source": [
    "from sklearn.naive_bayes import GaussianNB\n",
    "gnb = GaussianNB(var_smoothing = 0.7)\n",
    "y_pred_gnb = gnb.fit(X_train, y_train).predict_proba(X_test)[::,1]"
   ]
  },
  {
   "cell_type": "code",
   "execution_count": 117,
   "id": "3d17cbd0",
   "metadata": {},
   "outputs": [
    {
     "data": {
      "text/plain": [
       "0.7869589571239434"
      ]
     },
     "execution_count": 117,
     "metadata": {},
     "output_type": "execute_result"
    }
   ],
   "source": [
    "gnb.score(X_test,y_test)"
   ]
  },
  {
   "cell_type": "code",
   "execution_count": 118,
   "id": "e1895389",
   "metadata": {},
   "outputs": [
    {
     "data": {
      "text/plain": [
       "PC1                                 0.045860\n",
       "PC2                                 0.004752\n",
       "same_louvain_community              0.002505\n",
       "same_greedy_modularity_community    0.002148\n",
       "PC6                                 0.000629\n",
       "PC3                                 0.000295\n",
       "PC5                                 0.000237\n",
       "PC7                                 0.000207\n",
       "PC4                                 0.000206\n",
       "PC8                                 0.000037\n",
       "dtype: float64"
      ]
     },
     "execution_count": 118,
     "metadata": {},
     "output_type": "execute_result"
    }
   ],
   "source": [
    "imps = pd.Series(permutation_importance(gnb, X_test, y_test).importances_mean,\n",
    "                index=X_train.columns\n",
    ").sort_values(ascending=False)\n",
    "imps"
   ]
  },
  {
   "cell_type": "code",
   "execution_count": 119,
   "id": "b6750b9e",
   "metadata": {},
   "outputs": [
    {
     "data": {
      "image/png": "[encoded data removed]",
      "text/plain": [
       "<Figure size 432x288 with 1 Axes>"
      ]
     },
     "metadata": {
      "needs_background": "light"
     },
     "output_type": "display_data"
    }
   ],
   "source": [
    "# Creating a bar plot\n",
    "sns.barplot(x=imps, y=imps.index)\n",
    "# Add labels to your graph\n",
    "plt.xlabel('Feature Importance Score')\n",
    "plt.ylabel('Features')\n",
    "plt.title(\"Visualizing Important Features\")\n",
    "plt.show()"
   ]
  },
  {
   "cell_type": "code",
   "execution_count": 120,
   "id": "220663c7",
   "metadata": {},
   "outputs": [
    {
     "data": {
      "image/png": "[encoded data removed]",
      "text/plain": [
       "<Figure size 432x288 with 1 Axes>"
      ]
     },
     "metadata": {
      "needs_background": "light"
     },
     "output_type": "display_data"
    }
   ],
   "source": [
    "auc_gnb = metrics.roc_auc_score(y_test, y_pred_gnb)\n",
    "false_positive_rate_gnb, false_negative_rate_gnb, _ = metrics.roc_curve(y_test,  y_pred_gnb)\n",
    "\n",
    "plt.plot(false_positive_rate_gnb,false_negative_rate_gnb)\n",
    "plt.title(f\"Area Under ROC = {np.round(auc_gnb, 4)}\")\n",
    "plt.ylabel('True Positive Rate')\n",
    "plt.xlabel('False Positive Rate')\n",
    "plt.plot([0,1], [0,1], color = \"black\")\n",
    "plt.show()"
   ]
  },
  {
   "cell_type": "markdown",
   "id": "b3667493",
   "metadata": {},
   "source": [
    "# Naive Bayes classifier for multivariate Bernoulli models."
   ]
  },
  {
   "cell_type": "markdown",
   "id": "dbcb5cb1",
   "metadata": {},
   "source": [
    "Like MultinomialNB, this classifier is suitable for discrete data. The difference is that while MultinomialNB works with occurrence counts, BernoulliNB is designed for binary/boolean features."
   ]
  },
  {
   "cell_type": "code",
   "execution_count": 121,
   "id": "06d7b7f8",
   "metadata": {},
   "outputs": [],
   "source": [
    "from sklearn.naive_bayes import BernoulliNB\n",
    "bernou_gnb = BernoulliNB(binarize = 0.25)\n",
    "y_pred_bernou_gnb = bernou_gnb.fit(X_train, y_train).predict_proba(X_test)[::,1]"
   ]
  },
  {
   "cell_type": "code",
   "execution_count": 122,
   "id": "38353f91",
   "metadata": {},
   "outputs": [
    {
     "data": {
      "text/plain": [
       "0.8492921886139118"
      ]
     },
     "execution_count": 122,
     "metadata": {},
     "output_type": "execute_result"
    }
   ],
   "source": [
    "bernou_gnb.score(X_test,y_test)"
   ]
  },
  {
   "cell_type": "code",
   "execution_count": 123,
   "id": "2e0c12e8",
   "metadata": {},
   "outputs": [
    {
     "data": {
      "text/plain": [
       "same_louvain_community              0.028943\n",
       "PC1                                 0.019907\n",
       "same_greedy_modularity_community    0.015352\n",
       "PC7                                 0.009591\n",
       "PC8                                 0.002265\n",
       "PC6                                 0.000654\n",
       "PC2                                 0.000242\n",
       "PC3                                 0.000000\n",
       "PC4                                 0.000000\n",
       "PC5                                -0.000016\n",
       "dtype: float64"
      ]
     },
     "execution_count": 123,
     "metadata": {},
     "output_type": "execute_result"
    }
   ],
   "source": [
    "imps_bernou_gnb = pd.Series(permutation_importance(bernou_gnb, X_test, y_test).importances_mean,\n",
    "                index=X_train.columns\n",
    ").sort_values(ascending=False)\n",
    "imps_bernou_gnb"
   ]
  },
  {
   "cell_type": "code",
   "execution_count": 124,
   "id": "eb702a49",
   "metadata": {},
   "outputs": [
    {
     "data": {
      "image/png": "[encoded data removed]",
      "text/plain": [
       "<Figure size 432x288 with 1 Axes>"
      ]
     },
     "metadata": {
      "needs_background": "light"
     },
     "output_type": "display_data"
    }
   ],
   "source": [
    "# Creating a bar plot\n",
    "sns.barplot(x=imps_bernou_gnb, y=imps_bernou_gnb.index)\n",
    "# Add labels to your graph\n",
    "plt.xlabel('Feature Importance Score')\n",
    "plt.ylabel('Features')\n",
    "plt.title(\"Visualizing Important Features\")\n",
    "plt.show()"
   ]
  },
  {
   "cell_type": "code",
   "execution_count": 125,
   "id": "c7b47bef",
   "metadata": {},
   "outputs": [
    {
     "data": {
      "image/png": "[encoded data removed]",
      "text/plain": [
       "<Figure size 432x288 with 1 Axes>"
      ]
     },
     "metadata": {
      "needs_background": "light"
     },
     "output_type": "display_data"
    }
   ],
   "source": [
    "auc_bernou_gnb = metrics.roc_auc_score(y_test, y_pred_bernou_gnb)\n",
    "false_positive_rate_bernou_gnb, false_negative_rate_bernou_gnb, _ = metrics.roc_curve(y_test,  y_pred_bernou_gnb)\n",
    "\n",
    "plt.plot(false_positive_rate_bernou_gnb,false_negative_rate_bernou_gnb)\n",
    "plt.title(f\"Area Under ROC = {np.round(auc_bernou_gnb, 4)}\")\n",
    "plt.ylabel('True Positive Rate')\n",
    "plt.xlabel('False Positive Rate')\n",
    "plt.plot([0,1], [0,1], color = \"black\")\n",
    "plt.show()"
   ]
  },
  {
   "cell_type": "markdown",
   "id": "27895af2",
   "metadata": {},
   "source": [
    "# Decision Trees"
   ]
  },
  {
   "cell_type": "markdown",
   "id": "37a88d8d",
   "metadata": {},
   "source": [
    "Decision Trees (DTs) are a non-parametric supervised learning method used for classification and regression. \n",
    "\n",
    "The goal is to create a model that predicts the value of a target variable by learning simple decision rules inferred from the data features. A tree can be seen as a piecewise constant approximation.\n",
    "\n",
    "DecisionTreeClassifier is a class capable of performing multi-class classification on a dataset."
   ]
  },
  {
   "cell_type": "code",
   "execution_count": 126,
   "id": "62f7d69c",
   "metadata": {},
   "outputs": [],
   "source": [
    "from sklearn import tree\n",
    "clf_dt = tree.DecisionTreeClassifier(min_samples_split = 1000, max_features = 'auto', splitter='random')\n",
    "y_pred_clf_dt = clf_dt.fit(X_train, y_train).predict_proba(X_test)[::,1]"
   ]
  },
  {
   "cell_type": "code",
   "execution_count": 127,
   "id": "dee12e8d",
   "metadata": {},
   "outputs": [
    {
     "data": {
      "text/plain": [
       "0.8557694266218556"
      ]
     },
     "execution_count": 127,
     "metadata": {},
     "output_type": "execute_result"
    }
   ],
   "source": [
    "clf_dt.score(X_test, y_test)"
   ]
  },
  {
   "cell_type": "code",
   "execution_count": 128,
   "id": "7660a1f3",
   "metadata": {},
   "outputs": [
    {
     "data": {
      "text/plain": [
       "same_louvain_community              0.609808\n",
       "PC1                                 0.132708\n",
       "same_greedy_modularity_community    0.113681\n",
       "PC8                                 0.049907\n",
       "PC2                                 0.030520\n",
       "PC6                                 0.030236\n",
       "PC3                                 0.012105\n",
       "PC4                                 0.009233\n",
       "PC7                                 0.008591\n",
       "PC5                                 0.003213\n",
       "dtype: float64"
      ]
     },
     "execution_count": 128,
     "metadata": {},
     "output_type": "execute_result"
    }
   ],
   "source": [
    "feature_imp_dt = pd.Series(clf_dt.feature_importances_\n",
    "                           , index=X_train.columns).sort_values(ascending=False)\n",
    "feature_imp_dt"
   ]
  },
  {
   "cell_type": "code",
   "execution_count": 129,
   "id": "b7738503",
   "metadata": {},
   "outputs": [
    {
     "data": {
      "image/png": "[encoded data removed]",
      "text/plain": [
       "<Figure size 432x288 with 1 Axes>"
      ]
     },
     "metadata": {
      "needs_background": "light"
     },
     "output_type": "display_data"
    }
   ],
   "source": [
    "# Creating a bar plot\n",
    "sns.barplot(x=feature_imp_dt, y=feature_imp_dt.index)\n",
    "# Add labels to your graph\n",
    "plt.xlabel('Feature Importance Score')\n",
    "plt.ylabel('Features')\n",
    "plt.title(\"Visualizing Important Features\")\n",
    "plt.show()"
   ]
  },
  {
   "cell_type": "code",
   "execution_count": 130,
   "id": "08901872",
   "metadata": {},
   "outputs": [
    {
     "data": {
      "text/plain": [
       "PC1                                 0.147842\n",
       "PC8                                 0.059536\n",
       "same_louvain_community              0.042428\n",
       "PC2                                 0.031991\n",
       "PC6                                 0.031947\n",
       "PC7                                 0.023396\n",
       "PC4                                 0.017031\n",
       "PC5                                 0.009948\n",
       "PC3                                 0.007985\n",
       "same_greedy_modularity_community    0.004935\n",
       "dtype: float64"
      ]
     },
     "execution_count": 130,
     "metadata": {},
     "output_type": "execute_result"
    }
   ],
   "source": [
    "imp_dt = pd.Series(\n",
    "    permutation_importance(clf_dt, X_test, y_test).importances_mean,\n",
    "    index=X_train.columns\n",
    ").sort_values(ascending=False)\n",
    "imp_dt"
   ]
  },
  {
   "cell_type": "code",
   "execution_count": 131,
   "id": "6d40ae76",
   "metadata": {},
   "outputs": [
    {
     "data": {
      "image/png": "[encoded data removed]",
      "text/plain": [
       "<Figure size 432x288 with 1 Axes>"
      ]
     },
     "metadata": {
      "needs_background": "light"
     },
     "output_type": "display_data"
    }
   ],
   "source": [
    "# Creating a bar plot\n",
    "sns.barplot(x=imp_dt, y=imp_dt.index)\n",
    "# Add labels to your graph\n",
    "plt.xlabel('Feature Importance Score')\n",
    "plt.ylabel('Features')\n",
    "plt.title(\"Visualizing Important Features\")\n",
    "plt.show()"
   ]
  },
  {
   "cell_type": "code",
   "execution_count": 132,
   "id": "a2242701",
   "metadata": {},
   "outputs": [
    {
     "data": {
      "image/png": "[encoded data removed]",
      "text/plain": [
       "<Figure size 432x288 with 1 Axes>"
      ]
     },
     "metadata": {
      "needs_background": "light"
     },
     "output_type": "display_data"
    }
   ],
   "source": [
    "auc_dt = metrics.roc_auc_score(y_test, y_pred_clf_dt)\n",
    "false_positive_rate_dt, false_negative_rate_dt, _ = metrics.roc_curve(y_test,  y_pred_clf_dt)\n",
    "\n",
    "plt.plot(false_positive_rate_dt,false_negative_rate_dt)\n",
    "plt.title(f\"Area Under ROC = {np.round(auc_dt, 4)}\")\n",
    "plt.ylabel('True Positive Rate')\n",
    "plt.xlabel('False Positive Rate')\n",
    "plt.plot([0,1], [0,1], color = \"black\")\n",
    "plt.show()"
   ]
  },
  {
   "cell_type": "markdown",
   "id": "f1cd9021",
   "metadata": {},
   "source": [
    "# Random Forest Classifier"
   ]
  },
  {
   "cell_type": "markdown",
   "id": "7dbb4525",
   "metadata": {},
   "source": [
    "A random forest is a meta estimator that fits a number of classifying decision trees on various sub-samples of the dataset and uses averaging to improve the predictive accuracy and control over-fitting. The sub-sample size is controlled with the max_samples parameter if bootstrap=True (default), otherwise the whole dataset is used to build each tree."
   ]
  },
  {
   "cell_type": "code",
   "execution_count": 133,
   "id": "0132633f",
   "metadata": {},
   "outputs": [],
   "source": [
    "#Import Random Forest Model\n",
    "from sklearn.ensemble import RandomForestClassifier\n",
    "\n",
    "#Create a Gaussian Classifier\n",
    "clf_rf = RandomForestClassifier(n_estimators=200, random_state = 0, max_depth = 10, min_samples_split = 2500)\n",
    "\n",
    "#Train the model using the training sets y_pred=clf.predict(X_test)\n",
    "y_pred_clf_rf = clf_rf.fit(X_train,y_train).predict_proba(X_test)[::,1]"
   ]
  },
  {
   "cell_type": "code",
   "execution_count": 134,
   "id": "4805c700",
   "metadata": {},
   "outputs": [
    {
     "data": {
      "text/plain": [
       "0.8615592219166921"
      ]
     },
     "execution_count": 134,
     "metadata": {},
     "output_type": "execute_result"
    }
   ],
   "source": [
    "clf_rf.score(X_test, y_test)"
   ]
  },
  {
   "cell_type": "code",
   "execution_count": 136,
   "id": "58c1f9dc",
   "metadata": {},
   "outputs": [
    {
     "data": {
      "text/plain": [
       "PC1                                 0.363078\n",
       "same_louvain_community              0.233862\n",
       "same_greedy_modularity_community    0.187626\n",
       "PC8                                 0.061816\n",
       "PC7                                 0.060737\n",
       "PC6                                 0.040004\n",
       "PC2                                 0.032069\n",
       "PC4                                 0.015089\n",
       "PC5                                 0.003315\n",
       "PC3                                 0.002405\n",
       "dtype: float64"
      ]
     },
     "execution_count": 136,
     "metadata": {},
     "output_type": "execute_result"
    }
   ],
   "source": [
    "feature_imp = pd.Series(clf_rf.feature_importances_,index=X_train.columns).sort_values(ascending=False)\n",
    "feature_imp"
   ]
  },
  {
   "cell_type": "code",
   "execution_count": 137,
   "id": "19941e00",
   "metadata": {},
   "outputs": [
    {
     "data": {
      "image/png": "[encoded data removed]",
      "text/plain": [
       "<Figure size 432x288 with 1 Axes>"
      ]
     },
     "metadata": {
      "needs_background": "light"
     },
     "output_type": "display_data"
    }
   ],
   "source": [
    "# Creating a bar plot\n",
    "sns.barplot(x=feature_imp, y=feature_imp.index)\n",
    "# Add labels to your graph\n",
    "plt.xlabel('Feature Importance Score')\n",
    "plt.ylabel('Features')\n",
    "plt.title(\"Visualizing Important Features\")\n",
    "plt.show()"
   ]
  },
  {
   "cell_type": "code",
   "execution_count": 138,
   "id": "e57a5770",
   "metadata": {},
   "outputs": [
    {
     "data": {
      "text/plain": [
       "PC1                                 0.123077\n",
       "same_louvain_community              0.032021\n",
       "PC6                                 0.018181\n",
       "PC2                                 0.016652\n",
       "PC7                                 0.014592\n",
       "PC4                                 0.007474\n",
       "same_greedy_modularity_community    0.003958\n",
       "PC8                                 0.003543\n",
       "PC5                                 0.000154\n",
       "PC3                                -0.000071\n",
       "dtype: float64"
      ]
     },
     "execution_count": 138,
     "metadata": {},
     "output_type": "execute_result"
    }
   ],
   "source": [
    "imp_rf = pd.Series(\n",
    "    permutation_importance(clf_rf, X_test, y_test).importances_mean,\n",
    "    index=X_train.columns\n",
    ").sort_values(ascending=False)\n",
    "imp_rf"
   ]
  },
  {
   "cell_type": "code",
   "execution_count": 139,
   "id": "cccbedc8",
   "metadata": {},
   "outputs": [
    {
     "data": {
      "image/png": "[encoded data removed]",
      "text/plain": [
       "<Figure size 432x288 with 1 Axes>"
      ]
     },
     "metadata": {
      "needs_background": "light"
     },
     "output_type": "display_data"
    }
   ],
   "source": [
    "# Creating a bar plot\n",
    "sns.barplot(x=imp_rf, y=imp_rf.index)\n",
    "# Add labels to your graph\n",
    "plt.xlabel('Feature Importance Score')\n",
    "plt.ylabel('Features')\n",
    "plt.title(\"Visualizing Important Features\")\n",
    "plt.show()"
   ]
  },
  {
   "cell_type": "code",
   "execution_count": 140,
   "id": "947c36bd",
   "metadata": {},
   "outputs": [
    {
     "data": {
      "image/png": "[encoded data removed]",
      "text/plain": [
       "<Figure size 432x288 with 1 Axes>"
      ]
     },
     "metadata": {
      "needs_background": "light"
     },
     "output_type": "display_data"
    }
   ],
   "source": [
    "auc_rf = metrics.roc_auc_score(y_test, y_pred_clf_rf)\n",
    "false_positive_rate_rf, false_negative_rate_rf, _ = metrics.roc_curve(y_test,  y_pred_clf_rf)\n",
    "\n",
    "plt.plot(false_positive_rate_rf,false_negative_rate_rf)\n",
    "plt.title(f\"Area Under ROC = {np.round(auc_rf, 4)}\")\n",
    "plt.ylabel('True Positive Rate')\n",
    "plt.xlabel('False Positive Rate')\n",
    "plt.plot([0,1], [0,1], color = \"black\")\n",
    "plt.show()\n",
    "\n",
    "# min_samples_split = 2500 = 0.8562\n",
    "# min_samples_split = 2000 = 0.8561\n",
    "# min_samples_split = 1000 = 0.8554\n",
    "# min_samples_split = 500 = 0.8549\n",
    "# min_samples_split = default = 0.8543"
   ]
  },
  {
   "cell_type": "markdown",
   "id": "f9a406d0",
   "metadata": {},
   "source": [
    "# Random Forest Regressor "
   ]
  },
  {
   "cell_type": "markdown",
   "id": "7e3b382c",
   "metadata": {},
   "source": [
    "## n_estimators = 100, random_state = 0, max_depth = 10, min_samples_split = 2500"
   ]
  },
  {
   "cell_type": "code",
   "execution_count": 142,
   "id": "fe3d3b0b",
   "metadata": {},
   "outputs": [],
   "source": [
    "from sklearn.ensemble import RandomForestRegressor\n",
    " \n",
    " # create regressor object\n",
    "rfr_100 = RandomForestRegressor(n_estimators = 100, random_state = 0, max_depth = 10, min_samples_split = 2500) # 100 trees\n",
    " \n",
    "# fit the regressor with x and y data\n",
    "y_pred_rfr_100 = rfr_100.fit(X_train, y_train).predict(X_test) "
   ]
  },
  {
   "cell_type": "code",
   "execution_count": 143,
   "id": "2ace48d3",
   "metadata": {},
   "outputs": [
    {
     "data": {
      "text/plain": [
       "PC1                                 0.763056\n",
       "same_louvain_community              0.127618\n",
       "same_greedy_modularity_community    0.035586\n",
       "PC2                                 0.029725\n",
       "PC8                                 0.013079\n",
       "PC4                                 0.013040\n",
       "PC6                                 0.009763\n",
       "PC7                                 0.004740\n",
       "PC5                                 0.002668\n",
       "PC3                                 0.000724\n",
       "dtype: float64"
      ]
     },
     "execution_count": 143,
     "metadata": {},
     "output_type": "execute_result"
    }
   ],
   "source": [
    "feature_imp_rfr_100 = pd.Series(rfr_100.feature_importances_,index=X_train.columns).sort_values(ascending=False)\n",
    "feature_imp_rfr_100"
   ]
  },
  {
   "cell_type": "code",
   "execution_count": 144,
   "id": "6389e34b",
   "metadata": {},
   "outputs": [
    {
     "data": {
      "image/png": "[encoded data removed]",
      "text/plain": [
       "<Figure size 432x288 with 1 Axes>"
      ]
     },
     "metadata": {
      "needs_background": "light"
     },
     "output_type": "display_data"
    }
   ],
   "source": [
    "# Creating a bar plot\n",
    "sns.barplot(x=feature_imp_rfr_100, y=feature_imp_rfr_100.index)\n",
    "# Add labels to your graph\n",
    "plt.xlabel('Feature Importance Score')\n",
    "plt.ylabel('Features')\n",
    "plt.title(\"Visualizing Important Features\")\n",
    "plt.show()"
   ]
  },
  {
   "cell_type": "code",
   "execution_count": 145,
   "id": "41d40ed5",
   "metadata": {},
   "outputs": [
    {
     "data": {
      "text/plain": [
       "PC1                                 0.628362\n",
       "same_louvain_community              0.146972\n",
       "PC2                                 0.090134\n",
       "PC7                                 0.083311\n",
       "PC8                                 0.036138\n",
       "PC4                                 0.030870\n",
       "same_greedy_modularity_community    0.018812\n",
       "PC6                                 0.010449\n",
       "PC5                                 0.001996\n",
       "PC3                                 0.000126\n",
       "dtype: float64"
      ]
     },
     "execution_count": 145,
     "metadata": {},
     "output_type": "execute_result"
    }
   ],
   "source": [
    "imp_rfr_100 = pd.Series(\n",
    "    permutation_importance(rfr_100, X_test, y_test).importances_mean,\n",
    "    index=X_train.columns\n",
    ").sort_values(ascending=False)\n",
    "imp_rfr_100"
   ]
  },
  {
   "cell_type": "code",
   "execution_count": 146,
   "id": "d60e17cd",
   "metadata": {},
   "outputs": [
    {
     "data": {
      "image/png": "[encoded data removed]",
      "text/plain": [
       "<Figure size 432x288 with 1 Axes>"
      ]
     },
     "metadata": {
      "needs_background": "light"
     },
     "output_type": "display_data"
    }
   ],
   "source": [
    "# Creating a bar plot\n",
    "sns.barplot(x=imp_rfr_100, y=imp_rfr_100.index)\n",
    "# Add labels to your graph\n",
    "plt.xlabel('Feature Importance Score')\n",
    "plt.ylabel('Features')\n",
    "plt.title(\"Visualizing Important Features\")\n",
    "plt.show()"
   ]
  },
  {
   "cell_type": "code",
   "execution_count": 147,
   "id": "89bc5441",
   "metadata": {},
   "outputs": [
    {
     "data": {
      "image/png": "[encoded data removed]",
      "text/plain": [
       "<Figure size 432x288 with 1 Axes>"
      ]
     },
     "metadata": {
      "needs_background": "light"
     },
     "output_type": "display_data"
    }
   ],
   "source": [
    "auc_rfr_100 = metrics.roc_auc_score(y_test, y_pred_rfr_100)\n",
    "false_positive_rate_rfr_100, false_negative_rate_rfr_100, _ = metrics.roc_curve(y_test,  y_pred_rfr_100)\n",
    "\n",
    "plt.plot(false_positive_rate_rfr_100,false_negative_rate_rfr_100)\n",
    "plt.title(f\"Area Under ROC = {np.round(auc_rfr_100, 4)}\")\n",
    "plt.ylabel('True Positive Rate')\n",
    "plt.xlabel('False Positive Rate')\n",
    "plt.plot([0,1], [0,1], color = \"black\")\n",
    "plt.show()"
   ]
  },
  {
   "cell_type": "markdown",
   "id": "5a04c41d",
   "metadata": {},
   "source": [
    "## n_estimators = 200, random_state = 0, max_depth = 10, min_samples_split = 2500"
   ]
  },
  {
   "cell_type": "code",
   "execution_count": 149,
   "id": "004097b0",
   "metadata": {},
   "outputs": [],
   "source": [
    " # create regressor object\n",
    "rfr_200 = RandomForestRegressor(n_estimators = 200, random_state = 0, max_depth = 10, min_samples_split = 2500) # 200 trees\n",
    " \n",
    "# fit the regressor with x and y data\n",
    "y_pred_rfr_200 = rfr_200.fit(X_train, y_train).predict(X_test) "
   ]
  },
  {
   "cell_type": "code",
   "execution_count": 150,
   "id": "7bb9021b",
   "metadata": {},
   "outputs": [
    {
     "data": {
      "text/plain": [
       "PC1                                 0.763045\n",
       "same_louvain_community              0.127682\n",
       "same_greedy_modularity_community    0.035648\n",
       "PC2                                 0.029848\n",
       "PC8                                 0.013034\n",
       "PC4                                 0.013003\n",
       "PC6                                 0.009641\n",
       "PC7                                 0.004754\n",
       "PC5                                 0.002653\n",
       "PC3                                 0.000692\n",
       "dtype: float64"
      ]
     },
     "execution_count": 150,
     "metadata": {},
     "output_type": "execute_result"
    }
   ],
   "source": [
    "feature_imp_rfr_200 = pd.Series(rfr_200.feature_importances_,index=X_train.columns).sort_values(ascending=False)\n",
    "feature_imp_rfr_200"
   ]
  },
  {
   "cell_type": "code",
   "execution_count": 152,
   "id": "4a87cf11",
   "metadata": {},
   "outputs": [
    {
     "data": {
      "image/png": "[encoded data removed]",
      "text/plain": [
       "<Figure size 432x288 with 1 Axes>"
      ]
     },
     "metadata": {
      "needs_background": "light"
     },
     "output_type": "display_data"
    }
   ],
   "source": [
    "# Creating a bar plot\n",
    "sns.barplot(x=feature_imp_rfr_200, y=feature_imp_rfr_200.index)\n",
    "# Add labels to your graph\n",
    "plt.xlabel('Feature Importance Score')\n",
    "plt.ylabel('Features')\n",
    "plt.title(\"Visualizing Important Features\")\n",
    "plt.show()"
   ]
  },
  {
   "cell_type": "code",
   "execution_count": 153,
   "id": "741faa78",
   "metadata": {},
   "outputs": [
    {
     "data": {
      "text/plain": [
       "PC1                                 0.630345\n",
       "same_louvain_community              0.147295\n",
       "PC2                                 0.090842\n",
       "PC7                                 0.083503\n",
       "PC8                                 0.034553\n",
       "PC4                                 0.029788\n",
       "same_greedy_modularity_community    0.019143\n",
       "PC6                                 0.009517\n",
       "PC5                                 0.001870\n",
       "PC3                                 0.000105\n",
       "dtype: float64"
      ]
     },
     "execution_count": 153,
     "metadata": {},
     "output_type": "execute_result"
    }
   ],
   "source": [
    "imp_rfr_200 = pd.Series(\n",
    "    permutation_importance(rfr_200, X_test, y_test).importances_mean,\n",
    "    index=X_train.columns\n",
    ").sort_values(ascending=False)\n",
    "imp_rfr_200"
   ]
  },
  {
   "cell_type": "code",
   "execution_count": 154,
   "id": "a597d853",
   "metadata": {},
   "outputs": [
    {
     "data": {
      "image/png": "[encoded data removed]",
      "text/plain": [
       "<Figure size 432x288 with 1 Axes>"
      ]
     },
     "metadata": {
      "needs_background": "light"
     },
     "output_type": "display_data"
    }
   ],
   "source": [
    "# Creating a bar plot\n",
    "sns.barplot(x=imp_rfr_200, y=imp_rfr_200.index)\n",
    "# Add labels to your graph\n",
    "plt.xlabel('Feature Importance Score')\n",
    "plt.ylabel('Features')\n",
    "plt.title(\"Visualizing Important Features\")\n",
    "plt.show()"
   ]
  },
  {
   "cell_type": "code",
   "execution_count": 155,
   "id": "4ce349d6",
   "metadata": {},
   "outputs": [
    {
     "data": {
      "image/png": "[encoded data removed]",
      "text/plain": [
       "<Figure size 432x288 with 1 Axes>"
      ]
     },
     "metadata": {
      "needs_background": "light"
     },
     "output_type": "display_data"
    }
   ],
   "source": [
    "auc_rfr_200 = metrics.roc_auc_score(y_test, y_pred_rfr_200)\n",
    "false_positive_rate_rfr_200, false_negative_rate_rfr_200, _ = metrics.roc_curve(y_test,  y_pred_rfr_200)\n",
    "\n",
    "plt.plot(false_positive_rate_rfr_200,false_negative_rate_rfr_200)\n",
    "plt.title(f\"Area Under ROC = {np.round(auc_rfr_200, 4)}\")\n",
    "plt.ylabel('True Positive Rate')\n",
    "plt.xlabel('False Positive Rate')\n",
    "plt.plot([0,1], [0,1], color = \"black\")\n",
    "plt.show()"
   ]
  },
  {
   "cell_type": "markdown",
   "id": "06d45cd0",
   "metadata": {},
   "source": [
    "# AdaBoost Classifier"
   ]
  },
  {
   "cell_type": "markdown",
   "id": "b5955f17",
   "metadata": {},
   "source": [
    "An AdaBoost classifier is a meta-estimator that begins by fitting a classifier on the original dataset and then fits additional copies of the classifier on the same dataset but where the weights of incorrectly classified instances are adjusted such that subsequent classifiers focus more on difficult cases.\n",
    "\n",
    "This class implements the algorithm known as AdaBoost-SAMME."
   ]
  },
  {
   "cell_type": "code",
   "execution_count": 156,
   "id": "3aba0511",
   "metadata": {},
   "outputs": [],
   "source": [
    "from sklearn.ensemble import AdaBoostClassifier\n",
    "clf_ADA = AdaBoostClassifier(n_estimators=100, random_state=0)\n",
    "y_pred_clf_ADA = clf_ADA.fit(X_train,y_train).predict_proba(X_test)[::,1]"
   ]
  },
  {
   "cell_type": "code",
   "execution_count": 157,
   "id": "8c41abd3",
   "metadata": {},
   "outputs": [
    {
     "data": {
      "text/plain": [
       "0.8604796822487015"
      ]
     },
     "execution_count": 157,
     "metadata": {},
     "output_type": "execute_result"
    }
   ],
   "source": [
    "clf_ADA.score(X_test, y_test)"
   ]
  },
  {
   "cell_type": "code",
   "execution_count": 158,
   "id": "a9d8f15f",
   "metadata": {},
   "outputs": [
    {
     "data": {
      "text/plain": [
       "PC1                                 0.34\n",
       "PC4                                 0.18\n",
       "PC6                                 0.12\n",
       "PC5                                 0.11\n",
       "PC8                                 0.07\n",
       "PC3                                 0.05\n",
       "PC2                                 0.04\n",
       "PC7                                 0.03\n",
       "same_louvain_community              0.03\n",
       "same_greedy_modularity_community    0.03\n",
       "dtype: float64"
      ]
     },
     "execution_count": 158,
     "metadata": {},
     "output_type": "execute_result"
    }
   ],
   "source": [
    "feature_imp_ADA = pd.Series(clf_ADA.feature_importances_\n",
    "                           , index=X_train.columns).sort_values(ascending=False)\n",
    "feature_imp_ADA"
   ]
  },
  {
   "cell_type": "code",
   "execution_count": 159,
   "id": "9acd0141",
   "metadata": {},
   "outputs": [
    {
     "data": {
      "image/png": "[encoded data removed]",
      "text/plain": [
       "<Figure size 432x288 with 1 Axes>"
      ]
     },
     "metadata": {
      "needs_background": "light"
     },
     "output_type": "display_data"
    }
   ],
   "source": [
    "# Creating a bar plot\n",
    "sns.barplot(x=feature_imp_ADA, y=feature_imp_ADA.index)\n",
    "# Add labels to your graph\n",
    "plt.xlabel('Feature Importance Score')\n",
    "plt.ylabel('Features')\n",
    "plt.title(\"Visualizing Important Features\")\n",
    "plt.show()"
   ]
  },
  {
   "cell_type": "code",
   "execution_count": 160,
   "id": "0f401fb5",
   "metadata": {},
   "outputs": [
    {
     "data": {
      "text/plain": [
       "PC1                                 0.141570\n",
       "same_louvain_community              0.033532\n",
       "PC4                                 0.011804\n",
       "same_greedy_modularity_community    0.006651\n",
       "PC5                                 0.002546\n",
       "PC2                                 0.002223\n",
       "PC6                                 0.001568\n",
       "PC3                                 0.000180\n",
       "PC8                                -0.000133\n",
       "PC7                                -0.000205\n",
       "dtype: float64"
      ]
     },
     "execution_count": 160,
     "metadata": {},
     "output_type": "execute_result"
    }
   ],
   "source": [
    "imp_ADA = pd.Series(\n",
    "    permutation_importance(clf_ADA, X_test, y_test).importances_mean,\n",
    "    index=X_train.columns\n",
    ").sort_values(ascending=False)\n",
    "imp_ADA"
   ]
  },
  {
   "cell_type": "code",
   "execution_count": 161,
   "id": "88ead6dd",
   "metadata": {},
   "outputs": [
    {
     "data": {
      "image/png": "[encoded data removed]",
      "text/plain": [
       "<Figure size 432x288 with 1 Axes>"
      ]
     },
     "metadata": {
      "needs_background": "light"
     },
     "output_type": "display_data"
    }
   ],
   "source": [
    "# Creating a bar plot\n",
    "sns.barplot(x=imp_ADA, y=imp_ADA.index)\n",
    "# Add labels to your graph\n",
    "plt.xlabel('Feature Importance Score')\n",
    "plt.ylabel('Features')\n",
    "plt.title(\"Visualizing Important Features\")\n",
    "plt.show()"
   ]
  },
  {
   "cell_type": "code",
   "execution_count": 162,
   "id": "1764504b",
   "metadata": {},
   "outputs": [
    {
     "data": {
      "image/png": "[encoded data removed]",
      "text/plain": [
       "<Figure size 432x288 with 1 Axes>"
      ]
     },
     "metadata": {
      "needs_background": "light"
     },
     "output_type": "display_data"
    }
   ],
   "source": [
    "auc_ADA = metrics.roc_auc_score(y_test, y_pred_clf_ADA)\n",
    "false_positive_rate_ADA, false_negative_rate_ADA, _ = metrics.roc_curve(y_test,  y_pred_clf_ADA)\n",
    "\n",
    "plt.plot(false_positive_rate_ADA,false_negative_rate_ADA)\n",
    "plt.title(f\"Area Under ROC = {np.round(auc_ADA, 4)}\")\n",
    "plt.ylabel('True Positive Rate')\n",
    "plt.xlabel('False Positive Rate')\n",
    "plt.plot([0,1], [0,1], color = \"black\")\n",
    "plt.show()"
   ]
  },
  {
   "cell_type": "markdown",
   "id": "212f2fa5",
   "metadata": {},
   "source": [
    "# Gradient Boosting Classifier"
   ]
  },
  {
   "cell_type": "markdown",
   "id": "bca58f2b",
   "metadata": {},
   "source": [
    "GB builds an additive model in a forward stage-wise fashion; it allows for the optimization of arbitrary differentiable loss functions. In each stage n_classes_ regression trees are fit on the negative gradient of the loss function, e.g. binary or multiclass log loss. Binary classification is a special case where only a single regression tree is induced."
   ]
  },
  {
   "cell_type": "code",
   "execution_count": 163,
   "id": "c43505cc",
   "metadata": {},
   "outputs": [],
   "source": [
    "from sklearn.ensemble import GradientBoostingClassifier\n",
    "clf_GB = GradientBoostingClassifier(n_estimators=100, learning_rate=1.0,\n",
    "      max_depth=1, random_state=0)\n",
    "y_pred_clf_GB = clf_GB.fit(X_train,y_train).predict_proba(X_test)[::,1]"
   ]
  },
  {
   "cell_type": "code",
   "execution_count": 164,
   "id": "ed8c8076",
   "metadata": {},
   "outputs": [
    {
     "data": {
      "text/plain": [
       "0.8617578164782564"
      ]
     },
     "execution_count": 164,
     "metadata": {},
     "output_type": "execute_result"
    }
   ],
   "source": [
    "clf_GB.score(X_test, y_test)"
   ]
  },
  {
   "cell_type": "code",
   "execution_count": 165,
   "id": "43abd3d1",
   "metadata": {},
   "outputs": [
    {
     "data": {
      "text/plain": [
       "PC1                                 0.853121\n",
       "same_louvain_community              0.107882\n",
       "same_greedy_modularity_community    0.016279\n",
       "PC4                                 0.008567\n",
       "PC6                                 0.006460\n",
       "PC8                                 0.002646\n",
       "PC5                                 0.002569\n",
       "PC2                                 0.002288\n",
       "PC7                                 0.000133\n",
       "PC3                                 0.000056\n",
       "dtype: float64"
      ]
     },
     "execution_count": 165,
     "metadata": {},
     "output_type": "execute_result"
    }
   ],
   "source": [
    "feature_imp_GB = pd.Series(clf_GB.feature_importances_\n",
    "                           , index=X_train.columns).sort_values(ascending=False)\n",
    "feature_imp_GB"
   ]
  },
  {
   "cell_type": "code",
   "execution_count": 166,
   "id": "ffeea537",
   "metadata": {},
   "outputs": [
    {
     "data": {
      "image/png": "[encoded data removed]",
      "text/plain": [
       "<Figure size 432x288 with 1 Axes>"
      ]
     },
     "metadata": {
      "needs_background": "light"
     },
     "output_type": "display_data"
    }
   ],
   "source": [
    "# Creating a bar plot\n",
    "sns.barplot(x=feature_imp_GB, y=feature_imp_GB.index)\n",
    "# Add labels to your graph\n",
    "plt.xlabel('Feature Importance Score')\n",
    "plt.ylabel('Features')\n",
    "plt.title(\"Visualizing Important Features\")\n",
    "plt.show()"
   ]
  },
  {
   "cell_type": "code",
   "execution_count": 167,
   "id": "c2576630",
   "metadata": {},
   "outputs": [
    {
     "data": {
      "text/plain": [
       "PC1                                 0.169792\n",
       "same_louvain_community              0.029212\n",
       "PC4                                 0.015589\n",
       "same_greedy_modularity_community    0.005527\n",
       "PC5                                 0.004511\n",
       "PC2                                 0.003276\n",
       "PC6                                 0.003070\n",
       "PC8                                 0.002010\n",
       "PC7                                 0.000230\n",
       "PC3                                -0.000052\n",
       "dtype: float64"
      ]
     },
     "execution_count": 167,
     "metadata": {},
     "output_type": "execute_result"
    }
   ],
   "source": [
    "imp_GB = pd.Series(\n",
    "    permutation_importance(clf_GB, X_test, y_test).importances_mean,\n",
    "    index=X_train.columns\n",
    ").sort_values(ascending=False)\n",
    "imp_GB"
   ]
  },
  {
   "cell_type": "code",
   "execution_count": 168,
   "id": "f4912747",
   "metadata": {},
   "outputs": [
    {
     "data": {
      "image/png": "[encoded data removed]",
      "text/plain": [
       "<Figure size 432x288 with 1 Axes>"
      ]
     },
     "metadata": {
      "needs_background": "light"
     },
     "output_type": "display_data"
    }
   ],
   "source": [
    "# Creating a bar plot\n",
    "sns.barplot(x=imp_GB, y=imp_GB.index)\n",
    "# Add labels to your graph\n",
    "plt.xlabel('Feature Importance Score')\n",
    "plt.ylabel('Features')\n",
    "plt.title(\"Visualizing Important Features\")\n",
    "plt.show()"
   ]
  },
  {
   "cell_type": "code",
   "execution_count": 169,
   "id": "3f4487ec",
   "metadata": {},
   "outputs": [
    {
     "data": {
      "image/png": "[encoded data removed]",
      "text/plain": [
       "<Figure size 432x288 with 1 Axes>"
      ]
     },
     "metadata": {
      "needs_background": "light"
     },
     "output_type": "display_data"
    }
   ],
   "source": [
    "auc_GB = metrics.roc_auc_score(y_test, y_pred_clf_GB)\n",
    "false_positive_rate_GB, false_negative_rate_GB, _ = metrics.roc_curve(y_test,  y_pred_clf_GB)\n",
    "\n",
    "plt.plot(false_positive_rate_GB,false_negative_rate_GB)\n",
    "plt.title(f\"Area Under ROC = {np.round(auc_GB, 4)}\")\n",
    "plt.ylabel('True Positive Rate')\n",
    "plt.xlabel('False Positive Rate')\n",
    "plt.plot([0,1], [0,1], color = \"black\")\n",
    "plt.show()"
   ]
  },
  {
   "cell_type": "markdown",
   "id": "c9a33b9b",
   "metadata": {},
   "source": [
    "# Linear Discriminant Analysis (LDA)"
   ]
  },
  {
   "cell_type": "markdown",
   "id": "0f9b7dfe",
   "metadata": {},
   "source": [
    "A classifier with a linear decision boundary, generated by fitting class conditional densities to the data and using Bayes’ rule.\n",
    "\n",
    "The model fits a Gaussian density to each class, assuming that all classes share the same covariance matrix.\n",
    "\n",
    "The fitted model can also be used to reduce the dimensionality of the input by projecting it to the most discriminative directions."
   ]
  },
  {
   "cell_type": "code",
   "execution_count": 170,
   "id": "fdb4686a",
   "metadata": {},
   "outputs": [],
   "source": [
    "from sklearn.discriminant_analysis import LinearDiscriminantAnalysis as LDA\n",
    "lda = LDA()\n",
    "y_pred_lda = lda.fit(X_train, y_train).predict_proba(X_test)[::,1]"
   ]
  },
  {
   "cell_type": "code",
   "execution_count": 171,
   "id": "1c28b603",
   "metadata": {},
   "outputs": [
    {
     "data": {
      "text/plain": [
       "0.8498625114573786"
      ]
     },
     "execution_count": 171,
     "metadata": {},
     "output_type": "execute_result"
    }
   ],
   "source": [
    "lda.score(X_test, y_test)"
   ]
  },
  {
   "cell_type": "code",
   "execution_count": 172,
   "id": "a11f50ea",
   "metadata": {},
   "outputs": [
    {
     "data": {
      "text/plain": [
       "same_louvain_community              4.936663\n",
       "same_greedy_modularity_community    2.973845\n",
       "PC8                                 1.469282\n",
       "PC1                                 1.436954\n",
       "PC2                                 0.194259\n",
       "PC3                                 0.063286\n",
       "PC7                                -0.004684\n",
       "PC5                                -0.064490\n",
       "PC4                                -0.201391\n",
       "PC6                                -2.499281\n",
       "dtype: float64"
      ]
     },
     "execution_count": 172,
     "metadata": {},
     "output_type": "execute_result"
    }
   ],
   "source": [
    "feature_imp_lda = pd.Series(lda.coef_[0]\n",
    "                           , index=X_train.columns).sort_values(ascending=False)\n",
    "feature_imp_lda"
   ]
  },
  {
   "cell_type": "code",
   "execution_count": 173,
   "id": "3b4e7983",
   "metadata": {},
   "outputs": [
    {
     "data": {
      "image/png": "[encoded data removed]",
      "text/plain": [
       "<Figure size 432x288 with 1 Axes>"
      ]
     },
     "metadata": {
      "needs_background": "light"
     },
     "output_type": "display_data"
    }
   ],
   "source": [
    "# Creating a bar plot\n",
    "sns.barplot(x=feature_imp_lda, y=feature_imp_lda.index)\n",
    "# Add labels to your graph\n",
    "plt.xlabel('Feature Importance Score')\n",
    "plt.ylabel('Features')\n",
    "plt.title(\"Visualizing Important Features\")\n",
    "plt.show()"
   ]
  },
  {
   "cell_type": "code",
   "execution_count": 174,
   "id": "8355389b",
   "metadata": {},
   "outputs": [
    {
     "data": {
      "text/plain": [
       "same_louvain_community              0.0585\n",
       "PC1                                 0.0262\n",
       "same_greedy_modularity_community    0.0115\n",
       "PC6                                 0.0036\n",
       "PC5                                 0.0002\n",
       "PC3                                -0.0000\n",
       "PC7                                 0.0000\n",
       "PC8                                -0.0000\n",
       "PC4                                -0.0004\n",
       "PC2                                -0.0007\n",
       "dtype: float64"
      ]
     },
     "execution_count": 174,
     "metadata": {},
     "output_type": "execute_result"
    }
   ],
   "source": [
    "imp_lda = pd.Series(\n",
    "    np.round(permutation_importance(lda, X_test, y_test).importances_mean,4),\n",
    "    index=X_train.columns\n",
    ").sort_values(ascending=False)\n",
    "imp_lda"
   ]
  },
  {
   "cell_type": "code",
   "execution_count": 175,
   "id": "19a81f21",
   "metadata": {},
   "outputs": [
    {
     "data": {
      "image/png": "[encoded data removed]",
      "text/plain": [
       "<Figure size 432x288 with 1 Axes>"
      ]
     },
     "metadata": {
      "needs_background": "light"
     },
     "output_type": "display_data"
    }
   ],
   "source": [
    "# Creating a bar plot\n",
    "sns.barplot(x=imp_lda, y=imp_lda.index)\n",
    "# Add labels to your graph\n",
    "plt.xlabel('Feature Importance Score')\n",
    "plt.ylabel('Features')\n",
    "plt.title(\"Visualizing Important Features\")\n",
    "plt.show()"
   ]
  },
  {
   "cell_type": "code",
   "execution_count": 176,
   "id": "73a38abf",
   "metadata": {},
   "outputs": [
    {
     "data": {
      "image/png": "[encoded data removed]",
      "text/plain": [
       "<Figure size 432x288 with 1 Axes>"
      ]
     },
     "metadata": {
      "needs_background": "light"
     },
     "output_type": "display_data"
    }
   ],
   "source": [
    "auc_lda = metrics.roc_auc_score(y_test, y_pred_lda)\n",
    "false_positive_rate_lda, false_negative_rate_lda, _ = metrics.roc_curve(y_test,  y_pred_lda)\n",
    "\n",
    "plt.plot(false_positive_rate_lda,false_negative_rate_lda)\n",
    "plt.title(f\"Area Under ROC = {np.round(auc_lda, 4)}\")\n",
    "plt.ylabel('True Positive Rate')\n",
    "plt.xlabel('False Positive Rate')\n",
    "plt.plot([0,1], [0,1], color = \"black\")\n",
    "plt.show()"
   ]
  },
  {
   "cell_type": "markdown",
   "id": "f405c103",
   "metadata": {},
   "source": [
    "# Quadratic Discriminant Analysis (QDA)"
   ]
  },
  {
   "cell_type": "markdown",
   "id": "c8dc33de",
   "metadata": {},
   "source": [
    "A classifier with a quadratic decision boundary, generated by fitting class conditional densities to the data and using Bayes’ rule.\n",
    "\n",
    "The model fits a Gaussian density to each class."
   ]
  },
  {
   "cell_type": "code",
   "execution_count": 177,
   "id": "0c57d3e9",
   "metadata": {},
   "outputs": [],
   "source": [
    "from sklearn.discriminant_analysis import QuadraticDiscriminantAnalysis\n",
    "qda = QuadraticDiscriminantAnalysis(reg_param = 0.001)\n",
    "y_pred_qda = qda.fit(X_train, y_train).predict_proba(X_test)[::,1]"
   ]
  },
  {
   "cell_type": "code",
   "execution_count": 178,
   "id": "537f65db",
   "metadata": {},
   "outputs": [
    {
     "data": {
      "text/plain": [
       "0.8452897443731541"
      ]
     },
     "execution_count": 178,
     "metadata": {},
     "output_type": "execute_result"
    }
   ],
   "source": [
    "qda.score(X_test, y_test)"
   ]
  },
  {
   "cell_type": "code",
   "execution_count": 179,
   "id": "a8169294",
   "metadata": {},
   "outputs": [
    {
     "data": {
      "text/plain": [
       "PC1                                 0.195632\n",
       "PC2                                 0.170325\n",
       "PC6                                 0.097738\n",
       "PC4                                 0.088616\n",
       "PC7                                 0.064806\n",
       "PC8                                 0.049723\n",
       "PC5                                 0.005558\n",
       "same_louvain_community              0.003020\n",
       "same_greedy_modularity_community    0.000655\n",
       "PC3                                -0.000598\n",
       "dtype: float64"
      ]
     },
     "execution_count": 179,
     "metadata": {},
     "output_type": "execute_result"
    }
   ],
   "source": [
    "imp_qda = pd.Series(\n",
    "    permutation_importance(qda, X_test, y_test).importances_mean,\n",
    "    index=X_train.columns\n",
    ").sort_values(ascending=False)\n",
    "imp_qda"
   ]
  },
  {
   "cell_type": "code",
   "execution_count": 180,
   "id": "78a1b59c",
   "metadata": {},
   "outputs": [
    {
     "data": {
      "image/png": "[encoded data removed]",
      "text/plain": [
       "<Figure size 432x288 with 1 Axes>"
      ]
     },
     "metadata": {
      "needs_background": "light"
     },
     "output_type": "display_data"
    }
   ],
   "source": [
    "# Creating a bar plot\n",
    "sns.barplot(x=imp_qda, y=imp_qda.index)\n",
    "# Add labels to your graph\n",
    "plt.xlabel('Feature Importance Score')\n",
    "plt.ylabel('Features')\n",
    "plt.title(\"Visualizing Important Features\")\n",
    "plt.show()"
   ]
  },
  {
   "cell_type": "code",
   "execution_count": 181,
   "id": "e1e3b06a",
   "metadata": {},
   "outputs": [
    {
     "data": {
      "image/png": "[encoded data removed]",
      "text/plain": [
       "<Figure size 432x288 with 1 Axes>"
      ]
     },
     "metadata": {
      "needs_background": "light"
     },
     "output_type": "display_data"
    }
   ],
   "source": [
    "auc_qda = metrics.roc_auc_score(y_test, y_pred_qda)\n",
    "false_positive_rate_qda, false_negative_rate_qda, _ = metrics.roc_curve(y_test,  y_pred_qda)\n",
    "\n",
    "plt.plot(false_positive_rate_qda,false_negative_rate_qda)\n",
    "plt.title(f\"Area Under ROC = {np.round(auc_qda, 4)}\")\n",
    "plt.ylabel('True Positive Rate')\n",
    "plt.xlabel('False Positive Rate')\n",
    "plt.plot([0,1], [0,1], color = \"black\")\n",
    "plt.show()\n",
    "# reg_param = defalut(0) : 0.8363\n",
    "# reg_param = defalut(0.0001) : 0.8364\n",
    "# reg_param = defalut(0.001) : 0.8365\n",
    "# reg_param = defalut(0.01) : 0.8357\n",
    "# reg_param = defalut(0.1) : 0.8363\n"
   ]
  },
  {
   "cell_type": "code",
   "execution_count": 182,
   "id": "b3debe5c",
   "metadata": {},
   "outputs": [],
   "source": [
    "auc_comparison = pd.Series(\n",
    "    [auc_lg, auc_svc,auc_gnb,auc_bernou_gnb,auc_dt, auc_rf, auc_rfr_200, auc_ADA, auc_GB, auc_lda, auc_qda],\n",
    "                index=['Logistic Regression(Default)', 'SVM', 'Gaussian Naive Bayes', 'Bernoulli Naive Bayes', 'Decision Tree', 'Random Forest Classifier', 'Random Forest Regressor'\n",
    ", 'AdaBoost Classifier', 'GradientBoosting Classifier', 'LDA', 'QDA']\n",
    ").sort_values(ascending=False)"
   ]
  },
  {
   "cell_type": "code",
   "execution_count": 183,
   "id": "cb79afbb",
   "metadata": {},
   "outputs": [
    {
     "data": {
      "image/png": "[encoded data removed]",
      "text/plain": [
       "<Figure size 432x288 with 1 Axes>"
      ]
     },
     "metadata": {
      "needs_background": "light"
     },
     "output_type": "display_data"
    }
   ],
   "source": [
    "# Creating a bar plot\n",
    "sns.barplot(x=auc_comparison, y=auc_comparison.index)\n",
    "# Add labels to your graph\n",
    "plt.xlabel('Model ROC AUC Score')\n",
    "plt.xlim(0.825, 0.865)\n",
    "plt.ylabel('Model')\n",
    "plt.title(\"Visualizing Model Performance\")\n",
    "plt.show()"
   ]
  },
  {
   "cell_type": "markdown",
   "id": "26283daf",
   "metadata": {},
   "source": [
    "Source:  \n",
    "[Algorithms](https://networkx.org/documentation/stable/reference/algorithms/index.html)   \n",
    "[Supervised learning](https://scikit-learn.org/stable/supervised_learning.html#supervised-learning)  \n",
    "[How to improve AUC?](https://www.linkedin.com/pulse/how-improve-auc-amanda-zou/)  \n",
    "[Data Source-Facebook Wall Post](http://konect.cc/networks/facebook-wosn-wall/)  \n",
    "[What is a Variance Inflation Factor?](https://www.statisticshowto.com/variance-inflation-factor/)  \n",
    "[Joint Link Prediction in Temporal Networks](http://snap.stanford.edu/class/cs224w-2015/projects_2015/Joint_Link_Prediction_in_Temporal_Networks.pdf)  \n",
    "[The Link-Prediction Problem for Social Networks](https://asistdl.onlinelibrary.wiley.com/doi/pdf/10.1002/asi.20591?casa_token=VqJIFBa34OkAAAAA:ee-9ZoxSHsfdiqtB0HNmch1UaX9QIVwn9kf6NnqRU7jY-Tcz87ysAcMbVFptGL_-6Pwogag4-rEUww)  \n",
    "[Lecture Note 9 Link Prediction and Feedback Loops](https://www.philchodrow.com/intro-networks/chapters/prediction_feedback_loops.html)  \n",
    "[What is Multicollinearity? Here’s Everything You Need to Know](https://www.analyticsvidhya.com/blog/2020/03/what-is-multicollinearity/)  \n",
    "[Principal Component Analysis (PCA) in Python with Scikit-Learn](https://stackabuse.com/implementing-pca-in-python-with-scikit-learn/)  \n",
    "[Link prediction in social networks using machine learning methods](https://github.com/simejanko/link-prediction/blob/master/paper.pdf)  \n",
    "[A Guide to Link Prediction – How to Predict your Future Connections on Facebook](https://www.analyticsvidhya.com/blog/2020/01/link-prediction-how-to-predict-your-future-connections-on-facebook/)  "
   ]
  }
 ],
 "metadata": {
  "kernelspec": {
   "display_name": "Python 3 (ipykernel)",
   "language": "python",
   "name": "python3"
  },
  "language_info": {
   "codemirror_mode": {
    "name": "ipython",
    "version": 3
   },
   "file_extension": ".py",
   "mimetype": "text/x-python",
   "name": "python",
   "nbconvert_exporter": "python",
   "pygments_lexer": "ipython3",
   "version": "3.9.7"
  }
 },
 "nbformat": 4,
 "nbformat_minor": 5
}
