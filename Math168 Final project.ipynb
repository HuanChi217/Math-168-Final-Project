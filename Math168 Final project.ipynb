{
 "cells": [
  {
   "cell_type": "code",
   "execution_count": 1,
   "id": "81e50ec2",
   "metadata": {},
   "outputs": [],
   "source": [
    "import networkx as nx\n",
    "import matplotlib.pyplot as plt\n",
    "import numpy as np\n",
    "filename = 'out.facebook-wosn-wall.txt'\n",
    "#filename = 'out-Copy1.facebook-wosn-wall.txt'\n",
    "with open(filename, 'r') as f:\n",
    "    lines = f.read().splitlines()\n",
    "MG = nx.read_edgelist(filename, create_using = nx.MultiDiGraph, nodetype = int, data=(('weight', int),(\"time\", int)))\n",
    "MG.remove_edges_from(nx.selfloop_edges(MG))"
   ]
  },
  {
   "cell_type": "code",
   "execution_count": 28,
   "id": "10cd17fe",
   "metadata": {},
   "outputs": [
    {
     "name": "stderr",
     "output_type": "stream",
     "text": [
      "IOPub data rate exceeded.\n",
      "The notebook server will temporarily stop sending output\n",
      "to the client in order to avoid crashing it.\n",
      "To change this limit, set the config variable\n",
      "`--NotebookApp.iopub_data_rate_limit`.\n",
      "\n",
      "Current values:\n",
      "NotebookApp.iopub_data_rate_limit=1000000.0 (bytes/sec)\n",
      "NotebookApp.rate_limit_window=3.0 (secs)\n",
      "\n"
     ]
    }
   ],
   "source": [
    "#G = nx.DiGraph()\n",
    "G = nx.Graph()\n",
    "for u,v,data in MG.edges(data=True):\n",
    "    w = data['weight'] if 'weight' in data else 1.0\n",
    "    if G.has_edge(u,v):\n",
    "        G[u][v]['weight'] += w\n",
    "    else:\n",
    "        G.add_edge(u, v, weight=w)\n"
   ]
  },
  {
   "cell_type": "code",
   "execution_count": 3,
   "id": "abfdb235",
   "metadata": {},
   "outputs": [],
   "source": [
    "#nx.draw(G, node_size=50, connectionstyle='arc3, rad = 0.2')\n",
    "# pos = nx.spring_layout(G)\n",
    "# plt.figure(figsize=(30,30))\n",
    "# nx.draw(G, pos, node_color = 'blue', node_size = 100, alpha = 1, edge_color = 'black')\n",
    "# ax = plt.gca()\n",
    "# for e in G.edges:\n",
    "#     ax.annotate(\"\",\n",
    "#                 xy=pos[e[0]], xycoords='data',\n",
    "#                 xytext=pos[e[1]], textcoords='data',\n",
    "#                 arrowprops=dict(arrowstyle=\"->\", color=\"0.8\",\n",
    "#                                 shrinkA=6, shrinkB=6,\n",
    "#                                 patchA=None, patchB=None,\n",
    "#                                 connectionstyle=\"arc3,rad=rrr\".replace('rrr',str(0.3*e[2])\n",
    "#                                 ),\n",
    "#                                 ),\n",
    "#                 )\n",
    "# plt.axis('off')\n",
    "# plt.show()"
   ]
  },
  {
   "cell_type": "code",
   "execution_count": 4,
   "id": "3a18b7a2",
   "metadata": {},
   "outputs": [],
   "source": [
    "import pickle\n",
    "import pprint\n",
    "def CentralityMeasures(G):\n",
    "    # Betweenness centrality\n",
    "    bet_cen = nx.betweenness_centrality(G)\n",
    "    # Closeness centrality\n",
    "    clo_cen = nx.closeness_centrality(G)\n",
    "    # Eigenvector centrality\n",
    "    eig_cen = nx.eigenvector_centrality(G)\n",
    "    # Degree centrality\n",
    "    deg_cen = nx.degree_centrality(G)\n",
    "    #print bet_cen, clo_cen, eig_cen\n",
    "    #print(\"# Betweenness centrality:\" + str(bet_cen))\n",
    "    print(\"# Closeness centrality:\" + str(clo_cen))\n",
    "    #print( \"# Eigenvector centrality:\" + str(eig_cen))\n",
    "    #print(\"# Degree centrality:\" + str(deg_cen))\n",
    "    output = open('data3.pkl', 'wb')\n",
    "    # Pickle dictionary using protocol 0.\n",
    "    pickle.dump(clo_cen, output,-1)\n",
    "    output.close()  "
   ]
  },
  {
   "cell_type": "code",
   "execution_count": 5,
   "id": "4336ad0b",
   "metadata": {},
   "outputs": [],
   "source": [
    "#CentralityMeasures(G)"
   ]
  },
  {
   "cell_type": "code",
   "execution_count": 6,
   "id": "aeec5714",
   "metadata": {},
   "outputs": [],
   "source": [
    "def DegreeDistribution(G):\n",
    "    degree = nx.degree_histogram(G)\n",
    "    x = range(len(degree))\n",
    "    y = [z / float(sum(degree)) for z in degree]\n",
    "    plt.loglog(x,y,color = \"blue\", linewidth = 2)\n",
    "    plt.show()"
   ]
  },
  {
   "cell_type": "code",
   "execution_count": 7,
   "id": "4729297b",
   "metadata": {},
   "outputs": [],
   "source": [
    "#DegreeDistribution(G)"
   ]
  },
  {
   "cell_type": "code",
   "execution_count": 8,
   "id": "d1577894",
   "metadata": {},
   "outputs": [],
   "source": [
    "def degree_histogram_directed(G, in_degree=False, out_degree=False):\n",
    "    \"\"\"Return a list of the frequency of each degree value.\n",
    "\n",
    "    Parameters\n",
    "    ----------\n",
    "    G : Networkx graph\n",
    "       A graph\n",
    "    in_degree : bool\n",
    "    out_degree : bool\n",
    "\n",
    "    Returns\n",
    "    -------\n",
    "    hist : list\n",
    "       A list of frequencies of degrees.\n",
    "       The degree values are the index in the list.\n",
    "\n",
    "    Notes\n",
    "    -----\n",
    "    Note: the bins are width one, hence len(list) can be large\n",
    "    (Order(number_of_edges))\n",
    "    \"\"\"\n",
    "    nodes = G.nodes()\n",
    "    if in_degree:\n",
    "        in_degree = dict(G.in_degree())\n",
    "        degseq=[in_degree.get(k,0) for k in nodes]\n",
    "    elif out_degree:\n",
    "        out_degree = dict(G.out_degree())\n",
    "        degseq=[out_degree.get(k,0) for k in nodes]\n",
    "    else:\n",
    "        degseq=[v for k, v in G.degree()]\n",
    "    dmax=max(degseq)+1\n",
    "    freq= [ 0 for d in range(dmax) ]\n",
    "    for d in degseq:\n",
    "        freq[d] += 1\n",
    "    return freq\n"
   ]
  },
  {
   "cell_type": "code",
   "execution_count": 9,
   "id": "7dc0747f",
   "metadata": {},
   "outputs": [
    {
     "data": {
      "text/plain": [
       "Text(0, 0.5, 'Frequency')"
      ]
     },
     "execution_count": 9,
     "metadata": {},
     "output_type": "execute_result"
    },
    {
     "data": {
      "image/png": "[encoded data removed]",
      "text/plain": [
       "<Figure size 864x576 with 1 Axes>"
      ]
     },
     "metadata": {
      "needs_background": "light"
     },
     "output_type": "display_data"
    }
   ],
   "source": [
    "in_degree_freq = degree_histogram_directed(G, in_degree=True)\n",
    "out_degree_freq = degree_histogram_directed(G, out_degree=True)\n",
    "degrees = range(len(in_degree_freq))\n",
    "plt.figure(figsize=(12, 8)) \n",
    "plt.loglog(range(len(in_degree_freq)), in_degree_freq, 'go-', label='in-degree') \n",
    "plt.loglog(range(len(out_degree_freq)), out_degree_freq, 'bo-', label='out-degree')\n",
    "plt.xlabel('Degree')\n",
    "plt.ylabel('Frequency')"
   ]
  },
  {
   "cell_type": "code",
   "execution_count": 10,
   "id": "1d7f3851",
   "metadata": {},
   "outputs": [],
   "source": [
    "from numpy import linalg as LA\n",
    "def spectral_modularity_maximization(G):\n",
    "    m = G.number_of_edges()\n",
    "    A = nx.adjacency_matrix(G)\n",
    "    n = G.number_of_nodes()\n",
    "    K = np.array([val for (node, val) in G.degree()])\n",
    "    K = K.reshape(n, 1)\n",
    "    B = A - (np.dot(K, K.transpose())) / (2*m)\n",
    "    w, v = LA.eigh(B)\n",
    "    return np.array(np.sign(v[:,-1]))"
   ]
  },
  {
   "cell_type": "code",
   "execution_count": 11,
   "id": "9ad92e5c",
   "metadata": {},
   "outputs": [],
   "source": [
    "#largest_component = G.subgraph(max(nx.strongly_connected_components(G), key=len)).copy()\n",
    "#g = spectral_modularity_maximization(largest_component)\n"
   ]
  },
  {
   "cell_type": "code",
   "execution_count": 12,
   "id": "3316dc06",
   "metadata": {},
   "outputs": [],
   "source": [
    "#g_t = np.array(np.transpose(g))\n",
    "#B = nx.adjacency_matrix(G)\n",
    "#B = nx.directed_modularity_matrix(largest_component)\n",
    "#Q = np.dot(np.dot(g_t, B), g) / (4 * G.number_of_edges())\n",
    "#print(Q)"
   ]
  },
  {
   "cell_type": "code",
   "execution_count": 13,
   "id": "f15d7122",
   "metadata": {},
   "outputs": [],
   "source": [
    "from sklearn.cluster import KMeans\n",
    "def MNLSP(G, l):\n",
    "    L = nx.normalized_laplacian_matrix(G)\n",
    "    eigs = LA.eigh(L.toarray())\n",
    "    index = np.argpartition(eigs[0], 1)[1:l]\n",
    "    n = eigs[1][:,1].shape[0]\n",
    "    v = []\n",
    "    for i in index:\n",
    "        v.append(np.reshape(eigs[1][:,i], (n, 1)))\n",
    "    v2 = np.concatenate(v, axis = 1)\n",
    "    kmeans = KMeans(n_clusters=l, random_state=0)\n",
    "    kmeans.fit(np.real(v2))\n",
    "    return kmeans.labels_"
   ]
  },
  {
   "cell_type": "code",
   "execution_count": 14,
   "id": "aa3f75b9",
   "metadata": {},
   "outputs": [
    {
     "name": "stdout",
     "output_type": "stream",
     "text": [
      "0.04285714285714286\n"
     ]
    }
   ],
   "source": [
    "glob_clustering_c = nx.transitivity(G)\n",
    "print(glob_clustering_c)"
   ]
  },
  {
   "cell_type": "code",
   "execution_count": 15,
   "id": "7a6f04d1",
   "metadata": {},
   "outputs": [
    {
     "name": "stdout",
     "output_type": "stream",
     "text": [
      "1.851063829787234\n"
     ]
    }
   ],
   "source": [
    "# Average weighted degree of G \n",
    "n = G.number_of_nodes()\n",
    "c = np.mean(list(dict(G.degree(weight='weight')).values()))\n",
    "print(c)"
   ]
  },
  {
   "cell_type": "code",
   "execution_count": 16,
   "id": "21de153c",
   "metadata": {},
   "outputs": [
    {
     "name": "stdout",
     "output_type": "stream",
     "text": [
      "1.3085106382978724\n"
     ]
    }
   ],
   "source": [
    "# Average degree of G \n",
    "n = G.number_of_nodes()\n",
    "c = np.mean(list(dict(G.degree()).values()))\n",
    "print(c)"
   ]
  },
  {
   "cell_type": "code",
   "execution_count": 17,
   "id": "063b59a6",
   "metadata": {},
   "outputs": [
    {
     "name": "stdout",
     "output_type": "stream",
     "text": [
      "{2: 0.0053475935828877, 3: 0.0053475935828877, 5: 0.0053475935828877, 27: 0.0053475935828877, 6: 0.0053475935828877, 28: 0.0160427807486631, 7: 0.0053475935828877, 8: 0.0053475935828877, 9: 0.0053475935828877, 10: 0.0106951871657754, 44: 0.0160427807486631, 13: 0.026737967914438502, 16: 0.0160427807486631, 30: 0.0053475935828877, 88: 0.0106951871657754, 14: 0.0106951871657754, 15: 0.0106951871657754, 79: 0.0053475935828877, 17: 0.0160427807486631, 18: 0.0053475935828877, 21: 0.0053475935828877, 98: 0.0053475935828877, 19: 0.0160427807486631, 20: 0.0053475935828877, 90: 0.0053475935828877, 22: 0.0053475935828877, 23: 0.0106951871657754, 29: 0.0053475935828877, 24: 0.0213903743315508, 40: 0.0053475935828877, 67: 0.0053475935828877, 97: 0.0053475935828877, 243: 0.0053475935828877, 25: 0.0053475935828877, 26: 0.0053475935828877, 31: 0.0053475935828877, 32: 0.0053475935828877, 34: 0.0053475935828877, 163: 0.0106951871657754, 35: 0.0053475935828877, 36: 0.0053475935828877, 38: 0.0053475935828877, 39: 0.0053475935828877, 41: 0.0106951871657754, 42: 0.0053475935828877, 121: 0.0053475935828877, 45: 0.0106951871657754, 57: 0.0106951871657754, 82: 0.0106951871657754, 47: 0.0106951871657754, 48: 0.0160427807486631, 148: 0.0053475935828877, 49: 0.0053475935828877, 50: 0.0053475935828877, 51: 0.0053475935828877, 52: 0.0053475935828877, 53: 0.0053475935828877, 54: 0.0053475935828877, 58: 0.0053475935828877, 59: 0.0106951871657754, 60: 0.0106951871657754, 62: 0.0053475935828877, 104: 0.0106951871657754, 64: 0.0053475935828877, 65: 0.0053475935828877, 66: 0.0053475935828877, 84: 0.0053475935828877, 68: 0.0106951871657754, 211: 0.0106951871657754, 70: 0.0160427807486631, 71: 0.0053475935828877, 95: 0.0053475935828877, 190: 0.0053475935828877, 74: 0.0053475935828877, 75: 0.0106951871657754, 76: 0.0106951871657754, 141: 0.0106951871657754, 80: 0.0160427807486631, 81: 0.0106951871657754, 86: 0.0053475935828877, 87: 0.0053475935828877, 91: 0.0106951871657754, 92: 0.0053475935828877, 164: 0.0053475935828877, 100: 0.0053475935828877, 101: 0.0053475935828877, 102: 0.0053475935828877, 103: 0.0053475935828877, 105: 0.0106951871657754, 106: 0.0106951871657754, 109: 0.0053475935828877, 110: 0.0053475935828877, 112: 0.0106951871657754, 113: 0.0053475935828877, 131: 0.0053475935828877, 114: 0.0053475935828877, 115: 0.0053475935828877, 118: 0.0053475935828877, 119: 0.0053475935828877, 123: 0.0053475935828877, 124: 0.0053475935828877, 125: 0.0053475935828877, 126: 0.0053475935828877, 130: 0.0053475935828877, 173: 0.0053475935828877, 133: 0.0053475935828877, 134: 0.0053475935828877, 137: 0.0053475935828877, 138: 0.0053475935828877, 139: 0.0053475935828877, 203: 0.0053475935828877, 140: 0.0160427807486631, 145: 0.0053475935828877, 226: 0.0053475935828877, 142: 0.0053475935828877, 143: 0.0106951871657754, 150: 0.0053475935828877, 172: 0.0053475935828877, 151: 0.0053475935828877, 152: 0.0053475935828877, 153: 0.0053475935828877, 154: 0.0053475935828877, 155: 0.0053475935828877, 156: 0.0053475935828877, 157: 0.0053475935828877, 158: 0.0053475935828877, 159: 0.0053475935828877, 160: 0.0053475935828877, 161: 0.0053475935828877, 162: 0.0053475935828877, 166: 0.0106951871657754, 167: 0.0053475935828877, 170: 0.0053475935828877, 168: 0.0053475935828877, 169: 0.0053475935828877, 171: 0.0053475935828877, 176: 0.0053475935828877, 177: 0.0053475935828877, 180: 0.0053475935828877, 181: 0.0106951871657754, 187: 0.0053475935828877, 182: 0.0053475935828877, 183: 0.0053475935828877, 184: 0.0053475935828877, 218: 0.0053475935828877, 185: 0.0053475935828877, 186: 0.0053475935828877, 188: 0.0053475935828877, 189: 0.0106951871657754, 191: 0.0053475935828877, 192: 0.0053475935828877, 193: 0.0053475935828877, 194: 0.0053475935828877, 196: 0.0053475935828877, 198: 0.0053475935828877, 199: 0.0053475935828877, 200: 0.0053475935828877, 204: 0.0053475935828877, 205: 0.0053475935828877, 207: 0.0053475935828877, 206: 0.0053475935828877, 208: 0.0106951871657754, 209: 0.0053475935828877, 210: 0.0053475935828877, 212: 0.0053475935828877, 213: 0.0053475935828877, 214: 0.0053475935828877, 216: 0.0106951871657754, 217: 0.0106951871657754, 220: 0.0160427807486631, 225: 0.0053475935828877, 227: 0.0053475935828877, 221: 0.0053475935828877, 222: 0.0053475935828877, 228: 0.0053475935828877, 229: 0.0053475935828877, 231: 0.0053475935828877, 232: 0.0053475935828877, 233: 0.0053475935828877, 224: 0.0053475935828877, 234: 0.0053475935828877, 235: 0.0053475935828877, 237: 0.0053475935828877, 238: 0.0053475935828877, 239: 0.0053475935828877, 240: 0.0053475935828877, 241: 0.0053475935828877, 242: 0.0053475935828877}\n"
     ]
    }
   ],
   "source": [
    "deg_cen =nx.degree_centrality(G)\n",
    "print(deg_cen)"
   ]
  },
  {
   "cell_type": "code",
   "execution_count": 18,
   "id": "447449af",
   "metadata": {},
   "outputs": [
    {
     "data": {
      "image/png": "[encoded data removed]",
      "text/plain": [
       "<Figure size 432x288 with 1 Axes>"
      ]
     },
     "metadata": {
      "needs_background": "light"
     },
     "output_type": "display_data"
    },
    {
     "data": {
      "image/png": "[encoded data removed]",
      "text/plain": [
       "<Figure size 432x288 with 1 Axes>"
      ]
     },
     "metadata": {
      "needs_background": "light"
     },
     "output_type": "display_data"
    }
   ],
   "source": [
    "# Compute the degree centrality of the Twitter network: deg_cent\n",
    "deg_cent = nx.degree_centrality(G)\n",
    "\n",
    "# Plot a histogram of the degree centrality distribution of the graph\n",
    "plt.figure()\n",
    "plt.hist(list(deg_cent.values()))\n",
    "plt.show()\n",
    "\n",
    "# Plot a histogram of the degree distribution of the graph\n",
    "plt.figure()\n",
    "plt.hist(degrees)\n",
    "plt.show()\n",
    "\n"
   ]
  },
  {
   "cell_type": "code",
   "execution_count": 19,
   "id": "f8c049cc",
   "metadata": {},
   "outputs": [
    {
     "data": {
      "text/plain": [
       "376"
      ]
     },
     "execution_count": 19,
     "metadata": {},
     "output_type": "execute_result"
    }
   ],
   "source": [
    "np.size(G.in_degree())"
   ]
  },
  {
   "cell_type": "code",
   "execution_count": 20,
   "id": "ec90f3e7",
   "metadata": {},
   "outputs": [
    {
     "data": {
      "text/plain": [
       "188"
      ]
     },
     "execution_count": 20,
     "metadata": {},
     "output_type": "execute_result"
    }
   ],
   "source": [
    "np.size(list(nx.degree_centrality(G)))"
   ]
  },
  {
   "cell_type": "code",
   "execution_count": 21,
   "id": "9d545342",
   "metadata": {},
   "outputs": [
    {
     "data": {
      "text/plain": [
       "188"
      ]
     },
     "execution_count": 21,
     "metadata": {},
     "output_type": "execute_result"
    }
   ],
   "source": [
    "np.size(list(nx.in_degree_centrality(G)))"
   ]
  },
  {
   "cell_type": "code",
   "execution_count": 22,
   "id": "018e9af7",
   "metadata": {},
   "outputs": [],
   "source": [
    "in_deg_centrality = nx.in_degree_centrality(G)"
   ]
  },
  {
   "cell_type": "code",
   "execution_count": 23,
   "id": "9aec909d",
   "metadata": {
    "scrolled": true
   },
   "outputs": [
    {
     "data": {
      "image/png": "[encoded data removed]",
      "text/plain": [
       "<Figure size 432x288 with 1 Axes>"
      ]
     },
     "metadata": {
      "needs_background": "light"
     },
     "output_type": "display_data"
    }
   ],
   "source": [
    "# Plot a histogram of the degree centrality distribution of the graph\n",
    "plt.figure()\n",
    "plt.hist(list(in_deg_centrality.values()))\n",
    "plt.show()"
   ]
  },
  {
   "cell_type": "code",
   "execution_count": 24,
   "id": "c16c9db7",
   "metadata": {},
   "outputs": [],
   "source": [
    "out_deg_centrality = nx.out_degree_centrality(G)"
   ]
  },
  {
   "cell_type": "code",
   "execution_count": 25,
   "id": "de87a812",
   "metadata": {},
   "outputs": [
    {
     "data": {
      "image/png": "[encoded data removed]",
      "text/plain": [
       "<Figure size 432x288 with 1 Axes>"
      ]
     },
     "metadata": {
      "needs_background": "light"
     },
     "output_type": "display_data"
    }
   ],
   "source": [
    "# Plot a histogram of the degree centrality distribution of the graph\n",
    "plt.figure()\n",
    "plt.hist(list(out_deg_centrality.values()))\n",
    "plt.show()"
   ]
  },
  {
   "cell_type": "code",
   "execution_count": 26,
   "id": "4ac62f61",
   "metadata": {},
   "outputs": [
    {
     "data": {
      "image/png": "[encoded data removed]",
      "text/plain": [
       "<Figure size 1440x1440 with 1 Axes>"
      ]
     },
     "metadata": {
      "needs_background": "light"
     },
     "output_type": "display_data"
    }
   ],
   "source": [
    "# Plot a scatter plot of the centrality distribution and the degree distribution\n",
    "plt.figure(figsize=(20, 20))\n",
    "#plt.scatter(G.in_degree(), list(in_deg_centrality) + list(out_deg_centrality))\n",
    "plt.scatter(G.degree(), list(in_deg_centrality.values()) + list(out_deg_centrality.values()))\n",
    "plt.show('.')"
   ]
  },
  {
   "cell_type": "code",
   "execution_count": 27,
   "id": "119e2d85",
   "metadata": {},
   "outputs": [],
   "source": [
    "# close_centrality = nx.closeness_centrality(G)\n",
    "# print(close_centrality)"
   ]
  },
  {
   "cell_type": "code",
   "execution_count": 28,
   "id": "9fc0022c",
   "metadata": {},
   "outputs": [
    {
     "name": "stdout",
     "output_type": "stream",
     "text": [
      "{2: 0.003379343399288475, 3: 0.006083036673914755, 5: 0.003379343399288475, 27: 0.006083036673914755, 6: 0.003379343399288475, 28: 0.009687961040083128, 7: 0.003379343399288475, 8: 0.006083036673914755, 9: 0.003379343399288475, 10: 0.006083036673914755, 44: 0.013383344381978376, 13: 0.009761719996756815, 16: 0.005982790196825362, 30: 0.005982790196825362, 88: 0.005982790196825362, 14: 0.003379343399288475, 15: 0.0047311900366016155, 79: 0.006570531698022645, 17: 0.003379343399288475, 18: 0.0036797537631358393, 21: 0.0042805744908305686, 98: 0.004881395218525297, 19: 0.003379343399288475, 20: 0.0042805744908305686, 90: 0.0042805744908305686, 22: 0.003379343399288475, 23: 0.006083036673914755, 29: 0.00824621520466422, 24: 0.003379343399288475, 40: 0.0037655852956636577, 67: 0.0037655852956636577, 97: 0.004924310984789206, 243: 0.0037655852956636577, 25: 0.003379343399288475, 26: 0.006083036673914755, 31: 0.003379343399288475, 32: 0.006083036673914755, 34: 0.003379343399288475, 163: 0.008786729948541034, 35: 0.003379343399288475, 36: 0.006083036673914755, 38: 0.003379343399288475, 39: 0.006083036673914755, 41: 0.003379343399288475, 42: 0.0047311900366016155, 121: 0.0047311900366016155, 45: 0.003379343399288475, 57: 0.0047311900366016155, 82: 0.008516472576602627, 47: 0.006958557639927883, 48: 0.008946884491524061, 148: 0.006958557639927883, 49: 0.003379343399288475, 50: 0.006083036673914755, 51: 0.003379343399288475, 52: 0.006083036673914755, 53: 0.003379343399288475, 54: 0.006083036673914755, 58: 0.003379343399288475, 59: 0.009868319213915767, 60: 0.003379343399288475, 62: 0.0047311900366016155, 104: 0.0047311900366016155, 64: 0.003379343399288475, 65: 0.006083036673914755, 66: 0.003379343399288475, 84: 0.006083036673914755, 68: 0.0042805744908305686, 211: 0.008606558367248763, 70: 0.003379343399288475, 71: 0.0042805744908305686, 95: 0.0042805744908305686, 190: 0.0042805744908305686, 74: 0.003379343399288475, 75: 0.007434883311227896, 76: 0.003379343399288475, 141: 0.0050691516959299, 80: 0.02435131709056461, 81: 0.022823487492118932, 86: 0.003379343399288475, 87: 0.006083036673914755, 91: 0.003379343399288475, 92: 0.0042805744908305686, 164: 0.005181805582372662, 100: 0.003379343399288475, 101: 0.006083036673914755, 102: 0.003379343399288475, 103: 0.006083036673914755, 105: 0.01685138266065734, 106: 0.01685138266065734, 109: 0.003379343399288475, 110: 0.006083036673914755, 112: 0.003379343399288475, 113: 0.0042805744908305686, 131: 0.005181805582372662, 114: 0.003379343399288475, 115: 0.006083036673914755, 118: 0.003379343399288475, 119: 0.006083036673914755, 123: 0.003379343399288475, 124: 0.006083036673914755, 125: 0.003379343399288475, 126: 0.006083036673914755, 130: 0.003379343399288475, 173: 0.006083036673914755, 133: 0.003379343399288475, 134: 0.006083036673914755, 137: 0.003379343399288475, 138: 0.006083036673914755, 139: 0.003379343399288475, 203: 0.006083036673914755, 140: 0.003379343399288475, 145: 0.005407113355258185, 226: 0.0037173050586167596, 142: 0.003379343399288475, 143: 0.006984267765456848, 150: 0.003379343399288475, 172: 0.006083036673914755, 151: 0.003379343399288475, 152: 0.006083036673914755, 153: 0.003379343399288475, 154: 0.006083036673914755, 155: 0.003379343399288475, 156: 0.006083036673914755, 157: 0.003379343399288475, 158: 0.006083036673914755, 159: 0.003379343399288475, 160: 0.006083036673914755, 161: 0.003379343399288475, 162: 0.006083036673914755, 166: 0.003379343399288475, 167: 0.005181805582372662, 170: 0.0042805744908305686, 168: 0.003379343399288475, 169: 0.006083036673914755, 171: 0.003379343399288475, 176: 0.003379343399288475, 177: 0.006083036673914755, 180: 0.003379343399288475, 181: 0.006083036673914755, 187: 0.00824621520466422, 182: 0.003379343399288475, 183: 0.006083036673914755, 184: 0.003379343399288475, 218: 0.006083036673914755, 185: 0.003379343399288475, 186: 0.006083036673914755, 188: 0.003379343399288475, 189: 0.008786729948541034, 191: 0.003379343399288475, 192: 0.006083036673914755, 193: 0.003379343399288475, 194: 0.006083036673914755, 196: 0.003379343399288475, 198: 0.003379343399288475, 199: 0.006083036673914755, 200: 0.003379343399288475, 204: 0.003379343399288475, 205: 0.006083036673914755, 207: 0.003379343399288475, 206: 0.006083036673914755, 208: 0.003379343399288475, 209: 0.003379343399288475, 210: 0.006083036673914755, 212: 0.003379343399288475, 213: 0.006083036673914755, 214: 0.003379343399288475, 216: 0.01685138266065734, 217: 0.01685138266065734, 220: 0.003379343399288475, 225: 0.0042805744908305686, 227: 0.0042805744908305686, 221: 0.003379343399288475, 222: 0.006083036673914755, 228: 0.003379343399288475, 229: 0.006083036673914755, 231: 0.003379343399288475, 232: 0.006083036673914755, 233: 0.003379343399288475, 224: 0.006083036673914755, 234: 0.003379343399288475, 235: 0.006083036673914755, 237: 0.003379343399288475, 238: 0.006083036673914755, 239: 0.003379343399288475, 240: 0.006083036673914755, 241: 0.003379343399288475, 242: 0.006083036673914755}\n"
     ]
    }
   ],
   "source": [
    "pr = nx.pagerank(G, alpha = 0.8)\n",
    "print(pr)"
   ]
  },
  {
   "cell_type": "code",
   "execution_count": 29,
   "id": "eb62e8ea",
   "metadata": {},
   "outputs": [
    {
     "data": {
      "image/png": "[encoded data removed]",
      "text/plain": [
       "<Figure size 432x288 with 1 Axes>"
      ]
     },
     "metadata": {
      "needs_background": "light"
     },
     "output_type": "display_data"
    }
   ],
   "source": [
    "# Plot a histogram of the pagerank centrality distribution of the graph\n",
    "plt.figure()\n",
    "plt.hist(list(pr.values()))\n",
    "plt.show()"
   ]
  },
  {
   "cell_type": "code",
   "execution_count": 30,
   "id": "b3fd197a",
   "metadata": {},
   "outputs": [],
   "source": [
    "eig_cent = nx.eigenvector_centrality(G)"
   ]
  },
  {
   "cell_type": "code",
   "execution_count": 31,
   "id": "63146a55",
   "metadata": {},
   "outputs": [
    {
     "name": "stdout",
     "output_type": "stream",
     "text": [
      "{2: 1.2328391548378674e-18, 3: 5.79434402773798e-17, 5: 1.2328391548378674e-18, 27: 5.79434402773798e-17, 6: 1.2328391548378674e-18, 28: 1.7136464252246347e-16, 7: 1.2328391548378674e-18, 8: 5.79434402773798e-17, 9: 1.2328391548378674e-18, 10: 5.79434402773798e-17, 44: 2.723341693036851e-15, 13: 0.603022663059527, 16: 0.42640141425856215, 30: 0.42640141425856215, 88: 0.42640141425856215, 14: 1.2328391548378674e-18, 15: 5.79434402773798e-17, 79: 0.30151133152976356, 17: 1.2328391548378674e-18, 18: 5.79434402773798e-17, 21: 5.79434402773798e-17, 98: 5.79434402773798e-17, 19: 1.2328391548378674e-18, 20: 5.79434402773798e-17, 90: 5.79434402773798e-17, 22: 1.2328391548378674e-18, 23: 5.79434402773798e-17, 29: 1.3339319655345732e-15, 24: 1.2328391548378674e-18, 40: 5.79434402773798e-17, 67: 5.79434402773798e-17, 97: 5.79434402773798e-17, 243: 5.79434402773798e-17, 25: 1.2328391548378674e-18, 26: 5.79434402773798e-17, 31: 1.2328391548378674e-18, 32: 5.79434402773798e-17, 34: 1.2328391548378674e-18, 163: 1.1465404139992172e-16, 35: 1.2328391548378674e-18, 36: 5.79434402773798e-17, 38: 1.2328391548378674e-18, 39: 5.79434402773798e-17, 41: 1.2328391548378674e-18, 42: 5.79434402773798e-17, 121: 5.79434402773798e-17, 45: 1.2328391548378674e-18, 57: 5.79434402773798e-17, 82: 1.3906425666571157e-15, 47: 8.675334309899339e-05, 48: 8.675334309899339e-05, 148: 8.675334309899339e-05, 49: 1.2328391548378674e-18, 50: 5.79434402773798e-17, 51: 1.2328391548378674e-18, 52: 5.79434402773798e-17, 53: 1.2328391548378674e-18, 54: 5.79434402773798e-17, 58: 1.2328391548378674e-18, 59: 1.3906425666571157e-15, 60: 1.2328391548378674e-18, 62: 5.79434402773798e-17, 104: 5.79434402773798e-17, 64: 1.2328391548378674e-18, 65: 5.79434402773798e-17, 66: 1.2328391548378674e-18, 84: 5.79434402773798e-17, 68: 5.79434402773798e-17, 211: 1.3906425666571157e-15, 70: 1.2328391548378674e-18, 71: 5.79434402773798e-17, 95: 5.79434402773798e-17, 190: 5.79434402773798e-17, 74: 1.2328391548378674e-18, 75: 1.1465404139992172e-16, 76: 1.2328391548378674e-18, 141: 1.1465404139992172e-16, 80: 0.00013013001464849021, 81: 0.00013013001464848897, 86: 1.2328391548378674e-18, 87: 5.79434402773798e-17, 91: 1.2328391548378674e-18, 92: 5.79434402773798e-17, 164: 5.79434402773798e-17, 100: 1.2328391548378674e-18, 101: 5.79434402773798e-17, 102: 1.2328391548378674e-18, 103: 5.79434402773798e-17, 105: 8.675334309899339e-05, 106: 8.675334309899339e-05, 109: 1.2328391548378674e-18, 110: 5.79434402773798e-17, 112: 1.2328391548378674e-18, 113: 5.79434402773798e-17, 131: 5.79434402773798e-17, 114: 1.2328391548378674e-18, 115: 5.79434402773798e-17, 118: 1.2328391548378674e-18, 119: 5.79434402773798e-17, 123: 1.2328391548378674e-18, 124: 5.79434402773798e-17, 125: 1.2328391548378674e-18, 126: 5.79434402773798e-17, 130: 1.2328391548378674e-18, 173: 5.79434402773798e-17, 133: 1.2328391548378674e-18, 134: 5.79434402773798e-17, 137: 1.2328391548378674e-18, 138: 5.79434402773798e-17, 139: 1.2328391548378674e-18, 203: 5.79434402773798e-17, 140: 1.2328391548378674e-18, 145: 5.79434402773798e-17, 226: 5.79434402773798e-17, 142: 1.2328391548378674e-18, 143: 1.1465404139992172e-16, 150: 1.2328391548378674e-18, 172: 5.79434402773798e-17, 151: 1.2328391548378674e-18, 152: 5.79434402773798e-17, 153: 1.2328391548378674e-18, 154: 5.79434402773798e-17, 155: 1.2328391548378674e-18, 156: 5.79434402773798e-17, 157: 1.2328391548378674e-18, 158: 5.79434402773798e-17, 159: 1.2328391548378674e-18, 160: 5.79434402773798e-17, 161: 1.2328391548378674e-18, 162: 5.79434402773798e-17, 166: 1.2328391548378674e-18, 167: 5.79434402773798e-17, 170: 5.79434402773798e-17, 168: 1.2328391548378674e-18, 169: 5.79434402773798e-17, 171: 1.2328391548378674e-18, 176: 1.2328391548378674e-18, 177: 5.79434402773798e-17, 180: 1.2328391548378674e-18, 181: 5.79434402773798e-17, 187: 1.3339319655345732e-15, 182: 1.2328391548378674e-18, 183: 5.79434402773798e-17, 184: 1.2328391548378674e-18, 218: 5.79434402773798e-17, 185: 1.2328391548378674e-18, 186: 5.79434402773798e-17, 188: 1.2328391548378674e-18, 189: 1.1465404139992172e-16, 191: 1.2328391548378674e-18, 192: 5.79434402773798e-17, 193: 1.2328391548378674e-18, 194: 5.79434402773798e-17, 196: 1.2328391548378674e-18, 198: 1.2328391548378674e-18, 199: 5.79434402773798e-17, 200: 1.2328391548378674e-18, 204: 1.2328391548378674e-18, 205: 5.79434402773798e-17, 207: 1.2328391548378674e-18, 206: 5.79434402773798e-17, 208: 1.2328391548378674e-18, 209: 1.2328391548378674e-18, 210: 5.79434402773798e-17, 212: 1.2328391548378674e-18, 213: 5.79434402773798e-17, 214: 1.2328391548378674e-18, 216: 8.675334309899339e-05, 217: 8.675334309899339e-05, 220: 1.2328391548378674e-18, 225: 5.79434402773798e-17, 227: 5.79434402773798e-17, 221: 1.2328391548378674e-18, 222: 5.79434402773798e-17, 228: 1.2328391548378674e-18, 229: 5.79434402773798e-17, 231: 1.2328391548378674e-18, 232: 5.79434402773798e-17, 233: 1.2328391548378674e-18, 224: 5.79434402773798e-17, 234: 1.2328391548378674e-18, 235: 5.79434402773798e-17, 237: 1.2328391548378674e-18, 238: 5.79434402773798e-17, 239: 1.2328391548378674e-18, 240: 5.79434402773798e-17, 241: 1.2328391548378674e-18, 242: 5.79434402773798e-17}\n"
     ]
    }
   ],
   "source": [
    "print(eig_cent)"
   ]
  },
  {
   "cell_type": "code",
   "execution_count": 32,
   "id": "4b22906f",
   "metadata": {},
   "outputs": [
    {
     "data": {
      "image/png": "[encoded data removed]",
      "text/plain": [
       "<Figure size 432x288 with 1 Axes>"
      ]
     },
     "metadata": {
      "needs_background": "light"
     },
     "output_type": "display_data"
    }
   ],
   "source": [
    "# Plot a histogram of the pagerank centrality distribution of the graph\n",
    "plt.figure()\n",
    "plt.hist(list(eig_cent.values()))\n",
    "plt.show()"
   ]
  },
  {
   "cell_type": "code",
   "execution_count": 33,
   "id": "22d7d509",
   "metadata": {},
   "outputs": [],
   "source": [
    "r_in_out = nx.degree_assortativity_coefficient(G, x=\"in\", y=\"out\")"
   ]
  },
  {
   "cell_type": "code",
   "execution_count": 34,
   "id": "b4c2810c",
   "metadata": {},
   "outputs": [
    {
     "name": "stdout",
     "output_type": "stream",
     "text": [
      "0.5116428524920428\n"
     ]
    }
   ],
   "source": [
    "print(r_in_out)"
   ]
  },
  {
   "cell_type": "code",
   "execution_count": 35,
   "id": "f35a7fa5",
   "metadata": {},
   "outputs": [
    {
     "name": "stdout",
     "output_type": "stream",
     "text": [
      "0.0034986915462509958\n"
     ]
    }
   ],
   "source": [
    "print(nx.density(G))"
   ]
  },
  {
   "cell_type": "code",
   "execution_count": 30,
   "id": "7ce7f7c9",
   "metadata": {},
   "outputs": [
    {
     "data": {
      "text/plain": [
       "<generator object connected_components at 0x000001C284710040>"
      ]
     },
     "execution_count": 30,
     "metadata": {},
     "output_type": "execute_result"
    }
   ],
   "source": [
    "nx.connected_components(G)"
   ]
  },
  {
   "cell_type": "code",
   "execution_count": 37,
   "id": "f69a8b34",
   "metadata": {},
   "outputs": [],
   "source": [
    "#print(nx.diameter(G))"
   ]
  },
  {
   "cell_type": "code",
   "execution_count": 38,
   "id": "d16a1f5f",
   "metadata": {},
   "outputs": [],
   "source": [
    "# # Compute the betweenness centrality\n",
    "# bet_cen = nx.betweenness_centrality(G)\n",
    "# print(bet_cen)"
   ]
  },
  {
   "cell_type": "code",
   "execution_count": 39,
   "id": "aa4eaaa4",
   "metadata": {},
   "outputs": [],
   "source": [
    "# import networkx.algorithms.community as nx_comm\n",
    "# # Compute community structure\n",
    "# lpc = nx_comm.louvain_communities(G)\n",
    "# community_index = {n: i for i, com in enumerate(lpc) for n in com}\n",
    "\n",
    "# #### draw graph ####\n",
    "# fig, ax = plt.subplots(figsize=(20, 15))\n",
    "# node_color = [community_index[n] for n in G]\n",
    "# node_size = [v * 40000 for v in bet_cen.values()]\n",
    "# nx.draw_networkx(\n",
    "#     G,\n",
    "#     with_labels=False,\n",
    "#     node_color=node_color,\n",
    "#     node_size=500,\n",
    "#     alpha=0.8,\n",
    "# )\n",
    "\n",
    "# # Title/legend\n",
    "# font = {\"color\": \"k\", \"fontweight\": \"bold\", \"fontsize\": 20}\n",
    "# ax.set_title(\"Davis’ Southern Women Club Network\", font)\n",
    "# # Change font color for legend\n",
    "# font[\"color\"] = \"r\"\n",
    "\n",
    "# ax.text(\n",
    "#     0.50,\n",
    "#     0.9,\n",
    "#     \"node color = community structure\",\n",
    "#     horizontalalignment=\"center\",\n",
    "#     transform=ax.transAxes,\n",
    "#     fontdict=font,\n",
    "# )\n",
    "# ax.text(\n",
    "#     0.50,\n",
    "#     0.85,\n",
    "#     \"node size = betweeness centrality\",\n",
    "#     horizontalalignment=\"center\",\n",
    "#     transform=ax.transAxes,\n",
    "#     fontdict=font,\n",
    "# )\n",
    "\n",
    "# # Resize figure for label readibility\n",
    "# ax.margins(0.1, 0.05)\n",
    "# fig.tight_layout()\n",
    "# plt.axis(\"off\")\n",
    "# plt.show()"
   ]
  },
  {
   "cell_type": "code",
   "execution_count": 7,
   "id": "66f1fc3c",
   "metadata": {},
   "outputs": [],
   "source": [
    "import pandas as pd\n",
    "import numpy as np\n",
    "import random\n",
    "import networkx as nx\n",
    "from tqdm import tqdm\n",
    "import re\n",
    "import matplotlib.pyplot as plt\n",
    "\n",
    "from sklearn.linear_model import LogisticRegression\n",
    "from sklearn.metrics import classification_report, roc_auc_score\n",
    "from sklearn.model_selection import train_test_split\n",
    "from sklearn.metrics import confusion_matrix"
   ]
  },
  {
   "cell_type": "code",
   "execution_count": 189,
   "id": "1282c72e",
   "metadata": {},
   "outputs": [],
   "source": [
    "G = nx.convert_node_labels_to_integers(G)"
   ]
  },
  {
   "cell_type": "code",
   "execution_count": null,
   "id": "e1e10d47",
   "metadata": {},
   "outputs": [],
   "source": []
  },
  {
   "cell_type": "code",
   "execution_count": 190,
   "id": "c6b95f9c",
   "metadata": {},
   "outputs": [
    {
     "name": "stderr",
     "output_type": "stream",
     "text": [
      "C:\\Users\\lichr\\AppData\\Local\\Temp/ipykernel_15924/2707774606.py:2: FutureWarning: adjacency_matrix will return a scipy.sparse array instead of a matrix in Networkx 3.0.\n",
      "  A = nx.adjacency_matrix(G)\n"
     ]
    }
   ],
   "source": [
    "# Adjacency matrix \n",
    "A = nx.adjacency_matrix(G)"
   ]
  },
  {
   "cell_type": "code",
   "execution_count": 191,
   "id": "730b471e",
   "metadata": {},
   "outputs": [
    {
     "name": "stdout",
     "output_type": "stream",
     "text": [
      "Graph with 45813 nodes and 183412 edges\n"
     ]
    }
   ],
   "source": [
    "print(G)"
   ]
  },
  {
   "cell_type": "code",
   "execution_count": 192,
   "id": "7edcc870",
   "metadata": {},
   "outputs": [
    {
     "data": {
      "text/plain": [
       "(45813, 45813)"
      ]
     },
     "execution_count": 192,
     "metadata": {},
     "output_type": "execute_result"
    }
   ],
   "source": [
    "A.shape"
   ]
  },
  {
   "cell_type": "code",
   "execution_count": 193,
   "id": "96842307",
   "metadata": {},
   "outputs": [
    {
     "data": {
      "text/plain": [
       "(188, 188)"
      ]
     },
     "execution_count": 193,
     "metadata": {},
     "output_type": "execute_result"
    }
   ],
   "source": [
    "adj_G.shape"
   ]
  },
  {
   "cell_type": "code",
   "execution_count": 5,
   "id": "d8c49e85",
   "metadata": {},
   "outputs": [],
   "source": [
    "edges_list = np.asarray(G.edges)"
   ]
  },
  {
   "cell_type": "code",
   "execution_count": 14,
   "id": "7183799e",
   "metadata": {},
   "outputs": [
    {
     "data": {
      "text/plain": [
       "array([[    2,     3],\n",
       "       [    2,  1043],\n",
       "       [    2,    79],\n",
       "       ...,\n",
       "       [46907, 46908],\n",
       "       [46915, 46916],\n",
       "       [46950, 46951]])"
      ]
     },
     "execution_count": 14,
     "metadata": {},
     "output_type": "execute_result"
    }
   ],
   "source": [
    "edges_list"
   ]
  },
  {
   "cell_type": "code",
   "execution_count": 25,
   "id": "eaa0f1cd",
   "metadata": {},
   "outputs": [],
   "source": [
    "# captture nodes in 2 separate lists\n",
    "from datetime import datetime\n",
    "\n",
    "node_list_1 = []\n",
    "node_list_2 = []\n",
    "for i in edges_list:\n",
    "    node_list_1.append(i[0])\n",
    "    node_list_2.append(i[1])\n",
    "\n",
    "fb_df = pd.DataFrame({'node_1': node_list_1, 'node_2': node_list_2, 'weight':data['weight'], 'time': datetime.fromtimestamp(data['time'])})"
   ]
  },
  {
   "cell_type": "code",
   "execution_count": 23,
   "id": "b72fd1ea",
   "metadata": {},
   "outputs": [
    {
     "data": {
      "text/html": [
       "<div>\n",
       "<style scoped>\n",
       "    .dataframe tbody tr th:only-of-type {\n",
       "        vertical-align: middle;\n",
       "    }\n",
       "\n",
       "    .dataframe tbody tr th {\n",
       "        vertical-align: top;\n",
       "    }\n",
       "\n",
       "    .dataframe thead th {\n",
       "        text-align: right;\n",
       "    }\n",
       "</style>\n",
       "<table border=\"1\" class=\"dataframe\">\n",
       "  <thead>\n",
       "    <tr style=\"text-align: right;\">\n",
       "      <th></th>\n",
       "      <th>node_1</th>\n",
       "      <th>node_2</th>\n",
       "      <th>weight</th>\n",
       "    </tr>\n",
       "  </thead>\n",
       "  <tbody>\n",
       "    <tr>\n",
       "      <th>count</th>\n",
       "      <td>183412.000000</td>\n",
       "      <td>183412.000000</td>\n",
       "      <td>183412.0</td>\n",
       "    </tr>\n",
       "    <tr>\n",
       "      <th>mean</th>\n",
       "      <td>12475.684334</td>\n",
       "      <td>16953.312619</td>\n",
       "      <td>1.0</td>\n",
       "    </tr>\n",
       "    <tr>\n",
       "      <th>std</th>\n",
       "      <td>11089.532443</td>\n",
       "      <td>12549.267453</td>\n",
       "      <td>0.0</td>\n",
       "    </tr>\n",
       "    <tr>\n",
       "      <th>min</th>\n",
       "      <td>2.000000</td>\n",
       "      <td>3.000000</td>\n",
       "      <td>1.0</td>\n",
       "    </tr>\n",
       "    <tr>\n",
       "      <th>25%</th>\n",
       "      <td>3822.000000</td>\n",
       "      <td>6395.750000</td>\n",
       "      <td>1.0</td>\n",
       "    </tr>\n",
       "    <tr>\n",
       "      <th>50%</th>\n",
       "      <td>8668.000000</td>\n",
       "      <td>13607.000000</td>\n",
       "      <td>1.0</td>\n",
       "    </tr>\n",
       "    <tr>\n",
       "      <th>75%</th>\n",
       "      <td>18458.750000</td>\n",
       "      <td>26299.000000</td>\n",
       "      <td>1.0</td>\n",
       "    </tr>\n",
       "    <tr>\n",
       "      <th>max</th>\n",
       "      <td>46950.000000</td>\n",
       "      <td>46952.000000</td>\n",
       "      <td>1.0</td>\n",
       "    </tr>\n",
       "  </tbody>\n",
       "</table>\n",
       "</div>"
      ],
      "text/plain": [
       "              node_1         node_2    weight\n",
       "count  183412.000000  183412.000000  183412.0\n",
       "mean    12475.684334   16953.312619       1.0\n",
       "std     11089.532443   12549.267453       0.0\n",
       "min         2.000000       3.000000       1.0\n",
       "25%      3822.000000    6395.750000       1.0\n",
       "50%      8668.000000   13607.000000       1.0\n",
       "75%     18458.750000   26299.000000       1.0\n",
       "max     46950.000000   46952.000000       1.0"
      ]
     },
     "execution_count": 23,
     "metadata": {},
     "output_type": "execute_result"
    }
   ],
   "source": [
    "fb_df.describe()"
   ]
  },
  {
   "cell_type": "code",
   "execution_count": 197,
   "id": "d86cf9d2",
   "metadata": {},
   "outputs": [],
   "source": [
    "# combine all nodes in a list\n",
    "node_list = node_list_1 + node_list_2\n",
    "# remove duplicate items from the list\n",
    "node_list = list(dict.fromkeys(node_list))\n",
    "adj_G = nx.to_numpy_matrix(G, nodelist = G.nodes)"
   ]
  },
  {
   "cell_type": "code",
   "execution_count": 198,
   "id": "4eabd160",
   "metadata": {},
   "outputs": [
    {
     "name": "stderr",
     "output_type": "stream",
     "text": [
      "  0%|                                                                            | 4/45813 [02:03<393:44:19, 30.94s/it]\n"
     ]
    },
    {
     "ename": "KeyboardInterrupt",
     "evalue": "",
     "output_type": "error",
     "traceback": [
      "\u001b[1;31m---------------------------------------------------------------------------\u001b[0m",
      "\u001b[1;31mKeyboardInterrupt\u001b[0m                         Traceback (most recent call last)",
      "\u001b[1;32m~\\AppData\\Local\\Temp/ipykernel_15924/3054890104.py\u001b[0m in \u001b[0;36m<module>\u001b[1;34m\u001b[0m\n\u001b[0;32m     25\u001b[0m     \u001b[1;32mfor\u001b[0m \u001b[0mj\u001b[0m \u001b[1;32min\u001b[0m \u001b[0mrange\u001b[0m\u001b[1;33m(\u001b[0m\u001b[0moffset\u001b[0m\u001b[1;33m,\u001b[0m\u001b[0madj_G\u001b[0m\u001b[1;33m.\u001b[0m\u001b[0mshape\u001b[0m\u001b[1;33m[\u001b[0m\u001b[1;36m1\u001b[0m\u001b[1;33m]\u001b[0m\u001b[1;33m)\u001b[0m\u001b[1;33m:\u001b[0m\u001b[1;33m\u001b[0m\u001b[1;33m\u001b[0m\u001b[0m\n\u001b[0;32m     26\u001b[0m         \u001b[1;32mif\u001b[0m \u001b[0mi\u001b[0m \u001b[1;33m!=\u001b[0m \u001b[0mj\u001b[0m\u001b[1;33m:\u001b[0m\u001b[1;33m\u001b[0m\u001b[1;33m\u001b[0m\u001b[0m\n\u001b[1;32m---> 27\u001b[1;33m             \u001b[1;32mif\u001b[0m \u001b[1;33m(\u001b[0m\u001b[0mnx\u001b[0m\u001b[1;33m.\u001b[0m\u001b[0mhas_path\u001b[0m\u001b[1;33m(\u001b[0m\u001b[0mG\u001b[0m\u001b[1;33m,\u001b[0m \u001b[0mi\u001b[0m\u001b[1;33m,\u001b[0m \u001b[0mj\u001b[0m\u001b[1;33m)\u001b[0m\u001b[1;33m)\u001b[0m\u001b[1;33m:\u001b[0m\u001b[1;33m\u001b[0m\u001b[1;33m\u001b[0m\u001b[0m\n\u001b[0m\u001b[0;32m     28\u001b[0m                 \u001b[1;32mif\u001b[0m \u001b[0mnx\u001b[0m\u001b[1;33m.\u001b[0m\u001b[0mshortest_path_length\u001b[0m\u001b[1;33m(\u001b[0m\u001b[0mG\u001b[0m\u001b[1;33m,\u001b[0m \u001b[0mi\u001b[0m\u001b[1;33m,\u001b[0m \u001b[0mj\u001b[0m\u001b[1;33m)\u001b[0m \u001b[1;33m<=\u001b[0m\u001b[1;36m2\u001b[0m\u001b[1;33m:\u001b[0m\u001b[1;33m\u001b[0m\u001b[1;33m\u001b[0m\u001b[0m\n\u001b[0;32m     29\u001b[0m                     \u001b[1;32mif\u001b[0m \u001b[0madj_G\u001b[0m\u001b[1;33m[\u001b[0m\u001b[0mi\u001b[0m\u001b[1;33m,\u001b[0m\u001b[0mj\u001b[0m\u001b[1;33m]\u001b[0m \u001b[1;33m==\u001b[0m \u001b[1;36m0\u001b[0m\u001b[1;33m:\u001b[0m\u001b[1;33m\u001b[0m\u001b[1;33m\u001b[0m\u001b[0m\n",
      "\u001b[1;32m~\\anaconda3\\lib\\site-packages\\networkx\\algorithms\\shortest_paths\\generic.py\u001b[0m in \u001b[0;36mhas_path\u001b[1;34m(G, source, target)\u001b[0m\n\u001b[0;32m     31\u001b[0m     \"\"\"\n\u001b[0;32m     32\u001b[0m     \u001b[1;32mtry\u001b[0m\u001b[1;33m:\u001b[0m\u001b[1;33m\u001b[0m\u001b[1;33m\u001b[0m\u001b[0m\n\u001b[1;32m---> 33\u001b[1;33m         \u001b[0mnx\u001b[0m\u001b[1;33m.\u001b[0m\u001b[0mshortest_path\u001b[0m\u001b[1;33m(\u001b[0m\u001b[0mG\u001b[0m\u001b[1;33m,\u001b[0m \u001b[0msource\u001b[0m\u001b[1;33m,\u001b[0m \u001b[0mtarget\u001b[0m\u001b[1;33m)\u001b[0m\u001b[1;33m\u001b[0m\u001b[1;33m\u001b[0m\u001b[0m\n\u001b[0m\u001b[0;32m     34\u001b[0m     \u001b[1;32mexcept\u001b[0m \u001b[0mnx\u001b[0m\u001b[1;33m.\u001b[0m\u001b[0mNetworkXNoPath\u001b[0m\u001b[1;33m:\u001b[0m\u001b[1;33m\u001b[0m\u001b[1;33m\u001b[0m\u001b[0m\n\u001b[0;32m     35\u001b[0m         \u001b[1;32mreturn\u001b[0m \u001b[1;32mFalse\u001b[0m\u001b[1;33m\u001b[0m\u001b[1;33m\u001b[0m\u001b[0m\n",
      "\u001b[1;32m~\\anaconda3\\lib\\site-packages\\networkx\\algorithms\\shortest_paths\\generic.py\u001b[0m in \u001b[0;36mshortest_path\u001b[1;34m(G, source, target, weight, method)\u001b[0m\n\u001b[0;32m    163\u001b[0m             \u001b[1;31m# Find shortest source-target path.\u001b[0m\u001b[1;33m\u001b[0m\u001b[1;33m\u001b[0m\u001b[0m\n\u001b[0;32m    164\u001b[0m             \u001b[1;32mif\u001b[0m \u001b[0mmethod\u001b[0m \u001b[1;33m==\u001b[0m \u001b[1;34m\"unweighted\"\u001b[0m\u001b[1;33m:\u001b[0m\u001b[1;33m\u001b[0m\u001b[1;33m\u001b[0m\u001b[0m\n\u001b[1;32m--> 165\u001b[1;33m                 \u001b[0mpaths\u001b[0m \u001b[1;33m=\u001b[0m \u001b[0mnx\u001b[0m\u001b[1;33m.\u001b[0m\u001b[0mbidirectional_shortest_path\u001b[0m\u001b[1;33m(\u001b[0m\u001b[0mG\u001b[0m\u001b[1;33m,\u001b[0m \u001b[0msource\u001b[0m\u001b[1;33m,\u001b[0m \u001b[0mtarget\u001b[0m\u001b[1;33m)\u001b[0m\u001b[1;33m\u001b[0m\u001b[1;33m\u001b[0m\u001b[0m\n\u001b[0m\u001b[0;32m    166\u001b[0m             \u001b[1;32melif\u001b[0m \u001b[0mmethod\u001b[0m \u001b[1;33m==\u001b[0m \u001b[1;34m\"dijkstra\"\u001b[0m\u001b[1;33m:\u001b[0m\u001b[1;33m\u001b[0m\u001b[1;33m\u001b[0m\u001b[0m\n\u001b[0;32m    167\u001b[0m                 \u001b[0m_\u001b[0m\u001b[1;33m,\u001b[0m \u001b[0mpaths\u001b[0m \u001b[1;33m=\u001b[0m \u001b[0mnx\u001b[0m\u001b[1;33m.\u001b[0m\u001b[0mbidirectional_dijkstra\u001b[0m\u001b[1;33m(\u001b[0m\u001b[0mG\u001b[0m\u001b[1;33m,\u001b[0m \u001b[0msource\u001b[0m\u001b[1;33m,\u001b[0m \u001b[0mtarget\u001b[0m\u001b[1;33m,\u001b[0m \u001b[0mweight\u001b[0m\u001b[1;33m)\u001b[0m\u001b[1;33m\u001b[0m\u001b[1;33m\u001b[0m\u001b[0m\n",
      "\u001b[1;32m~\\anaconda3\\lib\\site-packages\\networkx\\algorithms\\shortest_paths\\unweighted.py\u001b[0m in \u001b[0;36mbidirectional_shortest_path\u001b[1;34m(G, source, target)\u001b[0m\n\u001b[0;32m    222\u001b[0m \u001b[1;33m\u001b[0m\u001b[0m\n\u001b[0;32m    223\u001b[0m     \u001b[1;31m# call helper to do the real work\u001b[0m\u001b[1;33m\u001b[0m\u001b[1;33m\u001b[0m\u001b[0m\n\u001b[1;32m--> 224\u001b[1;33m     \u001b[0mresults\u001b[0m \u001b[1;33m=\u001b[0m \u001b[0m_bidirectional_pred_succ\u001b[0m\u001b[1;33m(\u001b[0m\u001b[0mG\u001b[0m\u001b[1;33m,\u001b[0m \u001b[0msource\u001b[0m\u001b[1;33m,\u001b[0m \u001b[0mtarget\u001b[0m\u001b[1;33m)\u001b[0m\u001b[1;33m\u001b[0m\u001b[1;33m\u001b[0m\u001b[0m\n\u001b[0m\u001b[0;32m    225\u001b[0m     \u001b[0mpred\u001b[0m\u001b[1;33m,\u001b[0m \u001b[0msucc\u001b[0m\u001b[1;33m,\u001b[0m \u001b[0mw\u001b[0m \u001b[1;33m=\u001b[0m \u001b[0mresults\u001b[0m\u001b[1;33m\u001b[0m\u001b[1;33m\u001b[0m\u001b[0m\n\u001b[0;32m    226\u001b[0m \u001b[1;33m\u001b[0m\u001b[0m\n",
      "\u001b[1;32m~\\anaconda3\\lib\\site-packages\\networkx\\algorithms\\shortest_paths\\unweighted.py\u001b[0m in \u001b[0;36m_bidirectional_pred_succ\u001b[1;34m(G, source, target)\u001b[0m\n\u001b[0;32m    275\u001b[0m                 \u001b[1;32mfor\u001b[0m \u001b[0mw\u001b[0m \u001b[1;32min\u001b[0m \u001b[0mGsucc\u001b[0m\u001b[1;33m[\u001b[0m\u001b[0mv\u001b[0m\u001b[1;33m]\u001b[0m\u001b[1;33m:\u001b[0m\u001b[1;33m\u001b[0m\u001b[1;33m\u001b[0m\u001b[0m\n\u001b[0;32m    276\u001b[0m                     \u001b[1;32mif\u001b[0m \u001b[0mw\u001b[0m \u001b[1;32mnot\u001b[0m \u001b[1;32min\u001b[0m \u001b[0mpred\u001b[0m\u001b[1;33m:\u001b[0m\u001b[1;33m\u001b[0m\u001b[1;33m\u001b[0m\u001b[0m\n\u001b[1;32m--> 277\u001b[1;33m                         \u001b[0mforward_fringe\u001b[0m\u001b[1;33m.\u001b[0m\u001b[0mappend\u001b[0m\u001b[1;33m(\u001b[0m\u001b[0mw\u001b[0m\u001b[1;33m)\u001b[0m\u001b[1;33m\u001b[0m\u001b[1;33m\u001b[0m\u001b[0m\n\u001b[0m\u001b[0;32m    278\u001b[0m                         \u001b[0mpred\u001b[0m\u001b[1;33m[\u001b[0m\u001b[0mw\u001b[0m\u001b[1;33m]\u001b[0m \u001b[1;33m=\u001b[0m \u001b[0mv\u001b[0m\u001b[1;33m\u001b[0m\u001b[1;33m\u001b[0m\u001b[0m\n\u001b[0;32m    279\u001b[0m                     \u001b[1;32mif\u001b[0m \u001b[0mw\u001b[0m \u001b[1;32min\u001b[0m \u001b[0msucc\u001b[0m\u001b[1;33m:\u001b[0m  \u001b[1;31m# path found\u001b[0m\u001b[1;33m\u001b[0m\u001b[1;33m\u001b[0m\u001b[0m\n",
      "\u001b[1;31mKeyboardInterrupt\u001b[0m: "
     ]
    }
   ],
   "source": [
    "# # get unconnected node-pairs\n",
    "# all_unconnected_pairs = []\n",
    "\n",
    "def nodes_connected(u, v):\n",
    "    return u in G.neighbors(v)\n",
    "\n",
    "# # traverse adjacency matrix\n",
    "# offset = 0\n",
    "# for i in node_list_1:\n",
    "#     for j in node_list_2:\n",
    "#         if i != j:\n",
    "#             if i in node_list_1 and j in node_list_2:\n",
    "#                 if (nodes_connected(i, j)):\n",
    "#                     if nx.shortest_path_length(G, weight = 'weight', source = i, target = j) <=2:\n",
    "#                         if adj_G[i,j] == 0:\n",
    "#                             all_unconnected_pairs.append((i, j))\n",
    "#                 else:\n",
    "#                     all_unconnected_pairs.append((i, j))\n",
    "# get unconnected node-pairs\n",
    "all_unconnected_pairs = []\n",
    "\n",
    "# traverse adjacency matrix\n",
    "offset = 0\n",
    "for i in tqdm(range(adj_G.shape[0])):\n",
    "    for j in range(offset,adj_G.shape[1]):\n",
    "        if i != j:\n",
    "            if (nx.has_path(G, i, j)):\n",
    "                if nx.shortest_path_length(G, i, j) <=2:\n",
    "                    if adj_G[i,j] == 0:\n",
    "                        all_unconnected_pairs.append([i,j])\n",
    "    offset = offset + 1"
   ]
  },
  {
   "cell_type": "code",
   "execution_count": 199,
   "id": "7e3008c4",
   "metadata": {},
   "outputs": [
    {
     "data": {
      "text/plain": [
       "1316"
      ]
     },
     "execution_count": 199,
     "metadata": {},
     "output_type": "execute_result"
    }
   ],
   "source": [
    "len(all_unconnected_pairs)"
   ]
  },
  {
   "cell_type": "code",
   "execution_count": 200,
   "id": "ea6314c9",
   "metadata": {},
   "outputs": [],
   "source": [
    "node_1_unlinked = [i[0] for i in all_unconnected_pairs]\n",
    "node_2_unlinked = [i[1] for i in all_unconnected_pairs]\n",
    "\n",
    "data = pd.DataFrame({'node_1':node_1_unlinked, \n",
    "                     'node_2':node_2_unlinked})\n",
    "\n",
    "# add target variable 'link'\n",
    "data['link'] = 0"
   ]
  },
  {
   "cell_type": "code",
   "execution_count": 201,
   "id": "aee2c0ca",
   "metadata": {},
   "outputs": [
    {
     "data": {
      "text/html": [
       "<div>\n",
       "<style scoped>\n",
       "    .dataframe tbody tr th:only-of-type {\n",
       "        vertical-align: middle;\n",
       "    }\n",
       "\n",
       "    .dataframe tbody tr th {\n",
       "        vertical-align: top;\n",
       "    }\n",
       "\n",
       "    .dataframe thead th {\n",
       "        text-align: right;\n",
       "    }\n",
       "</style>\n",
       "<table border=\"1\" class=\"dataframe\">\n",
       "  <thead>\n",
       "    <tr style=\"text-align: right;\">\n",
       "      <th></th>\n",
       "      <th>node_1</th>\n",
       "      <th>node_2</th>\n",
       "      <th>link</th>\n",
       "    </tr>\n",
       "  </thead>\n",
       "  <tbody>\n",
       "    <tr>\n",
       "      <th>0</th>\n",
       "      <td>0</td>\n",
       "      <td>48</td>\n",
       "      <td>0</td>\n",
       "    </tr>\n",
       "    <tr>\n",
       "      <th>1</th>\n",
       "      <td>0</td>\n",
       "      <td>77</td>\n",
       "      <td>0</td>\n",
       "    </tr>\n",
       "    <tr>\n",
       "      <th>2</th>\n",
       "      <td>0</td>\n",
       "      <td>93</td>\n",
       "      <td>0</td>\n",
       "    </tr>\n",
       "    <tr>\n",
       "      <th>3</th>\n",
       "      <td>0</td>\n",
       "      <td>100</td>\n",
       "      <td>0</td>\n",
       "    </tr>\n",
       "    <tr>\n",
       "      <th>4</th>\n",
       "      <td>0</td>\n",
       "      <td>102</td>\n",
       "      <td>0</td>\n",
       "    </tr>\n",
       "    <tr>\n",
       "      <th>...</th>\n",
       "      <td>...</td>\n",
       "      <td>...</td>\n",
       "      <td>...</td>\n",
       "    </tr>\n",
       "    <tr>\n",
       "      <th>1311</th>\n",
       "      <td>4</td>\n",
       "      <td>2616</td>\n",
       "      <td>0</td>\n",
       "    </tr>\n",
       "    <tr>\n",
       "      <th>1312</th>\n",
       "      <td>4</td>\n",
       "      <td>2709</td>\n",
       "      <td>0</td>\n",
       "    </tr>\n",
       "    <tr>\n",
       "      <th>1313</th>\n",
       "      <td>4</td>\n",
       "      <td>2802</td>\n",
       "      <td>0</td>\n",
       "    </tr>\n",
       "    <tr>\n",
       "      <th>1314</th>\n",
       "      <td>4</td>\n",
       "      <td>2824</td>\n",
       "      <td>0</td>\n",
       "    </tr>\n",
       "    <tr>\n",
       "      <th>1315</th>\n",
       "      <td>4</td>\n",
       "      <td>2837</td>\n",
       "      <td>0</td>\n",
       "    </tr>\n",
       "  </tbody>\n",
       "</table>\n",
       "<p>1316 rows × 3 columns</p>\n",
       "</div>"
      ],
      "text/plain": [
       "      node_1  node_2  link\n",
       "0          0      48     0\n",
       "1          0      77     0\n",
       "2          0      93     0\n",
       "3          0     100     0\n",
       "4          0     102     0\n",
       "...      ...     ...   ...\n",
       "1311       4    2616     0\n",
       "1312       4    2709     0\n",
       "1313       4    2802     0\n",
       "1314       4    2824     0\n",
       "1315       4    2837     0\n",
       "\n",
       "[1316 rows x 3 columns]"
      ]
     },
     "execution_count": 201,
     "metadata": {},
     "output_type": "execute_result"
    }
   ],
   "source": [
    "data"
   ]
  },
  {
   "cell_type": "code",
   "execution_count": 202,
   "id": "ca0a7c09",
   "metadata": {},
   "outputs": [
    {
     "data": {
      "text/plain": [
       "array([     0,      1,      2, ..., 183409, 183410, 183411], dtype=int64)"
      ]
     },
     "execution_count": 202,
     "metadata": {},
     "output_type": "execute_result"
    }
   ],
   "source": [
    "fb_df.index.values"
   ]
  },
  {
   "cell_type": "code",
   "execution_count": 203,
   "id": "4b758270",
   "metadata": {},
   "outputs": [
    {
     "name": "stderr",
     "output_type": "stream",
     "text": [
      "  0%|                                                                           | 90/183412 [01:31<51:49:21,  1.02s/it]\n"
     ]
    },
    {
     "ename": "KeyboardInterrupt",
     "evalue": "",
     "output_type": "error",
     "traceback": [
      "\u001b[1;31m---------------------------------------------------------------------------\u001b[0m",
      "\u001b[1;31mKeyboardInterrupt\u001b[0m                         Traceback (most recent call last)",
      "\u001b[1;32m~\\AppData\\Local\\Temp/ipykernel_15924/3784880936.py\u001b[0m in \u001b[0;36m<module>\u001b[1;34m\u001b[0m\n\u001b[0;32m      9\u001b[0m \u001b[1;33m\u001b[0m\u001b[0m\n\u001b[0;32m     10\u001b[0m   \u001b[1;31m# remove a node pair and build a new graph\u001b[0m\u001b[1;33m\u001b[0m\u001b[1;33m\u001b[0m\u001b[0m\n\u001b[1;32m---> 11\u001b[1;33m     \u001b[0mG_temp\u001b[0m \u001b[1;33m=\u001b[0m \u001b[0mnx\u001b[0m\u001b[1;33m.\u001b[0m\u001b[0mfrom_pandas_edgelist\u001b[0m\u001b[1;33m(\u001b[0m\u001b[0mfb_df_temp\u001b[0m\u001b[1;33m.\u001b[0m\u001b[0mdrop\u001b[0m\u001b[1;33m(\u001b[0m\u001b[0mindex\u001b[0m \u001b[1;33m=\u001b[0m \u001b[0mi\u001b[0m\u001b[1;33m)\u001b[0m\u001b[1;33m,\u001b[0m \u001b[1;34m\"node_1\"\u001b[0m\u001b[1;33m,\u001b[0m \u001b[1;34m\"node_2\"\u001b[0m\u001b[1;33m,\u001b[0m \u001b[0mcreate_using\u001b[0m\u001b[1;33m=\u001b[0m\u001b[0mnx\u001b[0m\u001b[1;33m.\u001b[0m\u001b[0mGraph\u001b[0m\u001b[1;33m(\u001b[0m\u001b[1;33m)\u001b[0m\u001b[1;33m)\u001b[0m\u001b[1;33m\u001b[0m\u001b[1;33m\u001b[0m\u001b[0m\n\u001b[0m\u001b[0;32m     12\u001b[0m \u001b[1;33m\u001b[0m\u001b[0m\n\u001b[0;32m     13\u001b[0m   \u001b[1;31m# check there is no spliting of graph and number of nodes is same\u001b[0m\u001b[1;33m\u001b[0m\u001b[1;33m\u001b[0m\u001b[0m\n",
      "\u001b[1;32m~\\anaconda3\\lib\\site-packages\\networkx\\convert_matrix.py\u001b[0m in \u001b[0;36mfrom_pandas_edgelist\u001b[1;34m(df, source, target, edge_attr, create_using, edge_key)\u001b[0m\n\u001b[0;32m    425\u001b[0m \u001b[1;33m\u001b[0m\u001b[0m\n\u001b[0;32m    426\u001b[0m     \u001b[1;32mif\u001b[0m \u001b[0medge_attr\u001b[0m \u001b[1;32mis\u001b[0m \u001b[1;32mNone\u001b[0m\u001b[1;33m:\u001b[0m\u001b[1;33m\u001b[0m\u001b[1;33m\u001b[0m\u001b[0m\n\u001b[1;32m--> 427\u001b[1;33m         \u001b[0mg\u001b[0m\u001b[1;33m.\u001b[0m\u001b[0madd_edges_from\u001b[0m\u001b[1;33m(\u001b[0m\u001b[0mzip\u001b[0m\u001b[1;33m(\u001b[0m\u001b[0mdf\u001b[0m\u001b[1;33m[\u001b[0m\u001b[0msource\u001b[0m\u001b[1;33m]\u001b[0m\u001b[1;33m,\u001b[0m \u001b[0mdf\u001b[0m\u001b[1;33m[\u001b[0m\u001b[0mtarget\u001b[0m\u001b[1;33m]\u001b[0m\u001b[1;33m)\u001b[0m\u001b[1;33m)\u001b[0m\u001b[1;33m\u001b[0m\u001b[1;33m\u001b[0m\u001b[0m\n\u001b[0m\u001b[0;32m    428\u001b[0m         \u001b[1;32mreturn\u001b[0m \u001b[0mg\u001b[0m\u001b[1;33m\u001b[0m\u001b[1;33m\u001b[0m\u001b[0m\n\u001b[0;32m    429\u001b[0m \u001b[1;33m\u001b[0m\u001b[0m\n",
      "\u001b[1;32m~\\anaconda3\\lib\\site-packages\\networkx\\classes\\graph.py\u001b[0m in \u001b[0;36madd_edges_from\u001b[1;34m(self, ebunch_to_add, **attr)\u001b[0m\n\u001b[0;32m    932\u001b[0m         \"\"\"\n\u001b[0;32m    933\u001b[0m         \u001b[1;32mfor\u001b[0m \u001b[0me\u001b[0m \u001b[1;32min\u001b[0m \u001b[0mebunch_to_add\u001b[0m\u001b[1;33m:\u001b[0m\u001b[1;33m\u001b[0m\u001b[1;33m\u001b[0m\u001b[0m\n\u001b[1;32m--> 934\u001b[1;33m             \u001b[0mne\u001b[0m \u001b[1;33m=\u001b[0m \u001b[0mlen\u001b[0m\u001b[1;33m(\u001b[0m\u001b[0me\u001b[0m\u001b[1;33m)\u001b[0m\u001b[1;33m\u001b[0m\u001b[1;33m\u001b[0m\u001b[0m\n\u001b[0m\u001b[0;32m    935\u001b[0m             \u001b[1;32mif\u001b[0m \u001b[0mne\u001b[0m \u001b[1;33m==\u001b[0m \u001b[1;36m3\u001b[0m\u001b[1;33m:\u001b[0m\u001b[1;33m\u001b[0m\u001b[1;33m\u001b[0m\u001b[0m\n\u001b[0;32m    936\u001b[0m                 \u001b[0mu\u001b[0m\u001b[1;33m,\u001b[0m \u001b[0mv\u001b[0m\u001b[1;33m,\u001b[0m \u001b[0mdd\u001b[0m \u001b[1;33m=\u001b[0m \u001b[0me\u001b[0m\u001b[1;33m\u001b[0m\u001b[1;33m\u001b[0m\u001b[0m\n",
      "\u001b[1;31mKeyboardInterrupt\u001b[0m: "
     ]
    }
   ],
   "source": [
    "initial_node_count = len(G.nodes)\n",
    "\n",
    "fb_df_temp = fb_df.copy()\n",
    "\n",
    "# empty list to store removable links\n",
    "omissible_links_index = []\n",
    "\n",
    "for i in tqdm(fb_df.index.values):\n",
    "  \n",
    "  # remove a node pair and build a new graph\n",
    "    G_temp = nx.from_pandas_edgelist(fb_df_temp.drop(index = i), \"node_1\", \"node_2\", create_using=nx.Graph())\n",
    "  \n",
    "  # check there is no spliting of graph and number of nodes is same\n",
    "    if (nx.number_connected_components(G_temp) == 1) and (len(G_temp.nodes) == initial_node_count):\n",
    "        omissible_links_index.append(i)\n",
    "        fb_df_temp = fb_df_temp.drop(index = i)"
   ]
  },
  {
   "cell_type": "code",
   "execution_count": 204,
   "id": "5609316b",
   "metadata": {},
   "outputs": [
    {
     "data": {
      "text/plain": [
       "0"
      ]
     },
     "execution_count": 204,
     "metadata": {},
     "output_type": "execute_result"
    }
   ],
   "source": [
    "len(omissible_links_index)"
   ]
  },
  {
   "cell_type": "code",
   "execution_count": 205,
   "id": "b4663346",
   "metadata": {},
   "outputs": [],
   "source": [
    "# create dataframe of removable edges\n",
    "fb_df_ghost = fb_df.loc[omissible_links_index]\n",
    "\n",
    "# add the target variable 'link'\n",
    "fb_df_ghost['link'] = 1\n",
    "data = []\n",
    "data = data.append(fb_df_ghost[['node_1', 'node_2', 'link']])"
   ]
  },
  {
   "cell_type": "code",
   "execution_count": 180,
   "id": "04902ea5",
   "metadata": {},
   "outputs": [],
   "source": [
    "#data['link'].value_counts()"
   ]
  },
  {
   "cell_type": "code",
   "execution_count": 206,
   "id": "eb06d22b",
   "metadata": {},
   "outputs": [
    {
     "name": "stdout",
     "output_type": "stream",
     "text": [
      "None\n"
     ]
    }
   ],
   "source": [
    "print(data)"
   ]
  },
  {
   "cell_type": "code",
   "execution_count": 207,
   "id": "0f6b0bf0",
   "metadata": {},
   "outputs": [],
   "source": [
    "# drop removable edges\n",
    "fb_df_partial = fb_df.drop(index=fb_df_ghost.index.values)\n",
    "\n",
    "# build graph\n",
    "G_data = nx.from_pandas_edgelist(fb_df_partial, \"node_1\", \"node_2\", create_using=nx.Graph())"
   ]
  },
  {
   "cell_type": "code",
   "execution_count": 210,
   "id": "ad4b9524",
   "metadata": {},
   "outputs": [
    {
     "name": "stdout",
     "output_type": "stream",
     "text": [
      "Graph with 45813 nodes and 183412 edges\n"
     ]
    }
   ],
   "source": [
    "print(G_data)"
   ]
  },
  {
   "cell_type": "code",
   "execution_count": 208,
   "id": "2da8a868",
   "metadata": {},
   "outputs": [
    {
     "data": {
      "application/vnd.jupyter.widget-view+json": {
       "model_id": "c9b31ea2b99c4a12b863d4af33b60937",
       "version_major": 2,
       "version_minor": 0
      },
      "text/plain": [
       "Computing transition probabilities:   0%|          | 0/45813 [00:00<?, ?it/s]"
      ]
     },
     "metadata": {},
     "output_type": "display_data"
    },
    {
     "name": "stderr",
     "output_type": "stream",
     "text": [
      "Generating walks (CPU: 1): 100%|███████████████████████████████████████████████████████| 50/50 [03:53<00:00,  4.68s/it]\n"
     ]
    },
    {
     "ename": "KeyboardInterrupt",
     "evalue": "",
     "output_type": "error",
     "traceback": [
      "\u001b[1;31m---------------------------------------------------------------------------\u001b[0m",
      "\u001b[1;31mKeyboardInterrupt\u001b[0m                         Traceback (most recent call last)",
      "\u001b[1;32m~\\AppData\\Local\\Temp/ipykernel_15924/3387279163.py\u001b[0m in \u001b[0;36m<module>\u001b[1;34m\u001b[0m\n\u001b[0;32m      5\u001b[0m \u001b[1;33m\u001b[0m\u001b[0m\n\u001b[0;32m      6\u001b[0m \u001b[1;31m# train node2vec model\u001b[0m\u001b[1;33m\u001b[0m\u001b[1;33m\u001b[0m\u001b[0m\n\u001b[1;32m----> 7\u001b[1;33m \u001b[0mn2w_model\u001b[0m \u001b[1;33m=\u001b[0m \u001b[0mnode2vec\u001b[0m\u001b[1;33m.\u001b[0m\u001b[0mfit\u001b[0m\u001b[1;33m(\u001b[0m\u001b[0mwindow\u001b[0m\u001b[1;33m=\u001b[0m\u001b[1;36m7\u001b[0m\u001b[1;33m,\u001b[0m \u001b[0mmin_count\u001b[0m\u001b[1;33m=\u001b[0m\u001b[1;36m1\u001b[0m\u001b[1;33m)\u001b[0m\u001b[1;33m\u001b[0m\u001b[1;33m\u001b[0m\u001b[0m\n\u001b[0m",
      "\u001b[1;32m~\\anaconda3\\lib\\site-packages\\node2vec\\node2vec.py\u001b[0m in \u001b[0;36mfit\u001b[1;34m(self, **skip_gram_params)\u001b[0m\n\u001b[0;32m    197\u001b[0m             \u001b[0mskip_gram_params\u001b[0m\u001b[1;33m[\u001b[0m\u001b[1;34m'sg'\u001b[0m\u001b[1;33m]\u001b[0m \u001b[1;33m=\u001b[0m \u001b[1;36m1\u001b[0m\u001b[1;33m\u001b[0m\u001b[1;33m\u001b[0m\u001b[0m\n\u001b[0;32m    198\u001b[0m \u001b[1;33m\u001b[0m\u001b[0m\n\u001b[1;32m--> 199\u001b[1;33m         \u001b[1;32mreturn\u001b[0m \u001b[0mgensim\u001b[0m\u001b[1;33m.\u001b[0m\u001b[0mmodels\u001b[0m\u001b[1;33m.\u001b[0m\u001b[0mWord2Vec\u001b[0m\u001b[1;33m(\u001b[0m\u001b[0mself\u001b[0m\u001b[1;33m.\u001b[0m\u001b[0mwalks\u001b[0m\u001b[1;33m,\u001b[0m \u001b[1;33m**\u001b[0m\u001b[0mskip_gram_params\u001b[0m\u001b[1;33m)\u001b[0m\u001b[1;33m\u001b[0m\u001b[1;33m\u001b[0m\u001b[0m\n\u001b[0m",
      "\u001b[1;32m~\\anaconda3\\lib\\site-packages\\gensim\\models\\word2vec.py\u001b[0m in \u001b[0;36m__init__\u001b[1;34m(self, sentences, corpus_file, vector_size, alpha, window, min_count, max_vocab_size, sample, seed, workers, min_alpha, sg, hs, negative, ns_exponent, cbow_mean, hashfxn, epochs, null_word, trim_rule, sorted_vocab, batch_words, compute_loss, callbacks, comment, max_final_vocab, shrink_windows)\u001b[0m\n\u001b[0;32m    425\u001b[0m             \u001b[0mself\u001b[0m\u001b[1;33m.\u001b[0m\u001b[0m_check_corpus_sanity\u001b[0m\u001b[1;33m(\u001b[0m\u001b[0mcorpus_iterable\u001b[0m\u001b[1;33m=\u001b[0m\u001b[0mcorpus_iterable\u001b[0m\u001b[1;33m,\u001b[0m \u001b[0mcorpus_file\u001b[0m\u001b[1;33m=\u001b[0m\u001b[0mcorpus_file\u001b[0m\u001b[1;33m,\u001b[0m \u001b[0mpasses\u001b[0m\u001b[1;33m=\u001b[0m\u001b[1;33m(\u001b[0m\u001b[0mepochs\u001b[0m \u001b[1;33m+\u001b[0m \u001b[1;36m1\u001b[0m\u001b[1;33m)\u001b[0m\u001b[1;33m)\u001b[0m\u001b[1;33m\u001b[0m\u001b[1;33m\u001b[0m\u001b[0m\n\u001b[0;32m    426\u001b[0m             \u001b[0mself\u001b[0m\u001b[1;33m.\u001b[0m\u001b[0mbuild_vocab\u001b[0m\u001b[1;33m(\u001b[0m\u001b[0mcorpus_iterable\u001b[0m\u001b[1;33m=\u001b[0m\u001b[0mcorpus_iterable\u001b[0m\u001b[1;33m,\u001b[0m \u001b[0mcorpus_file\u001b[0m\u001b[1;33m=\u001b[0m\u001b[0mcorpus_file\u001b[0m\u001b[1;33m,\u001b[0m \u001b[0mtrim_rule\u001b[0m\u001b[1;33m=\u001b[0m\u001b[0mtrim_rule\u001b[0m\u001b[1;33m)\u001b[0m\u001b[1;33m\u001b[0m\u001b[1;33m\u001b[0m\u001b[0m\n\u001b[1;32m--> 427\u001b[1;33m             self.train(\n\u001b[0m\u001b[0;32m    428\u001b[0m                 \u001b[0mcorpus_iterable\u001b[0m\u001b[1;33m=\u001b[0m\u001b[0mcorpus_iterable\u001b[0m\u001b[1;33m,\u001b[0m \u001b[0mcorpus_file\u001b[0m\u001b[1;33m=\u001b[0m\u001b[0mcorpus_file\u001b[0m\u001b[1;33m,\u001b[0m \u001b[0mtotal_examples\u001b[0m\u001b[1;33m=\u001b[0m\u001b[0mself\u001b[0m\u001b[1;33m.\u001b[0m\u001b[0mcorpus_count\u001b[0m\u001b[1;33m,\u001b[0m\u001b[1;33m\u001b[0m\u001b[1;33m\u001b[0m\u001b[0m\n\u001b[0;32m    429\u001b[0m                 \u001b[0mtotal_words\u001b[0m\u001b[1;33m=\u001b[0m\u001b[0mself\u001b[0m\u001b[1;33m.\u001b[0m\u001b[0mcorpus_total_words\u001b[0m\u001b[1;33m,\u001b[0m \u001b[0mepochs\u001b[0m\u001b[1;33m=\u001b[0m\u001b[0mself\u001b[0m\u001b[1;33m.\u001b[0m\u001b[0mepochs\u001b[0m\u001b[1;33m,\u001b[0m \u001b[0mstart_alpha\u001b[0m\u001b[1;33m=\u001b[0m\u001b[0mself\u001b[0m\u001b[1;33m.\u001b[0m\u001b[0malpha\u001b[0m\u001b[1;33m,\u001b[0m\u001b[1;33m\u001b[0m\u001b[1;33m\u001b[0m\u001b[0m\n",
      "\u001b[1;32m~\\anaconda3\\lib\\site-packages\\gensim\\models\\word2vec.py\u001b[0m in \u001b[0;36mtrain\u001b[1;34m(self, corpus_iterable, corpus_file, total_examples, total_words, epochs, start_alpha, end_alpha, word_count, queue_factor, report_delay, compute_loss, callbacks, **kwargs)\u001b[0m\n\u001b[0;32m   1068\u001b[0m \u001b[1;33m\u001b[0m\u001b[0m\n\u001b[0;32m   1069\u001b[0m             \u001b[1;32mif\u001b[0m \u001b[0mcorpus_iterable\u001b[0m \u001b[1;32mis\u001b[0m \u001b[1;32mnot\u001b[0m \u001b[1;32mNone\u001b[0m\u001b[1;33m:\u001b[0m\u001b[1;33m\u001b[0m\u001b[1;33m\u001b[0m\u001b[0m\n\u001b[1;32m-> 1070\u001b[1;33m                 trained_word_count_epoch, raw_word_count_epoch, job_tally_epoch = self._train_epoch(\n\u001b[0m\u001b[0;32m   1071\u001b[0m                     \u001b[0mcorpus_iterable\u001b[0m\u001b[1;33m,\u001b[0m \u001b[0mcur_epoch\u001b[0m\u001b[1;33m=\u001b[0m\u001b[0mcur_epoch\u001b[0m\u001b[1;33m,\u001b[0m \u001b[0mtotal_examples\u001b[0m\u001b[1;33m=\u001b[0m\u001b[0mtotal_examples\u001b[0m\u001b[1;33m,\u001b[0m\u001b[1;33m\u001b[0m\u001b[1;33m\u001b[0m\u001b[0m\n\u001b[0;32m   1072\u001b[0m                     \u001b[0mtotal_words\u001b[0m\u001b[1;33m=\u001b[0m\u001b[0mtotal_words\u001b[0m\u001b[1;33m,\u001b[0m \u001b[0mqueue_factor\u001b[0m\u001b[1;33m=\u001b[0m\u001b[0mqueue_factor\u001b[0m\u001b[1;33m,\u001b[0m \u001b[0mreport_delay\u001b[0m\u001b[1;33m=\u001b[0m\u001b[0mreport_delay\u001b[0m\u001b[1;33m,\u001b[0m\u001b[1;33m\u001b[0m\u001b[1;33m\u001b[0m\u001b[0m\n",
      "\u001b[1;32m~\\anaconda3\\lib\\site-packages\\gensim\\models\\word2vec.py\u001b[0m in \u001b[0;36m_train_epoch\u001b[1;34m(self, data_iterable, cur_epoch, total_examples, total_words, queue_factor, report_delay, callbacks)\u001b[0m\n\u001b[0;32m   1429\u001b[0m             \u001b[0mthread\u001b[0m\u001b[1;33m.\u001b[0m\u001b[0mstart\u001b[0m\u001b[1;33m(\u001b[0m\u001b[1;33m)\u001b[0m\u001b[1;33m\u001b[0m\u001b[1;33m\u001b[0m\u001b[0m\n\u001b[0;32m   1430\u001b[0m \u001b[1;33m\u001b[0m\u001b[0m\n\u001b[1;32m-> 1431\u001b[1;33m         trained_word_count, raw_word_count, job_tally = self._log_epoch_progress(\n\u001b[0m\u001b[0;32m   1432\u001b[0m             \u001b[0mprogress_queue\u001b[0m\u001b[1;33m,\u001b[0m \u001b[0mjob_queue\u001b[0m\u001b[1;33m,\u001b[0m \u001b[0mcur_epoch\u001b[0m\u001b[1;33m=\u001b[0m\u001b[0mcur_epoch\u001b[0m\u001b[1;33m,\u001b[0m \u001b[0mtotal_examples\u001b[0m\u001b[1;33m=\u001b[0m\u001b[0mtotal_examples\u001b[0m\u001b[1;33m,\u001b[0m\u001b[1;33m\u001b[0m\u001b[1;33m\u001b[0m\u001b[0m\n\u001b[0;32m   1433\u001b[0m             \u001b[0mtotal_words\u001b[0m\u001b[1;33m=\u001b[0m\u001b[0mtotal_words\u001b[0m\u001b[1;33m,\u001b[0m \u001b[0mreport_delay\u001b[0m\u001b[1;33m=\u001b[0m\u001b[0mreport_delay\u001b[0m\u001b[1;33m,\u001b[0m \u001b[0mis_corpus_file_mode\u001b[0m\u001b[1;33m=\u001b[0m\u001b[1;32mFalse\u001b[0m\u001b[1;33m,\u001b[0m\u001b[1;33m\u001b[0m\u001b[1;33m\u001b[0m\u001b[0m\n",
      "\u001b[1;32m~\\anaconda3\\lib\\site-packages\\gensim\\models\\word2vec.py\u001b[0m in \u001b[0;36m_log_epoch_progress\u001b[1;34m(self, progress_queue, job_queue, cur_epoch, total_examples, total_words, report_delay, is_corpus_file_mode)\u001b[0m\n\u001b[0;32m   1284\u001b[0m \u001b[1;33m\u001b[0m\u001b[0m\n\u001b[0;32m   1285\u001b[0m         \u001b[1;32mwhile\u001b[0m \u001b[0munfinished_worker_count\u001b[0m \u001b[1;33m>\u001b[0m \u001b[1;36m0\u001b[0m\u001b[1;33m:\u001b[0m\u001b[1;33m\u001b[0m\u001b[1;33m\u001b[0m\u001b[0m\n\u001b[1;32m-> 1286\u001b[1;33m             \u001b[0mreport\u001b[0m \u001b[1;33m=\u001b[0m \u001b[0mprogress_queue\u001b[0m\u001b[1;33m.\u001b[0m\u001b[0mget\u001b[0m\u001b[1;33m(\u001b[0m\u001b[1;33m)\u001b[0m  \u001b[1;31m# blocks if workers too slow\u001b[0m\u001b[1;33m\u001b[0m\u001b[1;33m\u001b[0m\u001b[0m\n\u001b[0m\u001b[0;32m   1287\u001b[0m             \u001b[1;32mif\u001b[0m \u001b[0mreport\u001b[0m \u001b[1;32mis\u001b[0m \u001b[1;32mNone\u001b[0m\u001b[1;33m:\u001b[0m  \u001b[1;31m# a thread reporting that it finished\u001b[0m\u001b[1;33m\u001b[0m\u001b[1;33m\u001b[0m\u001b[0m\n\u001b[0;32m   1288\u001b[0m                 \u001b[0munfinished_worker_count\u001b[0m \u001b[1;33m-=\u001b[0m \u001b[1;36m1\u001b[0m\u001b[1;33m\u001b[0m\u001b[1;33m\u001b[0m\u001b[0m\n",
      "\u001b[1;32m~\\anaconda3\\lib\\queue.py\u001b[0m in \u001b[0;36mget\u001b[1;34m(self, block, timeout)\u001b[0m\n\u001b[0;32m    169\u001b[0m             \u001b[1;32melif\u001b[0m \u001b[0mtimeout\u001b[0m \u001b[1;32mis\u001b[0m \u001b[1;32mNone\u001b[0m\u001b[1;33m:\u001b[0m\u001b[1;33m\u001b[0m\u001b[1;33m\u001b[0m\u001b[0m\n\u001b[0;32m    170\u001b[0m                 \u001b[1;32mwhile\u001b[0m \u001b[1;32mnot\u001b[0m \u001b[0mself\u001b[0m\u001b[1;33m.\u001b[0m\u001b[0m_qsize\u001b[0m\u001b[1;33m(\u001b[0m\u001b[1;33m)\u001b[0m\u001b[1;33m:\u001b[0m\u001b[1;33m\u001b[0m\u001b[1;33m\u001b[0m\u001b[0m\n\u001b[1;32m--> 171\u001b[1;33m                     \u001b[0mself\u001b[0m\u001b[1;33m.\u001b[0m\u001b[0mnot_empty\u001b[0m\u001b[1;33m.\u001b[0m\u001b[0mwait\u001b[0m\u001b[1;33m(\u001b[0m\u001b[1;33m)\u001b[0m\u001b[1;33m\u001b[0m\u001b[1;33m\u001b[0m\u001b[0m\n\u001b[0m\u001b[0;32m    172\u001b[0m             \u001b[1;32melif\u001b[0m \u001b[0mtimeout\u001b[0m \u001b[1;33m<\u001b[0m \u001b[1;36m0\u001b[0m\u001b[1;33m:\u001b[0m\u001b[1;33m\u001b[0m\u001b[1;33m\u001b[0m\u001b[0m\n\u001b[0;32m    173\u001b[0m                 \u001b[1;32mraise\u001b[0m \u001b[0mValueError\u001b[0m\u001b[1;33m(\u001b[0m\u001b[1;34m\"'timeout' must be a non-negative number\"\u001b[0m\u001b[1;33m)\u001b[0m\u001b[1;33m\u001b[0m\u001b[1;33m\u001b[0m\u001b[0m\n",
      "\u001b[1;32m~\\anaconda3\\lib\\threading.py\u001b[0m in \u001b[0;36mwait\u001b[1;34m(self, timeout)\u001b[0m\n\u001b[0;32m    310\u001b[0m         \u001b[1;32mtry\u001b[0m\u001b[1;33m:\u001b[0m    \u001b[1;31m# restore state no matter what (e.g., KeyboardInterrupt)\u001b[0m\u001b[1;33m\u001b[0m\u001b[1;33m\u001b[0m\u001b[0m\n\u001b[0;32m    311\u001b[0m             \u001b[1;32mif\u001b[0m \u001b[0mtimeout\u001b[0m \u001b[1;32mis\u001b[0m \u001b[1;32mNone\u001b[0m\u001b[1;33m:\u001b[0m\u001b[1;33m\u001b[0m\u001b[1;33m\u001b[0m\u001b[0m\n\u001b[1;32m--> 312\u001b[1;33m                 \u001b[0mwaiter\u001b[0m\u001b[1;33m.\u001b[0m\u001b[0macquire\u001b[0m\u001b[1;33m(\u001b[0m\u001b[1;33m)\u001b[0m\u001b[1;33m\u001b[0m\u001b[1;33m\u001b[0m\u001b[0m\n\u001b[0m\u001b[0;32m    313\u001b[0m                 \u001b[0mgotit\u001b[0m \u001b[1;33m=\u001b[0m \u001b[1;32mTrue\u001b[0m\u001b[1;33m\u001b[0m\u001b[1;33m\u001b[0m\u001b[0m\n\u001b[0;32m    314\u001b[0m             \u001b[1;32melse\u001b[0m\u001b[1;33m:\u001b[0m\u001b[1;33m\u001b[0m\u001b[1;33m\u001b[0m\u001b[0m\n",
      "\u001b[1;31mKeyboardInterrupt\u001b[0m: "
     ]
    }
   ],
   "source": [
    "from node2vec import Node2Vec\n",
    "\n",
    "# Generate walks\n",
    "node2vec = Node2Vec(G_data, dimensions=100, walk_length=16, num_walks=50)\n",
    "\n",
    "# train node2vec model\n",
    "n2w_model = node2vec.fit(window=7, min_count=1)"
   ]
  },
  {
   "cell_type": "code",
   "execution_count": 184,
   "id": "aa74aa88",
   "metadata": {},
   "outputs": [
    {
     "name": "stdout",
     "output_type": "stream",
     "text": [
      "Word2Vec<vocab=188, vector_size=100, alpha=0.025>\n"
     ]
    }
   ],
   "source": [
    "print(n2w_model)"
   ]
  },
  {
   "cell_type": "code",
   "execution_count": null,
   "id": "dbc4e056",
   "metadata": {},
   "outputs": [],
   "source": [
    "x = [(n2w_model.wv[i]+n2w_model.wv[j]) for i,j in zip(data['node_1'], data['node_2'])]"
   ]
  },
  {
   "cell_type": "code",
   "execution_count": null,
   "id": "94c636f6",
   "metadata": {},
   "outputs": [],
   "source": [
    "#node_1 = np.asarray(node_list_1).reshape(-1, 1)\n",
    "#node_2 = np.asarray(node_list_2)\n",
    "xtrain, xtest, ytrain, ytest = train_test_split(np.array(node_list_1).reshape(-1, 1), np.array(node_list_2),\n",
    "                                                test_size = 0.3, \n",
    "                                                random_state = 35)"
   ]
  },
  {
   "cell_type": "code",
   "execution_count": null,
   "id": "bc78216c",
   "metadata": {},
   "outputs": [],
   "source": [
    "from sklearn.linear_model import LinearRegression\n",
    "\n",
    "linearRegression = LinearRegression()\n",
    "\n",
    "linearRegression.fit(xtrain, ytrain)"
   ]
  },
  {
   "cell_type": "code",
   "execution_count": null,
   "id": "cd7982f4",
   "metadata": {},
   "outputs": [],
   "source": [
    "predictions = lr.predict_proba(xtest)"
   ]
  },
  {
   "cell_type": "code",
   "execution_count": null,
   "id": "b037b8da",
   "metadata": {},
   "outputs": [],
   "source": [
    "predictions"
   ]
  },
  {
   "cell_type": "code",
   "execution_count": null,
   "id": "7b4690f9",
   "metadata": {},
   "outputs": [],
   "source": [
    "np.shape(predictions)"
   ]
  },
  {
   "cell_type": "code",
   "execution_count": null,
   "id": "8ed30f87",
   "metadata": {},
   "outputs": [],
   "source": [
    "np.shape(ytest)"
   ]
  },
  {
   "cell_type": "code",
   "execution_count": null,
   "id": "a32978ae",
   "metadata": {},
   "outputs": [],
   "source": [
    "roc_auc_score(ytest, predictions[:,1], multi_class = 'ovr')"
   ]
  },
  {
   "cell_type": "code",
   "execution_count": null,
   "id": "b9158733",
   "metadata": {},
   "outputs": [],
   "source": [
    "import lightgbm as lgbm\n",
    "train_data = lgbm.Dataset(xtrain, ytrain)\n",
    "test_data = lgbm.Dataset(xtest, ytest)\n",
    "\n",
    "# define parameters\n",
    "parameters = {\n",
    "    'objective': 'binary',\n",
    "    'metric': 'auc',\n",
    "    'is_unbalance': 'true',\n",
    "    'feature_fraction': 0.5,\n",
    "    'bagging_fraction': 0.5,\n",
    "    'bagging_freq': 20,\n",
    "    'num_threads' : 2,\n",
    "    'seed' : 76\n",
    "}\n",
    "\n",
    "# train lightGBM model\n",
    "model = lgbm.train(parameters,\n",
    "                   train_data,\n",
    "                   valid_sets=test_data,\n",
    "                   num_boost_round=1000,\n",
    "                   early_stopping_rounds=20)"
   ]
  }
 ],
 "metadata": {
  "kernelspec": {
   "display_name": "Python 3 (ipykernel)",
   "language": "python",
   "name": "python3"
  },
  "language_info": {
   "codemirror_mode": {
    "name": "ipython",
    "version": 3
   },
   "file_extension": ".py",
   "mimetype": "text/x-python",
   "name": "python",
   "nbconvert_exporter": "python",
   "pygments_lexer": "ipython3",
   "version": "3.9.7"
  }
 },
 "nbformat": 4,
 "nbformat_minor": 5
}
